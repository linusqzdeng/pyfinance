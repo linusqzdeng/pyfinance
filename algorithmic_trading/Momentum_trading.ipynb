{
 "cells": [
  {
   "cell_type": "code",
   "execution_count": 1,
   "metadata": {},
   "outputs": [],
   "source": [
    "import pandas as pd \n",
    "import numpy as np \n",
    "import requests\n",
    "import xlsxwriter\n",
    "from scipy import stats"
   ]
  },
  {
   "cell_type": "code",
   "execution_count": 2,
   "metadata": {},
   "outputs": [],
   "source": [
    "stocks = pd.read_csv('sp_500_stocks.csv')\n",
    "from secrets import IEX_CLOUD_API_TOKEN"
   ]
  },
  {
   "cell_type": "markdown",
   "metadata": {},
   "source": [
    "# Key stats of stocks"
   ]
  },
  {
   "cell_type": "code",
   "execution_count": 3,
   "metadata": {},
   "outputs": [
    {
     "data": {
      "text/plain": [
       "{'companyName': 'Apple Inc',\n",
       " 'marketcap': 2143237763361,\n",
       " 'week52high': 137.99,\n",
       " 'week52low': 57.98,\n",
       " 'week52change': 0.6229180833518945,\n",
       " 'sharesOutstanding': 16854465075,\n",
       " 'float': 0,\n",
       " 'avg10Volume': 97501160,\n",
       " 'avg30Volume': 113577635,\n",
       " 'day200MovingAvg': 121.11,\n",
       " 'day50MovingAvg': 130.43,\n",
       " 'employees': 137203,\n",
       " 'ttmEPS': 3.36,\n",
       " 'ttmDividendRate': 0.8356770477054674,\n",
       " 'dividendYield': 0.006608771436877497,\n",
       " 'nextDividendDate': '0',\n",
       " 'exDividendDate': '2020-10-28',\n",
       " 'nextEarningsDate': '0',\n",
       " 'peRatio': 38.57455202533555,\n",
       " 'beta': 1.1662154741040929,\n",
       " 'maxChangePercent': 49.36986268010966,\n",
       " 'year5ChangePercent': 4.761728511252056,\n",
       " 'year2ChangePercent': 2.3284436028197484,\n",
       " 'year1ChangePercent': 0.6261039403145139,\n",
       " 'ytdChangePercent': -0.04383901535880652,\n",
       " 'month6ChangePercent': 0.3325947179800736,\n",
       " 'month3ChangePercent': 0.07316887557694798,\n",
       " 'month1ChangePercent': 0.004012780371855685,\n",
       " 'day30ChangePercent': 0.003858066333610263,\n",
       " 'day5ChangePercent': -0.014893370002610732}"
      ]
     },
     "execution_count": 3,
     "metadata": {},
     "output_type": "execute_result"
    }
   ],
   "source": [
    "symbol = 'AAPL'\n",
    "url = f'https://sandbox.iexapis.com/stable/stock/{symbol}/stats?token={IEX_CLOUD_API_TOKEN}'\n",
    "data = requests.get(url).json()\n",
    "data"
   ]
  },
  {
   "cell_type": "markdown",
   "metadata": {},
   "source": [
    "# Split the symbols into sublists and use the Batch API call"
   ]
  },
  {
   "cell_type": "code",
   "execution_count": 4,
   "metadata": {},
   "outputs": [
    {
     "data": {
      "text/plain": [
       "['A,AAL,AAP,AAPL,ABBV,ABC,ABMD,ABT,ACN,ADBE,ADI,ADM,ADP,ADSK,AEE,AEP,AES,AFL,AIG,AIV,AIZ,AJG,AKAM,ALB,ALGN,ALK,ALL,ALLE,ALXN,AMAT,AMCR,AMD,AME,AMGN,AMP,AMT,AMZN,ANET,ANSS,ANTM,AON,AOS,APA,APD,APH,APTV,ARE,ATO,ATVI,AVB,AVGO,AVY,AWK,AXP,AZO,BA,BAC,BAX,BBY,BDX,BEN,BF.B,BIIB,BIO,BK,BKNG,BKR,BLK,BLL,BMY,BR,BRK.B,BSX,BWA,BXP,C,CAG,CAH,CARR,CAT,CB,CBOE,CBRE,CCI,CCL,CDNS,CDW,CE,CERN,CF,CFG,CHD,CHRW,CHTR,CI,CINF,CL,CLX,CMA,CMCSA',\n",
       " 'CME,CMG,CMI,CMS,CNC,CNP,COF,COG,COO,COP,COST,COTY,CPB,CPRT,CRM,CSCO,CSX,CTAS,CTL,CTSH,CTVA,CTXS,CVS,CVX,CXO,D,DAL,DD,DE,DFS,DG,DGX,DHI,DHR,DIS,DISCA,DISCK,DISH,DLR,DLTR,DOV,DOW,DPZ,DRE,DRI,DTE,DUK,DVA,DVN,DXC,DXCM,EA,EBAY,ECL,ED,EFX,EIX,EL,EMN,EMR,EOG,EQIX,EQR,ES,ESS,ETFC,ETN,ETR,EVRG,EW,EXC,EXPD,EXPE,EXR,F,FANG,FAST,FB,FBHS,FCX,FDX,FE,FFIV,FIS,FISV,FITB,FLIR,FLS,FLT,FMC,FOX,FOXA,FRC,FRT,FTI,FTNT,FTV,GD,GE,GILD',\n",
       " 'GIS,GL,GLW,GM,GOOG,GOOGL,GPC,GPN,GPS,GRMN,GS,GWW,HAL,HAS,HBAN,HBI,HCA,HD,HES,HFC,HIG,HII,HLT,HOLX,HON,HPE,HPQ,HRB,HRL,HSIC,HST,HSY,HUM,HWM,IBM,ICE,IDXX,IEX,IFF,ILMN,INCY,INFO,INTC,INTU,IP,IPG,IPGP,IQV,IR,IRM,ISRG,IT,ITW,IVZ,J,JBHT,JCI,JKHY,JNJ,JNPR,JPM,K,KEY,KEYS,KHC,KIM,KLAC,KMB,KMI,KMX,KO,KR,KSS,KSU,L,LB,LDOS,LEG,LEN,LH,LHX,LIN,LKQ,LLY,LMT,LNC,LNT,LOW,LRCX,LUV,LVS,LW,LYB,LYV,MA,MAA,MAR,MAS,MCD,MCHP',\n",
       " 'MCK,MCO,MDLZ,MDT,MET,MGM,MHK,MKC,MKTX,MLM,MMC,MMM,MNST,MO,MOS,MPC,MRK,MRO,MS,MSCI,MSFT,MSI,MTB,MTD,MU,MXIM,MYL,NBL,NCLH,NDAQ,NEE,NEM,NFLX,NI,NKE,NLOK,NLSN,NOC,NOV,NOW,NRG,NSC,NTAP,NTRS,NUE,NVDA,NVR,NWL,NWS,NWSA,O,ODFL,OKE,OMC,ORCL,ORLY,OTIS,OXY,PAYC,PAYX,PBCT,PCAR,PEAK,PEG,PEP,PFE,PFG,PG,PGR,PH,PHM,PKG,PKI,PLD,PM,PNC,PNR,PNW,PPG,PPL,PRGO,PRU,PSA,PSX,PVH,PWR,PXD,PYPL,QCOM,QRVO,RCL,RE,REG,REGN,RF,RHI,RJF,RL,RMD,ROK',\n",
       " 'ROL,ROP,ROST,RSG,RTX,SBAC,SBUX,SCHW,SEE,SHW,SIVB,SJM,SLB,SLG,SNA,SNPS,SO,SPG,SPGI,SRE,STE,STT,STX,STZ,SWK,SWKS,SYF,SYK,SYY,T,TAP,TDG,TDY,TEL,TFC,TFX,TGT,TIF,TJX,TMO,TMUS,TPR,TROW,TRV,TSCO,TSN,TT,TTWO,TWTR,TXN,TXT,TYL,UA,UAA,UAL,UDR,UHS,ULTA,UNH,UNM,UNP,UPS,URI,USB,V,VAR,VFC,VIAC,VLO,VMC,VNO,VRSK,VRSN,VRTX,VTR,VZ,WAB,WAT,WBA,WDC,WEC,WELL,WFC,WHR,WLTW,WM,WMB,WMT,WRB,WRK,WST,WU,WY,WYNN,XEL,XLNX,XOM,XRAY,XRX,XYL',\n",
       " 'YUM,ZBH,ZBRA,ZION,ZTS']"
      ]
     },
     "execution_count": 4,
     "metadata": {},
     "output_type": "execute_result"
    }
   ],
   "source": [
    "def chunks(list, n):\n",
    "    for i in range(0, len(list), n):\n",
    "        yield list[i:i + n]\n",
    "\n",
    "symbol_lists = list(chunks(stocks['Ticker'], 100))\n",
    "symbol_strings = []\n",
    "for i in range(0, len(symbol_lists)):\n",
    "    symbol_strings.append(','.join(symbol_lists[i]))\n",
    "symbol_strings"
   ]
  },
  {
   "cell_type": "code",
   "execution_count": 5,
   "metadata": {},
   "outputs": [
    {
     "data": {
      "text/html": "<div>\n<style scoped>\n    .dataframe tbody tr th:only-of-type {\n        vertical-align: middle;\n    }\n\n    .dataframe tbody tr th {\n        vertical-align: top;\n    }\n\n    .dataframe thead th {\n        text-align: right;\n    }\n</style>\n<table border=\"1\" class=\"dataframe\">\n  <thead>\n    <tr style=\"text-align: right;\">\n      <th></th>\n      <th>Ticker</th>\n      <th>Price</th>\n      <th>One-Year Price Return</th>\n      <th>Number of Shares to Buy</th>\n    </tr>\n  </thead>\n  <tbody>\n  </tbody>\n</table>\n</div>",
      "text/plain": [
       "Empty DataFrame\n",
       "Columns: [Ticker, Price, One-Year Price Return, Number of Shares to Buy]\n",
       "Index: []"
      ]
     },
     "execution_count": 5,
     "metadata": {},
     "output_type": "execute_result"
    }
   ],
   "source": [
    "column_title = ['Ticker', 'Price', 'One-Year Price Return', 'Number of Shares to Buy']\n",
    "\n",
    "df = pd.DataFrame(columns=column_title)\n",
    "df"
   ]
  },
  {
   "cell_type": "code",
   "execution_count": 6,
   "metadata": {
    "tags": []
   },
   "outputs": [
    {
     "data": {
      "text/html": "<div>\n<style scoped>\n    .dataframe tbody tr th:only-of-type {\n        vertical-align: middle;\n    }\n\n    .dataframe tbody tr th {\n        vertical-align: top;\n    }\n\n    .dataframe thead th {\n        text-align: right;\n    }\n</style>\n<table border=\"1\" class=\"dataframe\">\n  <thead>\n    <tr style=\"text-align: right;\">\n      <th></th>\n      <th>Ticker</th>\n      <th>Price</th>\n      <th>One-Year Price Return</th>\n      <th>Number of Shares to Buy</th>\n    </tr>\n  </thead>\n  <tbody>\n    <tr>\n      <th>0</th>\n      <td>A</td>\n      <td>131.300</td>\n      <td>0.418156</td>\n      <td>N/A</td>\n    </tr>\n    <tr>\n      <th>1</th>\n      <td>AAL</td>\n      <td>16.592</td>\n      <td>-0.451884</td>\n      <td>N/A</td>\n    </tr>\n    <tr>\n      <th>2</th>\n      <td>AAP</td>\n      <td>168.080</td>\n      <td>0.106384</td>\n      <td>N/A</td>\n    </tr>\n    <tr>\n      <th>3</th>\n      <td>AAPL</td>\n      <td>129.300</td>\n      <td>0.613580</td>\n      <td>N/A</td>\n    </tr>\n    <tr>\n      <th>4</th>\n      <td>ABBV</td>\n      <td>112.900</td>\n      <td>0.326881</td>\n      <td>N/A</td>\n    </tr>\n  </tbody>\n</table>\n</div>",
      "text/plain": [
       "  Ticker    Price One-Year Price Return Number of Shares to Buy\n",
       "0      A  131.300              0.418156                     N/A\n",
       "1    AAL   16.592             -0.451884                     N/A\n",
       "2    AAP  168.080              0.106384                     N/A\n",
       "3   AAPL  129.300              0.613580                     N/A\n",
       "4   ABBV  112.900              0.326881                     N/A"
      ]
     },
     "execution_count": 6,
     "metadata": {},
     "output_type": "execute_result"
    }
   ],
   "source": [
    "for symbol_string in symbol_strings:\n",
    "    batch_url = f'https://sandbox.iexapis.com/stable/stock/market/batch?symbols={symbol_string}&types=stats,price&token={IEX_CLOUD_API_TOKEN}'\n",
    "    data2 = requests.get(batch_url).json()\n",
    "    for symbol in symbol_string.split(','):\n",
    "        df = df.append(\n",
    "            pd.Series(\n",
    "                [\n",
    "                    symbol,\n",
    "                    data2[symbol]['price'],\n",
    "                    data2[symbol]['stats']['year1ChangePercent'],\n",
    "                    'N/A'\n",
    "                ],\n",
    "                index=column_title),\n",
    "            ignore_index=True)\n",
    "df.head()"
   ]
  },
  {
   "cell_type": "markdown",
   "metadata": {},
   "source": [
    "# Identify the 50 highest momentum change stocks"
   ]
  },
  {
   "cell_type": "code",
   "execution_count": 7,
   "metadata": {},
   "outputs": [],
   "source": [
    "df.sort_values('One-Year Price Return', ascending=False, inplace=True)\n",
    "df = df[:50]\n",
    "df.reset_index(inplace=True)"
   ]
  },
  {
   "cell_type": "code",
   "execution_count": 8,
   "metadata": {},
   "outputs": [
    {
     "data": {
      "text/plain": [
       "50"
      ]
     },
     "execution_count": 8,
     "metadata": {},
     "output_type": "execute_result"
    }
   ],
   "source": [
    "len(df)"
   ]
  },
  {
   "cell_type": "markdown",
   "metadata": {},
   "source": [
    "# Calculating the number of shares to buy"
   ]
  },
  {
   "cell_type": "code",
   "execution_count": 9,
   "metadata": {},
   "outputs": [
    {
     "name": "stdout",
     "output_type": "stream",
     "text": [
      "10000000.0\n"
     ]
    }
   ],
   "source": [
    "def portfolio_size():\n",
    "    global capitals\n",
    "    capitals = input('Please enter how much money you are going to invest: ')\n",
    "\n",
    "    try:\n",
    "        capitals = float(capitals)\n",
    "    except ValueError:\n",
    "        print(\"That's not a number.\\nPlease try again.\")\n",
    "        capitals = input('Please enter how much money you are going to invest: ')\n",
    "        capitals = float(capitals)\n",
    "\n",
    "portfolio_size()\n",
    "print(capitals)"
   ]
  },
  {
   "cell_type": "code",
   "execution_count": 10,
   "metadata": {},
   "outputs": [
    {
     "data": {
      "text/plain": [
       "200000.0"
      ]
     },
     "execution_count": 10,
     "metadata": {},
     "output_type": "execute_result"
    }
   ],
   "source": [
    "weights = float(capitals / len(df))\n",
    "weights"
   ]
  },
  {
   "cell_type": "code",
   "execution_count": 11,
   "metadata": {},
   "outputs": [
    {
     "data": {
      "text/html": "<div>\n<style scoped>\n    .dataframe tbody tr th:only-of-type {\n        vertical-align: middle;\n    }\n\n    .dataframe tbody tr th {\n        vertical-align: top;\n    }\n\n    .dataframe thead th {\n        text-align: right;\n    }\n</style>\n<table border=\"1\" class=\"dataframe\">\n  <thead>\n    <tr style=\"text-align: right;\">\n      <th></th>\n      <th>index</th>\n      <th>Ticker</th>\n      <th>Price</th>\n      <th>One-Year Price Return</th>\n      <th>Number of Shares to Buy</th>\n    </tr>\n  </thead>\n  <tbody>\n    <tr>\n      <th>0</th>\n      <td>78</td>\n      <td>CARR</td>\n      <td>42.14</td>\n      <td>2.407000</td>\n      <td>4746.0</td>\n    </tr>\n    <tr>\n      <th>1</th>\n      <td>179</td>\n      <td>FCX</td>\n      <td>32.10</td>\n      <td>1.369067</td>\n      <td>6230.0</td>\n    </tr>\n    <tr>\n      <th>2</th>\n      <td>275</td>\n      <td>LB</td>\n      <td>46.41</td>\n      <td>1.329570</td>\n      <td>4309.0</td>\n    </tr>\n    <tr>\n      <th>3</th>\n      <td>23</td>\n      <td>ALB</td>\n      <td>186.21</td>\n      <td>1.270806</td>\n      <td>1074.0</td>\n    </tr>\n    <tr>\n      <th>4</th>\n      <td>387</td>\n      <td>PYPL</td>\n      <td>259.13</td>\n      <td>1.103910</td>\n      <td>771.0</td>\n    </tr>\n  </tbody>\n</table>\n</div>",
      "text/plain": [
       "   index Ticker   Price One-Year Price Return  Number of Shares to Buy\n",
       "0     78   CARR   42.14              2.407000                   4746.0\n",
       "1    179    FCX   32.10              1.369067                   6230.0\n",
       "2    275     LB   46.41              1.329570                   4309.0\n",
       "3     23    ALB  186.21              1.270806                   1074.0\n",
       "4    387   PYPL  259.13              1.103910                    771.0"
      ]
     },
     "execution_count": 11,
     "metadata": {},
     "output_type": "execute_result"
    }
   ],
   "source": [
    "df['Number of Shares to Buy'] = np.floor(weights / df['Price'])\n",
    "df.head()"
   ]
  },
  {
   "cell_type": "markdown",
   "metadata": {},
   "source": [
    "## Distinguish the high quality momentum stocks and low quality momentum stocks\n",
    "low quality momentum might be caused by short-term events that are not goign to repeat in the future"
   ]
  },
  {
   "cell_type": "code",
   "execution_count": 12,
   "metadata": {},
   "outputs": [
    {
     "data": {
      "text/html": "<div>\n<style scoped>\n    .dataframe tbody tr th:only-of-type {\n        vertical-align: middle;\n    }\n\n    .dataframe tbody tr th {\n        vertical-align: top;\n    }\n\n    .dataframe thead th {\n        text-align: right;\n    }\n</style>\n<table border=\"1\" class=\"dataframe\">\n  <thead>\n    <tr style=\"text-align: right;\">\n      <th></th>\n      <th>Ticker</th>\n      <th>Price</th>\n      <th>Number of Shares to Buy</th>\n      <th>1y Price Return</th>\n      <th>1y Return Percentile</th>\n      <th>6m Price Return</th>\n      <th>6m Return Percentile</th>\n      <th>3m Price Return</th>\n      <th>3m Return Percentile</th>\n      <th>1m Price Return</th>\n      <th>1m Return Percentile</th>\n    </tr>\n  </thead>\n  <tbody>\n  </tbody>\n</table>\n</div>",
      "text/plain": [
       "Empty DataFrame\n",
       "Columns: [Ticker, Price, Number of Shares to Buy, 1y Price Return, 1y Return Percentile, 6m Price Return, 6m Return Percentile, 3m Price Return, 3m Return Percentile, 1m Price Return, 1m Return Percentile]\n",
       "Index: []"
      ]
     },
     "execution_count": 12,
     "metadata": {},
     "output_type": "execute_result"
    }
   ],
   "source": [
    "hqm_columns = [\n",
    "    'Ticker',\n",
    "    'Price',\n",
    "    'Number of Shares to Buy',\n",
    "    '1y Price Return',\n",
    "    '1y Return Percentile',\n",
    "    '6m Price Return',\n",
    "    '6m Return Percentile',\n",
    "    '3m Price Return',\n",
    "    '3m Return Percentile',\n",
    "    '1m Price Return',\n",
    "    '1m Return Percentile'\n",
    "]\n",
    "\n",
    "df_hqm = pd.DataFrame(columns=hqm_columns)\n",
    "df_hqm"
   ]
  },
  {
   "cell_type": "code",
   "execution_count": 13,
   "metadata": {},
   "outputs": [
    {
     "data": {
      "text/html": "<div>\n<style scoped>\n    .dataframe tbody tr th:only-of-type {\n        vertical-align: middle;\n    }\n\n    .dataframe tbody tr th {\n        vertical-align: top;\n    }\n\n    .dataframe thead th {\n        text-align: right;\n    }\n</style>\n<table border=\"1\" class=\"dataframe\">\n  <thead>\n    <tr style=\"text-align: right;\">\n      <th></th>\n      <th>Ticker</th>\n      <th>Price</th>\n      <th>Number of Shares to Buy</th>\n      <th>1y Price Return</th>\n      <th>1y Return Percentile</th>\n      <th>6m Price Return</th>\n      <th>6m Return Percentile</th>\n      <th>3m Price Return</th>\n      <th>3m Return Percentile</th>\n      <th>1m Price Return</th>\n      <th>1m Return Percentile</th>\n    </tr>\n  </thead>\n  <tbody>\n    <tr>\n      <th>0</th>\n      <td>A</td>\n      <td>129.380</td>\n      <td>N/A</td>\n      <td>0.425021</td>\n      <td>N/A</td>\n      <td>0.345999</td>\n      <td>N/A</td>\n      <td>0.189159</td>\n      <td>N/A</td>\n      <td>0.061461</td>\n      <td>N/A</td>\n    </tr>\n    <tr>\n      <th>1</th>\n      <td>AAL</td>\n      <td>16.012</td>\n      <td>N/A</td>\n      <td>-0.446751</td>\n      <td>N/A</td>\n      <td>0.328102</td>\n      <td>N/A</td>\n      <td>0.269057</td>\n      <td>N/A</td>\n      <td>-0.045807</td>\n      <td>N/A</td>\n    </tr>\n    <tr>\n      <th>2</th>\n      <td>AAP</td>\n      <td>171.240</td>\n      <td>N/A</td>\n      <td>0.104651</td>\n      <td>N/A</td>\n      <td>0.150818</td>\n      <td>N/A</td>\n      <td>0.069595</td>\n      <td>N/A</td>\n      <td>0.032977</td>\n      <td>N/A</td>\n    </tr>\n    <tr>\n      <th>3</th>\n      <td>AAPL</td>\n      <td>133.190</td>\n      <td>N/A</td>\n      <td>0.616785</td>\n      <td>N/A</td>\n      <td>0.333535</td>\n      <td>N/A</td>\n      <td>0.071171</td>\n      <td>N/A</td>\n      <td>0.003957</td>\n      <td>N/A</td>\n    </tr>\n    <tr>\n      <th>4</th>\n      <td>ABBV</td>\n      <td>117.620</td>\n      <td>N/A</td>\n      <td>0.335536</td>\n      <td>N/A</td>\n      <td>0.129643</td>\n      <td>N/A</td>\n      <td>0.300872</td>\n      <td>N/A</td>\n      <td>0.072847</td>\n      <td>N/A</td>\n    </tr>\n    <tr>\n      <th>...</th>\n      <td>...</td>\n      <td>...</td>\n      <td>...</td>\n      <td>...</td>\n      <td>...</td>\n      <td>...</td>\n      <td>...</td>\n      <td>...</td>\n      <td>...</td>\n      <td>...</td>\n      <td>...</td>\n    </tr>\n    <tr>\n      <th>500</th>\n      <td>YUM</td>\n      <td>111.050</td>\n      <td>N/A</td>\n      <td>0.031133</td>\n      <td>N/A</td>\n      <td>0.188677</td>\n      <td>N/A</td>\n      <td>0.091060</td>\n      <td>N/A</td>\n      <td>-0.029194</td>\n      <td>N/A</td>\n    </tr>\n    <tr>\n      <th>501</th>\n      <td>ZBH</td>\n      <td>161.190</td>\n      <td>N/A</td>\n      <td>0.083396</td>\n      <td>N/A</td>\n      <td>0.192118</td>\n      <td>N/A</td>\n      <td>0.093084</td>\n      <td>N/A</td>\n      <td>0.057471</td>\n      <td>N/A</td>\n    </tr>\n    <tr>\n      <th>502</th>\n      <td>ZBRA</td>\n      <td>406.570</td>\n      <td>N/A</td>\n      <td>0.642184</td>\n      <td>N/A</td>\n      <td>0.516280</td>\n      <td>N/A</td>\n      <td>0.412547</td>\n      <td>N/A</td>\n      <td>0.099164</td>\n      <td>N/A</td>\n    </tr>\n    <tr>\n      <th>503</th>\n      <td>ZION</td>\n      <td>51.670</td>\n      <td>N/A</td>\n      <td>0.005175</td>\n      <td>N/A</td>\n      <td>0.540815</td>\n      <td>N/A</td>\n      <td>0.592084</td>\n      <td>N/A</td>\n      <td>0.200825</td>\n      <td>N/A</td>\n    </tr>\n    <tr>\n      <th>504</th>\n      <td>ZTS</td>\n      <td>166.010</td>\n      <td>N/A</td>\n      <td>0.159816</td>\n      <td>N/A</td>\n      <td>0.123757</td>\n      <td>N/A</td>\n      <td>-0.011175</td>\n      <td>N/A</td>\n      <td>-0.013091</td>\n      <td>N/A</td>\n    </tr>\n  </tbody>\n</table>\n<p>505 rows × 11 columns</p>\n</div>",
      "text/plain": [
       "    Ticker    Price Number of Shares to Buy 1y Price Return  \\\n",
       "0        A  129.380                     N/A        0.425021   \n",
       "1      AAL   16.012                     N/A       -0.446751   \n",
       "2      AAP  171.240                     N/A        0.104651   \n",
       "3     AAPL  133.190                     N/A        0.616785   \n",
       "4     ABBV  117.620                     N/A        0.335536   \n",
       "..     ...      ...                     ...             ...   \n",
       "500    YUM  111.050                     N/A        0.031133   \n",
       "501    ZBH  161.190                     N/A        0.083396   \n",
       "502   ZBRA  406.570                     N/A        0.642184   \n",
       "503   ZION   51.670                     N/A        0.005175   \n",
       "504    ZTS  166.010                     N/A        0.159816   \n",
       "\n",
       "    1y Return Percentile 6m Price Return 6m Return Percentile 3m Price Return  \\\n",
       "0                    N/A        0.345999                  N/A        0.189159   \n",
       "1                    N/A        0.328102                  N/A        0.269057   \n",
       "2                    N/A        0.150818                  N/A        0.069595   \n",
       "3                    N/A        0.333535                  N/A        0.071171   \n",
       "4                    N/A        0.129643                  N/A        0.300872   \n",
       "..                   ...             ...                  ...             ...   \n",
       "500                  N/A        0.188677                  N/A        0.091060   \n",
       "501                  N/A        0.192118                  N/A        0.093084   \n",
       "502                  N/A        0.516280                  N/A        0.412547   \n",
       "503                  N/A        0.540815                  N/A        0.592084   \n",
       "504                  N/A        0.123757                  N/A       -0.011175   \n",
       "\n",
       "    3m Return Percentile 1m Price Return 1m Return Percentile  \n",
       "0                    N/A        0.061461                  N/A  \n",
       "1                    N/A       -0.045807                  N/A  \n",
       "2                    N/A        0.032977                  N/A  \n",
       "3                    N/A        0.003957                  N/A  \n",
       "4                    N/A        0.072847                  N/A  \n",
       "..                   ...             ...                  ...  \n",
       "500                  N/A       -0.029194                  N/A  \n",
       "501                  N/A        0.057471                  N/A  \n",
       "502                  N/A        0.099164                  N/A  \n",
       "503                  N/A        0.200825                  N/A  \n",
       "504                  N/A       -0.013091                  N/A  \n",
       "\n",
       "[505 rows x 11 columns]"
      ]
     },
     "execution_count": 13,
     "metadata": {},
     "output_type": "execute_result"
    }
   ],
   "source": [
    "for symbol_string in symbol_strings:\n",
    "    batch_url = f'https://sandbox.iexapis.com/stable/stock/market/batch?symbols={symbol_string}&types=stats,price&token={IEX_CLOUD_API_TOKEN}'\n",
    "    data2 = requests.get(batch_url).json()\n",
    "    for symbol in symbol_string.split(','):\n",
    "        df_hqm = df_hqm.append(\n",
    "            pd.Series(\n",
    "                [\n",
    "                    symbol,\n",
    "                    data2[symbol]['price'],\n",
    "                    'N/A',\n",
    "                    data2[symbol]['stats']['year1ChangePercent'],\n",
    "                    'N/A',\n",
    "                    data2[symbol]['stats']['month6ChangePercent'],\n",
    "                    'N/A',\n",
    "                    data2[symbol]['stats']['month3ChangePercent'],\n",
    "                    'N/A',\n",
    "                    data2[symbol]['stats']['month1ChangePercent'],\n",
    "                    'N/A'\n",
    "                ],\n",
    "                index=hqm_columns),\n",
    "            ignore_index=True)\n",
    "\n",
    "df_hqm"
   ]
  },
  {
   "cell_type": "markdown",
   "metadata": {},
   "source": [
    "## Calculating the return percentile"
   ]
  },
  {
   "cell_type": "code",
   "execution_count": 14,
   "metadata": {},
   "outputs": [
    {
     "data": {
      "text/html": "<div>\n<style scoped>\n    .dataframe tbody tr th:only-of-type {\n        vertical-align: middle;\n    }\n\n    .dataframe tbody tr th {\n        vertical-align: top;\n    }\n\n    .dataframe thead th {\n        text-align: right;\n    }\n</style>\n<table border=\"1\" class=\"dataframe\">\n  <thead>\n    <tr style=\"text-align: right;\">\n      <th></th>\n      <th>Ticker</th>\n      <th>Price</th>\n      <th>Number of Shares to Buy</th>\n      <th>1y Price Return</th>\n      <th>1y Return Percentile</th>\n      <th>6m Price Return</th>\n      <th>6m Return Percentile</th>\n      <th>3m Price Return</th>\n      <th>3m Return Percentile</th>\n      <th>1m Price Return</th>\n      <th>1m Return Percentile</th>\n    </tr>\n  </thead>\n  <tbody>\n    <tr>\n      <th>0</th>\n      <td>A</td>\n      <td>129.380</td>\n      <td>N/A</td>\n      <td>0.425021</td>\n      <td>N/A</td>\n      <td>0.345999</td>\n      <td>N/A</td>\n      <td>0.189159</td>\n      <td>N/A</td>\n      <td>0.061461</td>\n      <td>N/A</td>\n    </tr>\n    <tr>\n      <th>1</th>\n      <td>AAL</td>\n      <td>16.012</td>\n      <td>N/A</td>\n      <td>-0.446751</td>\n      <td>N/A</td>\n      <td>0.328102</td>\n      <td>N/A</td>\n      <td>0.269057</td>\n      <td>N/A</td>\n      <td>-0.045807</td>\n      <td>N/A</td>\n    </tr>\n    <tr>\n      <th>2</th>\n      <td>AAP</td>\n      <td>171.240</td>\n      <td>N/A</td>\n      <td>0.104651</td>\n      <td>N/A</td>\n      <td>0.150818</td>\n      <td>N/A</td>\n      <td>0.069595</td>\n      <td>N/A</td>\n      <td>0.032977</td>\n      <td>N/A</td>\n    </tr>\n    <tr>\n      <th>3</th>\n      <td>AAPL</td>\n      <td>133.190</td>\n      <td>N/A</td>\n      <td>0.616785</td>\n      <td>N/A</td>\n      <td>0.333535</td>\n      <td>N/A</td>\n      <td>0.071171</td>\n      <td>N/A</td>\n      <td>0.003957</td>\n      <td>N/A</td>\n    </tr>\n    <tr>\n      <th>4</th>\n      <td>ABBV</td>\n      <td>117.620</td>\n      <td>N/A</td>\n      <td>0.335536</td>\n      <td>N/A</td>\n      <td>0.129643</td>\n      <td>N/A</td>\n      <td>0.300872</td>\n      <td>N/A</td>\n      <td>0.072847</td>\n      <td>N/A</td>\n    </tr>\n    <tr>\n      <th>...</th>\n      <td>...</td>\n      <td>...</td>\n      <td>...</td>\n      <td>...</td>\n      <td>...</td>\n      <td>...</td>\n      <td>...</td>\n      <td>...</td>\n      <td>...</td>\n      <td>...</td>\n      <td>...</td>\n    </tr>\n    <tr>\n      <th>500</th>\n      <td>YUM</td>\n      <td>111.050</td>\n      <td>N/A</td>\n      <td>0.031133</td>\n      <td>N/A</td>\n      <td>0.188677</td>\n      <td>N/A</td>\n      <td>0.091060</td>\n      <td>N/A</td>\n      <td>-0.029194</td>\n      <td>N/A</td>\n    </tr>\n    <tr>\n      <th>501</th>\n      <td>ZBH</td>\n      <td>161.190</td>\n      <td>N/A</td>\n      <td>0.083396</td>\n      <td>N/A</td>\n      <td>0.192118</td>\n      <td>N/A</td>\n      <td>0.093084</td>\n      <td>N/A</td>\n      <td>0.057471</td>\n      <td>N/A</td>\n    </tr>\n    <tr>\n      <th>502</th>\n      <td>ZBRA</td>\n      <td>406.570</td>\n      <td>N/A</td>\n      <td>0.642184</td>\n      <td>N/A</td>\n      <td>0.516280</td>\n      <td>N/A</td>\n      <td>0.412547</td>\n      <td>N/A</td>\n      <td>0.099164</td>\n      <td>N/A</td>\n    </tr>\n    <tr>\n      <th>503</th>\n      <td>ZION</td>\n      <td>51.670</td>\n      <td>N/A</td>\n      <td>0.005175</td>\n      <td>N/A</td>\n      <td>0.540815</td>\n      <td>N/A</td>\n      <td>0.592084</td>\n      <td>N/A</td>\n      <td>0.200825</td>\n      <td>N/A</td>\n    </tr>\n    <tr>\n      <th>504</th>\n      <td>ZTS</td>\n      <td>166.010</td>\n      <td>N/A</td>\n      <td>0.159816</td>\n      <td>N/A</td>\n      <td>0.123757</td>\n      <td>N/A</td>\n      <td>-0.011175</td>\n      <td>N/A</td>\n      <td>-0.013091</td>\n      <td>N/A</td>\n    </tr>\n  </tbody>\n</table>\n<p>505 rows × 11 columns</p>\n</div>",
      "text/plain": [
       "    Ticker    Price Number of Shares to Buy 1y Price Return  \\\n",
       "0        A  129.380                     N/A        0.425021   \n",
       "1      AAL   16.012                     N/A       -0.446751   \n",
       "2      AAP  171.240                     N/A        0.104651   \n",
       "3     AAPL  133.190                     N/A        0.616785   \n",
       "4     ABBV  117.620                     N/A        0.335536   \n",
       "..     ...      ...                     ...             ...   \n",
       "500    YUM  111.050                     N/A        0.031133   \n",
       "501    ZBH  161.190                     N/A        0.083396   \n",
       "502   ZBRA  406.570                     N/A        0.642184   \n",
       "503   ZION   51.670                     N/A        0.005175   \n",
       "504    ZTS  166.010                     N/A        0.159816   \n",
       "\n",
       "    1y Return Percentile 6m Price Return 6m Return Percentile 3m Price Return  \\\n",
       "0                    N/A        0.345999                  N/A        0.189159   \n",
       "1                    N/A        0.328102                  N/A        0.269057   \n",
       "2                    N/A        0.150818                  N/A        0.069595   \n",
       "3                    N/A        0.333535                  N/A        0.071171   \n",
       "4                    N/A        0.129643                  N/A        0.300872   \n",
       "..                   ...             ...                  ...             ...   \n",
       "500                  N/A        0.188677                  N/A        0.091060   \n",
       "501                  N/A        0.192118                  N/A        0.093084   \n",
       "502                  N/A        0.516280                  N/A        0.412547   \n",
       "503                  N/A        0.540815                  N/A        0.592084   \n",
       "504                  N/A        0.123757                  N/A       -0.011175   \n",
       "\n",
       "    3m Return Percentile 1m Price Return 1m Return Percentile  \n",
       "0                    N/A        0.061461                  N/A  \n",
       "1                    N/A       -0.045807                  N/A  \n",
       "2                    N/A        0.032977                  N/A  \n",
       "3                    N/A        0.003957                  N/A  \n",
       "4                    N/A        0.072847                  N/A  \n",
       "..                   ...             ...                  ...  \n",
       "500                  N/A       -0.029194                  N/A  \n",
       "501                  N/A        0.057471                  N/A  \n",
       "502                  N/A        0.099164                  N/A  \n",
       "503                  N/A        0.200825                  N/A  \n",
       "504                  N/A       -0.013091                  N/A  \n",
       "\n",
       "[505 rows x 11 columns]"
      ]
     },
     "execution_count": 14,
     "metadata": {},
     "output_type": "execute_result"
    }
   ],
   "source": [
    "df_hqm"
   ]
  },
  {
   "cell_type": "code",
   "execution_count": 35,
   "metadata": {},
   "outputs": [
    {
     "data": {
      "text/html": "<div>\n<style scoped>\n    .dataframe tbody tr th:only-of-type {\n        vertical-align: middle;\n    }\n\n    .dataframe tbody tr th {\n        vertical-align: top;\n    }\n\n    .dataframe thead th {\n        text-align: right;\n    }\n</style>\n<table border=\"1\" class=\"dataframe\">\n  <thead>\n    <tr style=\"text-align: right;\">\n      <th></th>\n      <th>Ticker</th>\n      <th>Price</th>\n      <th>Number of Shares to Buy</th>\n      <th>1y Price Return</th>\n      <th>1y Return Percentile</th>\n      <th>6m Price Return</th>\n      <th>6m Return Percentile</th>\n      <th>3m Price Return</th>\n      <th>3m Return Percentile</th>\n      <th>1m Price Return</th>\n      <th>1m Return Percentile</th>\n      <th>hqm_score</th>\n    </tr>\n  </thead>\n  <tbody>\n    <tr>\n      <th>0</th>\n      <td>DISCA</td>\n      <td>36.41</td>\n      <td>549.0</td>\n      <td>0.134138</td>\n      <td>0.54</td>\n      <td>0.735230</td>\n      <td>0.66</td>\n      <td>0.776114</td>\n      <td>0.88</td>\n      <td>0.336713</td>\n      <td>1.00</td>\n      <td>100.000000</td>\n    </tr>\n    <tr>\n      <th>1</th>\n      <td>DISCK</td>\n      <td>33.31</td>\n      <td>600.0</td>\n      <td>0.062251</td>\n      <td>0.44</td>\n      <td>0.696595</td>\n      <td>0.58</td>\n      <td>0.739484</td>\n      <td>0.84</td>\n      <td>0.330427</td>\n      <td>0.98</td>\n      <td>99.801980</td>\n    </tr>\n    <tr>\n      <th>2</th>\n      <td>SIVB</td>\n      <td>473.28</td>\n      <td>42.0</td>\n      <td>0.813744</td>\n      <td>0.92</td>\n      <td>1.129548</td>\n      <td>0.92</td>\n      <td>0.713063</td>\n      <td>0.80</td>\n      <td>0.302764</td>\n      <td>0.96</td>\n      <td>99.603960</td>\n    </tr>\n    <tr>\n      <th>3</th>\n      <td>ALB</td>\n      <td>194.22</td>\n      <td>102.0</td>\n      <td>1.281740</td>\n      <td>0.98</td>\n      <td>1.094303</td>\n      <td>0.90</td>\n      <td>0.951490</td>\n      <td>0.92</td>\n      <td>0.301047</td>\n      <td>0.94</td>\n      <td>99.405941</td>\n    </tr>\n    <tr>\n      <th>4</th>\n      <td>VIAC</td>\n      <td>43.98</td>\n      <td>454.0</td>\n      <td>0.198863</td>\n      <td>0.66</td>\n      <td>0.852088</td>\n      <td>0.78</td>\n      <td>0.653421</td>\n      <td>0.76</td>\n      <td>0.296605</td>\n      <td>0.92</td>\n      <td>99.207921</td>\n    </tr>\n  </tbody>\n</table>\n</div>",
      "text/plain": [
       "  Ticker   Price  Number of Shares to Buy 1y Price Return  \\\n",
       "0  DISCA   36.41                    549.0        0.134138   \n",
       "1  DISCK   33.31                    600.0        0.062251   \n",
       "2   SIVB  473.28                     42.0        0.813744   \n",
       "3    ALB  194.22                    102.0        1.281740   \n",
       "4   VIAC   43.98                    454.0        0.198863   \n",
       "\n",
       "   1y Return Percentile 6m Price Return  6m Return Percentile 3m Price Return  \\\n",
       "0                  0.54        0.735230                  0.66        0.776114   \n",
       "1                  0.44        0.696595                  0.58        0.739484   \n",
       "2                  0.92        1.129548                  0.92        0.713063   \n",
       "3                  0.98        1.094303                  0.90        0.951490   \n",
       "4                  0.66        0.852088                  0.78        0.653421   \n",
       "\n",
       "   3m Return Percentile 1m Price Return  1m Return Percentile   hqm_score  \n",
       "0                  0.88        0.336713                  1.00  100.000000  \n",
       "1                  0.84        0.330427                  0.98   99.801980  \n",
       "2                  0.80        0.302764                  0.96   99.603960  \n",
       "3                  0.92        0.301047                  0.94   99.405941  \n",
       "4                  0.76        0.296605                  0.92   99.207921  "
      ]
     },
     "execution_count": 35,
     "metadata": {},
     "output_type": "execute_result"
    }
   ],
   "source": [
    "time_periods = ['1y', '6m', '3m', '1m']\n",
    "\n",
    "for row in df_hqm.index:\n",
    "    for period in time_periods:\n",
    "        return_change = f'{period} Price Return'\n",
    "        return_percentile = f'{period} Return Percentile'\n",
    "        df_hqm[return_percentile] = 0.0\n",
    "        if df_hqm.loc[row, return_change] == None:\n",
    "            df_hqm.loc[row, return_change] = 0.0\n",
    "\n",
    "for row in df_hqm.index:\n",
    "    for period in time_periods:\n",
    "        return_change = f'{period} Price Return'\n",
    "        return_percentile = f'{period} Return Percentile'\n",
    "        df_hqm.loc[row, return_percentile] = stats.percentileofscore(df_hqm[return_change], df_hqm.loc[row, return_change]) / 100\n",
    "\n",
    "df_hqm.head()"
   ]
  },
  {
   "cell_type": "markdown",
   "metadata": {},
   "source": [
    "## HQM Score\n",
    "the mean of 4 percentile scores"
   ]
  },
  {
   "cell_type": "code",
   "execution_count": 36,
   "metadata": {},
   "outputs": [
    {
     "data": {
      "text/html": "<div>\n<style scoped>\n    .dataframe tbody tr th:only-of-type {\n        vertical-align: middle;\n    }\n\n    .dataframe tbody tr th {\n        vertical-align: top;\n    }\n\n    .dataframe thead th {\n        text-align: right;\n    }\n</style>\n<table border=\"1\" class=\"dataframe\">\n  <thead>\n    <tr style=\"text-align: right;\">\n      <th></th>\n      <th>Ticker</th>\n      <th>Price</th>\n      <th>Number of Shares to Buy</th>\n      <th>1y Price Return</th>\n      <th>1y Return Percentile</th>\n      <th>6m Price Return</th>\n      <th>6m Return Percentile</th>\n      <th>3m Price Return</th>\n      <th>3m Return Percentile</th>\n      <th>1m Price Return</th>\n      <th>1m Return Percentile</th>\n      <th>hqm_score</th>\n    </tr>\n  </thead>\n  <tbody>\n    <tr>\n      <th>0</th>\n      <td>DISCA</td>\n      <td>36.410</td>\n      <td>549.0</td>\n      <td>0.134138</td>\n      <td>0.54</td>\n      <td>0.735230</td>\n      <td>0.66</td>\n      <td>0.776114</td>\n      <td>0.88</td>\n      <td>0.336713</td>\n      <td>1.00</td>\n      <td>1.00</td>\n    </tr>\n    <tr>\n      <th>1</th>\n      <td>DISCK</td>\n      <td>33.310</td>\n      <td>600.0</td>\n      <td>0.062251</td>\n      <td>0.44</td>\n      <td>0.696595</td>\n      <td>0.58</td>\n      <td>0.739484</td>\n      <td>0.84</td>\n      <td>0.330427</td>\n      <td>0.98</td>\n      <td>0.98</td>\n    </tr>\n    <tr>\n      <th>2</th>\n      <td>SIVB</td>\n      <td>473.280</td>\n      <td>42.0</td>\n      <td>0.813744</td>\n      <td>0.92</td>\n      <td>1.129548</td>\n      <td>0.92</td>\n      <td>0.713063</td>\n      <td>0.80</td>\n      <td>0.302764</td>\n      <td>0.96</td>\n      <td>0.96</td>\n    </tr>\n    <tr>\n      <th>3</th>\n      <td>ALB</td>\n      <td>194.220</td>\n      <td>102.0</td>\n      <td>1.281740</td>\n      <td>0.98</td>\n      <td>1.094303</td>\n      <td>0.90</td>\n      <td>0.951490</td>\n      <td>0.92</td>\n      <td>0.301047</td>\n      <td>0.94</td>\n      <td>0.94</td>\n    </tr>\n    <tr>\n      <th>4</th>\n      <td>VIAC</td>\n      <td>43.980</td>\n      <td>454.0</td>\n      <td>0.198863</td>\n      <td>0.66</td>\n      <td>0.852088</td>\n      <td>0.78</td>\n      <td>0.653421</td>\n      <td>0.76</td>\n      <td>0.296605</td>\n      <td>0.92</td>\n      <td>0.92</td>\n    </tr>\n    <tr>\n      <th>5</th>\n      <td>FANG</td>\n      <td>62.400</td>\n      <td>320.0</td>\n      <td>-0.320834</td>\n      <td>0.08</td>\n      <td>0.555564</td>\n      <td>0.44</td>\n      <td>1.057284</td>\n      <td>0.96</td>\n      <td>0.294074</td>\n      <td>0.90</td>\n      <td>0.90</td>\n    </tr>\n    <tr>\n      <th>6</th>\n      <td>FLIR</td>\n      <td>56.180</td>\n      <td>355.0</td>\n      <td>-0.001026</td>\n      <td>0.34</td>\n      <td>0.319879</td>\n      <td>0.10</td>\n      <td>0.463227</td>\n      <td>0.42</td>\n      <td>0.284724</td>\n      <td>0.88</td>\n      <td>0.88</td>\n    </tr>\n    <tr>\n      <th>7</th>\n      <td>DVN</td>\n      <td>21.000</td>\n      <td>952.0</td>\n      <td>-0.204656</td>\n      <td>0.12</td>\n      <td>0.995734</td>\n      <td>0.86</td>\n      <td>1.238318</td>\n      <td>0.98</td>\n      <td>0.262469</td>\n      <td>0.86</td>\n      <td>0.86</td>\n    </tr>\n    <tr>\n      <th>8</th>\n      <td>FTI</td>\n      <td>11.840</td>\n      <td>1689.0</td>\n      <td>-0.397532</td>\n      <td>0.04</td>\n      <td>0.547964</td>\n      <td>0.42</td>\n      <td>0.748908</td>\n      <td>0.86</td>\n      <td>0.250000</td>\n      <td>0.84</td>\n      <td>0.84</td>\n    </tr>\n    <tr>\n      <th>9</th>\n      <td>DXC</td>\n      <td>29.320</td>\n      <td>682.0</td>\n      <td>-0.188938</td>\n      <td>0.14</td>\n      <td>0.723030</td>\n      <td>0.64</td>\n      <td>0.397663</td>\n      <td>0.24</td>\n      <td>0.244105</td>\n      <td>0.82</td>\n      <td>0.82</td>\n    </tr>\n    <tr>\n      <th>10</th>\n      <td>GS</td>\n      <td>297.800</td>\n      <td>67.0</td>\n      <td>0.244023</td>\n      <td>0.68</td>\n      <td>0.452500</td>\n      <td>0.16</td>\n      <td>0.479406</td>\n      <td>0.48</td>\n      <td>0.243762</td>\n      <td>0.80</td>\n      <td>0.80</td>\n    </tr>\n    <tr>\n      <th>11</th>\n      <td>FCX</td>\n      <td>33.170</td>\n      <td>602.0</td>\n      <td>1.367249</td>\n      <td>1.00</td>\n      <td>1.243592</td>\n      <td>0.96</td>\n      <td>0.785674</td>\n      <td>0.90</td>\n      <td>0.237041</td>\n      <td>0.78</td>\n      <td>0.78</td>\n    </tr>\n    <tr>\n      <th>12</th>\n      <td>MRO</td>\n      <td>8.870</td>\n      <td>2254.0</td>\n      <td>-0.380512</td>\n      <td>0.06</td>\n      <td>0.521332</td>\n      <td>0.32</td>\n      <td>1.055175</td>\n      <td>0.94</td>\n      <td>0.234753</td>\n      <td>0.76</td>\n      <td>0.76</td>\n    </tr>\n    <tr>\n      <th>13</th>\n      <td>COF</td>\n      <td>117.310</td>\n      <td>170.0</td>\n      <td>0.099399</td>\n      <td>0.48</td>\n      <td>0.833293</td>\n      <td>0.76</td>\n      <td>0.436524</td>\n      <td>0.34</td>\n      <td>0.234014</td>\n      <td>0.74</td>\n      <td>0.74</td>\n    </tr>\n    <tr>\n      <th>14</th>\n      <td>MOS</td>\n      <td>29.820</td>\n      <td>670.0</td>\n      <td>0.329154</td>\n      <td>0.72</td>\n      <td>1.178501</td>\n      <td>0.94</td>\n      <td>0.501740</td>\n      <td>0.58</td>\n      <td>0.232051</td>\n      <td>0.72</td>\n      <td>0.72</td>\n    </tr>\n    <tr>\n      <th>15</th>\n      <td>AES</td>\n      <td>29.460</td>\n      <td>678.0</td>\n      <td>0.397176</td>\n      <td>0.80</td>\n      <td>0.822678</td>\n      <td>0.74</td>\n      <td>0.399081</td>\n      <td>0.26</td>\n      <td>0.227859</td>\n      <td>0.70</td>\n      <td>0.70</td>\n    </tr>\n    <tr>\n      <th>16</th>\n      <td>GM</td>\n      <td>57.520</td>\n      <td>347.0</td>\n      <td>0.434492</td>\n      <td>0.82</td>\n      <td>0.932799</td>\n      <td>0.82</td>\n      <td>0.500971</td>\n      <td>0.56</td>\n      <td>0.226671</td>\n      <td>0.68</td>\n      <td>0.68</td>\n    </tr>\n    <tr>\n      <th>17</th>\n      <td>INTC</td>\n      <td>58.310</td>\n      <td>342.0</td>\n      <td>-0.009999</td>\n      <td>0.28</td>\n      <td>-0.027925</td>\n      <td>0.02</td>\n      <td>0.073294</td>\n      <td>0.02</td>\n      <td>0.222701</td>\n      <td>0.66</td>\n      <td>0.66</td>\n    </tr>\n    <tr>\n      <th>18</th>\n      <td>CF</td>\n      <td>47.120</td>\n      <td>424.0</td>\n      <td>0.026710</td>\n      <td>0.38</td>\n      <td>0.532752</td>\n      <td>0.36</td>\n      <td>0.576270</td>\n      <td>0.70</td>\n      <td>0.218325</td>\n      <td>0.64</td>\n      <td>0.64</td>\n    </tr>\n    <tr>\n      <th>19</th>\n      <td>OXY</td>\n      <td>24.220</td>\n      <td>825.0</td>\n      <td>-0.510229</td>\n      <td>0.02</td>\n      <td>0.377628</td>\n      <td>0.12</td>\n      <td>1.241394</td>\n      <td>1.00</td>\n      <td>0.214420</td>\n      <td>0.62</td>\n      <td>0.62</td>\n    </tr>\n    <tr>\n      <th>20</th>\n      <td>FITB</td>\n      <td>33.640</td>\n      <td>594.0</td>\n      <td>0.146516</td>\n      <td>0.56</td>\n      <td>0.757639</td>\n      <td>0.68</td>\n      <td>0.402216</td>\n      <td>0.30</td>\n      <td>0.214073</td>\n      <td>0.60</td>\n      <td>0.60</td>\n    </tr>\n    <tr>\n      <th>21</th>\n      <td>CMA</td>\n      <td>66.900</td>\n      <td>298.0</td>\n      <td>-0.008041</td>\n      <td>0.32</td>\n      <td>0.855661</td>\n      <td>0.80</td>\n      <td>0.567961</td>\n      <td>0.68</td>\n      <td>0.213352</td>\n      <td>0.58</td>\n      <td>0.58</td>\n    </tr>\n    <tr>\n      <th>22</th>\n      <td>WBA</td>\n      <td>48.330</td>\n      <td>413.0</td>\n      <td>-0.063416</td>\n      <td>0.20</td>\n      <td>0.216943</td>\n      <td>0.04</td>\n      <td>0.329498</td>\n      <td>0.10</td>\n      <td>0.210379</td>\n      <td>0.56</td>\n      <td>0.56</td>\n    </tr>\n    <tr>\n      <th>23</th>\n      <td>NRG</td>\n      <td>41.730</td>\n      <td>479.0</td>\n      <td>0.100559</td>\n      <td>0.50</td>\n      <td>0.237872</td>\n      <td>0.06</td>\n      <td>0.223848</td>\n      <td>0.06</td>\n      <td>0.210379</td>\n      <td>0.54</td>\n      <td>0.54</td>\n    </tr>\n    <tr>\n      <th>24</th>\n      <td>SYF</td>\n      <td>40.900</td>\n      <td>488.0</td>\n      <td>0.126620</td>\n      <td>0.52</td>\n      <td>0.702434</td>\n      <td>0.60</td>\n      <td>0.336574</td>\n      <td>0.12</td>\n      <td>0.207995</td>\n      <td>0.52</td>\n      <td>0.52</td>\n    </tr>\n    <tr>\n      <th>25</th>\n      <td>AMAT</td>\n      <td>113.490</td>\n      <td>176.0</td>\n      <td>0.683936</td>\n      <td>0.86</td>\n      <td>0.680317</td>\n      <td>0.54</td>\n      <td>0.657061</td>\n      <td>0.78</td>\n      <td>0.204949</td>\n      <td>0.50</td>\n      <td>0.50</td>\n    </tr>\n    <tr>\n      <th>26</th>\n      <td>ZION</td>\n      <td>51.670</td>\n      <td>387.0</td>\n      <td>0.005175</td>\n      <td>0.36</td>\n      <td>0.540815</td>\n      <td>0.40</td>\n      <td>0.592084</td>\n      <td>0.72</td>\n      <td>0.200825</td>\n      <td>0.48</td>\n      <td>0.48</td>\n    </tr>\n    <tr>\n      <th>27</th>\n      <td>KEY</td>\n      <td>19.310</td>\n      <td>1035.0</td>\n      <td>-0.009402</td>\n      <td>0.30</td>\n      <td>0.624187</td>\n      <td>0.50</td>\n      <td>0.458695</td>\n      <td>0.38</td>\n      <td>0.196277</td>\n      <td>0.46</td>\n      <td>0.46</td>\n    </tr>\n    <tr>\n      <th>28</th>\n      <td>RF</td>\n      <td>19.000</td>\n      <td>1052.0</td>\n      <td>0.166265</td>\n      <td>0.60</td>\n      <td>0.810402</td>\n      <td>0.72</td>\n      <td>0.482884</td>\n      <td>0.50</td>\n      <td>0.195223</td>\n      <td>0.44</td>\n      <td>0.44</td>\n    </tr>\n    <tr>\n      <th>29</th>\n      <td>HBAN</td>\n      <td>15.576</td>\n      <td>1284.0</td>\n      <td>0.068594</td>\n      <td>0.46</td>\n      <td>0.716206</td>\n      <td>0.62</td>\n      <td>0.554655</td>\n      <td>0.66</td>\n      <td>0.194412</td>\n      <td>0.42</td>\n      <td>0.42</td>\n    </tr>\n    <tr>\n      <th>30</th>\n      <td>CFG</td>\n      <td>42.010</td>\n      <td>476.0</td>\n      <td>0.053697</td>\n      <td>0.42</td>\n      <td>0.683709</td>\n      <td>0.56</td>\n      <td>0.548860</td>\n      <td>0.64</td>\n      <td>0.194053</td>\n      <td>0.40</td>\n      <td>0.40</td>\n    </tr>\n    <tr>\n      <th>31</th>\n      <td>JPM</td>\n      <td>138.090</td>\n      <td>144.0</td>\n      <td>0.041478</td>\n      <td>0.40</td>\n      <td>0.448522</td>\n      <td>0.14</td>\n      <td>0.383301</td>\n      <td>0.20</td>\n      <td>0.179600</td>\n      <td>0.38</td>\n      <td>0.38</td>\n    </tr>\n    <tr>\n      <th>32</th>\n      <td>MS</td>\n      <td>75.900</td>\n      <td>263.0</td>\n      <td>0.347844</td>\n      <td>0.74</td>\n      <td>0.470340</td>\n      <td>0.22</td>\n      <td>0.473790</td>\n      <td>0.44</td>\n      <td>0.179128</td>\n      <td>0.36</td>\n      <td>0.36</td>\n    </tr>\n    <tr>\n      <th>33</th>\n      <td>MTB</td>\n      <td>147.900</td>\n      <td>135.0</td>\n      <td>-0.082008</td>\n      <td>0.18</td>\n      <td>0.488889</td>\n      <td>0.26</td>\n      <td>0.479107</td>\n      <td>0.46</td>\n      <td>0.178197</td>\n      <td>0.34</td>\n      <td>0.34</td>\n    </tr>\n    <tr>\n      <th>34</th>\n      <td>LB</td>\n      <td>47.160</td>\n      <td>424.0</td>\n      <td>1.276204</td>\n      <td>0.96</td>\n      <td>1.443872</td>\n      <td>0.98</td>\n      <td>0.363277</td>\n      <td>0.14</td>\n      <td>0.176125</td>\n      <td>0.32</td>\n      <td>0.32</td>\n    </tr>\n    <tr>\n      <th>35</th>\n      <td>NWL</td>\n      <td>24.700</td>\n      <td>809.0</td>\n      <td>0.264232</td>\n      <td>0.70</td>\n      <td>0.535802</td>\n      <td>0.38</td>\n      <td>0.368186</td>\n      <td>0.16</td>\n      <td>0.175322</td>\n      <td>0.30</td>\n      <td>0.30</td>\n    </tr>\n    <tr>\n      <th>36</th>\n      <td>TPR</td>\n      <td>33.930</td>\n      <td>589.0</td>\n      <td>0.183393</td>\n      <td>0.62</td>\n      <td>1.517546</td>\n      <td>1.00</td>\n      <td>0.727001</td>\n      <td>0.82</td>\n      <td>0.171409</td>\n      <td>0.28</td>\n      <td>0.28</td>\n    </tr>\n    <tr>\n      <th>37</th>\n      <td>UNM</td>\n      <td>27.000</td>\n      <td>740.0</td>\n      <td>-0.087463</td>\n      <td>0.16</td>\n      <td>0.496799</td>\n      <td>0.28</td>\n      <td>0.390381</td>\n      <td>0.22</td>\n      <td>0.167166</td>\n      <td>0.26</td>\n      <td>0.26</td>\n    </tr>\n    <tr>\n      <th>38</th>\n      <td>KLAC</td>\n      <td>320.920</td>\n      <td>62.0</td>\n      <td>0.732386</td>\n      <td>0.90</td>\n      <td>0.571383</td>\n      <td>0.46</td>\n      <td>0.482951</td>\n      <td>0.52</td>\n      <td>0.161278</td>\n      <td>0.24</td>\n      <td>0.24</td>\n    </tr>\n    <tr>\n      <th>39</th>\n      <td>TAP</td>\n      <td>53.930</td>\n      <td>370.0</td>\n      <td>-0.062569</td>\n      <td>0.22</td>\n      <td>0.460544</td>\n      <td>0.18</td>\n      <td>0.495862</td>\n      <td>0.54</td>\n      <td>0.161267</td>\n      <td>0.22</td>\n      <td>0.22</td>\n    </tr>\n    <tr>\n      <th>40</th>\n      <td>DD</td>\n      <td>85.320</td>\n      <td>234.0</td>\n      <td>0.374866</td>\n      <td>0.76</td>\n      <td>0.528973</td>\n      <td>0.34</td>\n      <td>0.411708</td>\n      <td>0.32</td>\n      <td>0.160841</td>\n      <td>0.20</td>\n      <td>0.20</td>\n    </tr>\n    <tr>\n      <th>41</th>\n      <td>BAC</td>\n      <td>33.640</td>\n      <td>594.0</td>\n      <td>-0.023481</td>\n      <td>0.26</td>\n      <td>0.460753</td>\n      <td>0.20</td>\n      <td>0.376129</td>\n      <td>0.18</td>\n      <td>0.156869</td>\n      <td>0.18</td>\n      <td>0.18</td>\n    </tr>\n    <tr>\n      <th>42</th>\n      <td>APTV</td>\n      <td>148.580</td>\n      <td>134.0</td>\n      <td>0.578497</td>\n      <td>0.84</td>\n      <td>0.769134</td>\n      <td>0.70</td>\n      <td>0.459179</td>\n      <td>0.40</td>\n      <td>0.153824</td>\n      <td>0.16</td>\n      <td>0.16</td>\n    </tr>\n    <tr>\n      <th>43</th>\n      <td>EOG</td>\n      <td>61.890</td>\n      <td>323.0</td>\n      <td>-0.290448</td>\n      <td>0.10</td>\n      <td>0.283036</td>\n      <td>0.08</td>\n      <td>0.615615</td>\n      <td>0.74</td>\n      <td>0.151519</td>\n      <td>0.14</td>\n      <td>0.14</td>\n    </tr>\n    <tr>\n      <th>44</th>\n      <td>IVZ</td>\n      <td>20.730</td>\n      <td>964.0</td>\n      <td>0.162876</td>\n      <td>0.58</td>\n      <td>0.980743</td>\n      <td>0.84</td>\n      <td>0.440932</td>\n      <td>0.36</td>\n      <td>0.149132</td>\n      <td>0.12</td>\n      <td>0.12</td>\n    </tr>\n    <tr>\n      <th>45</th>\n      <td>TGT</td>\n      <td>193.170</td>\n      <td>103.0</td>\n      <td>0.709915</td>\n      <td>0.88</td>\n      <td>0.630473</td>\n      <td>0.52</td>\n      <td>0.191475</td>\n      <td>0.04</td>\n      <td>0.147180</td>\n      <td>0.10</td>\n      <td>0.10</td>\n    </tr>\n    <tr>\n      <th>46</th>\n      <td>KEYS</td>\n      <td>151.190</td>\n      <td>132.0</td>\n      <td>0.393228</td>\n      <td>0.78</td>\n      <td>0.497651</td>\n      <td>0.30</td>\n      <td>0.399647</td>\n      <td>0.28</td>\n      <td>0.142383</td>\n      <td>0.08</td>\n      <td>0.08</td>\n    </tr>\n    <tr>\n      <th>47</th>\n      <td>LRCX</td>\n      <td>602.060</td>\n      <td>33.0</td>\n      <td>0.820907</td>\n      <td>0.94</td>\n      <td>0.602742</td>\n      <td>0.48</td>\n      <td>0.507135</td>\n      <td>0.62</td>\n      <td>0.142310</td>\n      <td>0.06</td>\n      <td>0.06</td>\n    </tr>\n    <tr>\n      <th>48</th>\n      <td>DFS</td>\n      <td>103.150</td>\n      <td>193.0</td>\n      <td>0.197375</td>\n      <td>0.64</td>\n      <td>1.056291</td>\n      <td>0.88</td>\n      <td>0.502989</td>\n      <td>0.60</td>\n      <td>0.141273</td>\n      <td>0.04</td>\n      <td>0.04</td>\n    </tr>\n    <tr>\n      <th>49</th>\n      <td>TFC</td>\n      <td>53.890</td>\n      <td>371.0</td>\n      <td>-0.037035</td>\n      <td>0.24</td>\n      <td>0.475254</td>\n      <td>0.24</td>\n      <td>0.271771</td>\n      <td>0.08</td>\n      <td>0.133213</td>\n      <td>0.02</td>\n      <td>0.02</td>\n    </tr>\n  </tbody>\n</table>\n</div>",
      "text/plain": [
       "   Ticker    Price  Number of Shares to Buy 1y Price Return  \\\n",
       "0   DISCA   36.410                    549.0        0.134138   \n",
       "1   DISCK   33.310                    600.0        0.062251   \n",
       "2    SIVB  473.280                     42.0        0.813744   \n",
       "3     ALB  194.220                    102.0        1.281740   \n",
       "4    VIAC   43.980                    454.0        0.198863   \n",
       "5    FANG   62.400                    320.0       -0.320834   \n",
       "6    FLIR   56.180                    355.0       -0.001026   \n",
       "7     DVN   21.000                    952.0       -0.204656   \n",
       "8     FTI   11.840                   1689.0       -0.397532   \n",
       "9     DXC   29.320                    682.0       -0.188938   \n",
       "10     GS  297.800                     67.0        0.244023   \n",
       "11    FCX   33.170                    602.0        1.367249   \n",
       "12    MRO    8.870                   2254.0       -0.380512   \n",
       "13    COF  117.310                    170.0        0.099399   \n",
       "14    MOS   29.820                    670.0        0.329154   \n",
       "15    AES   29.460                    678.0        0.397176   \n",
       "16     GM   57.520                    347.0        0.434492   \n",
       "17   INTC   58.310                    342.0       -0.009999   \n",
       "18     CF   47.120                    424.0        0.026710   \n",
       "19    OXY   24.220                    825.0       -0.510229   \n",
       "20   FITB   33.640                    594.0        0.146516   \n",
       "21    CMA   66.900                    298.0       -0.008041   \n",
       "22    WBA   48.330                    413.0       -0.063416   \n",
       "23    NRG   41.730                    479.0        0.100559   \n",
       "24    SYF   40.900                    488.0        0.126620   \n",
       "25   AMAT  113.490                    176.0        0.683936   \n",
       "26   ZION   51.670                    387.0        0.005175   \n",
       "27    KEY   19.310                   1035.0       -0.009402   \n",
       "28     RF   19.000                   1052.0        0.166265   \n",
       "29   HBAN   15.576                   1284.0        0.068594   \n",
       "30    CFG   42.010                    476.0        0.053697   \n",
       "31    JPM  138.090                    144.0        0.041478   \n",
       "32     MS   75.900                    263.0        0.347844   \n",
       "33    MTB  147.900                    135.0       -0.082008   \n",
       "34     LB   47.160                    424.0        1.276204   \n",
       "35    NWL   24.700                    809.0        0.264232   \n",
       "36    TPR   33.930                    589.0        0.183393   \n",
       "37    UNM   27.000                    740.0       -0.087463   \n",
       "38   KLAC  320.920                     62.0        0.732386   \n",
       "39    TAP   53.930                    370.0       -0.062569   \n",
       "40     DD   85.320                    234.0        0.374866   \n",
       "41    BAC   33.640                    594.0       -0.023481   \n",
       "42   APTV  148.580                    134.0        0.578497   \n",
       "43    EOG   61.890                    323.0       -0.290448   \n",
       "44    IVZ   20.730                    964.0        0.162876   \n",
       "45    TGT  193.170                    103.0        0.709915   \n",
       "46   KEYS  151.190                    132.0        0.393228   \n",
       "47   LRCX  602.060                     33.0        0.820907   \n",
       "48    DFS  103.150                    193.0        0.197375   \n",
       "49    TFC   53.890                    371.0       -0.037035   \n",
       "\n",
       "    1y Return Percentile 6m Price Return  6m Return Percentile  \\\n",
       "0                   0.54        0.735230                  0.66   \n",
       "1                   0.44        0.696595                  0.58   \n",
       "2                   0.92        1.129548                  0.92   \n",
       "3                   0.98        1.094303                  0.90   \n",
       "4                   0.66        0.852088                  0.78   \n",
       "5                   0.08        0.555564                  0.44   \n",
       "6                   0.34        0.319879                  0.10   \n",
       "7                   0.12        0.995734                  0.86   \n",
       "8                   0.04        0.547964                  0.42   \n",
       "9                   0.14        0.723030                  0.64   \n",
       "10                  0.68        0.452500                  0.16   \n",
       "11                  1.00        1.243592                  0.96   \n",
       "12                  0.06        0.521332                  0.32   \n",
       "13                  0.48        0.833293                  0.76   \n",
       "14                  0.72        1.178501                  0.94   \n",
       "15                  0.80        0.822678                  0.74   \n",
       "16                  0.82        0.932799                  0.82   \n",
       "17                  0.28       -0.027925                  0.02   \n",
       "18                  0.38        0.532752                  0.36   \n",
       "19                  0.02        0.377628                  0.12   \n",
       "20                  0.56        0.757639                  0.68   \n",
       "21                  0.32        0.855661                  0.80   \n",
       "22                  0.20        0.216943                  0.04   \n",
       "23                  0.50        0.237872                  0.06   \n",
       "24                  0.52        0.702434                  0.60   \n",
       "25                  0.86        0.680317                  0.54   \n",
       "26                  0.36        0.540815                  0.40   \n",
       "27                  0.30        0.624187                  0.50   \n",
       "28                  0.60        0.810402                  0.72   \n",
       "29                  0.46        0.716206                  0.62   \n",
       "30                  0.42        0.683709                  0.56   \n",
       "31                  0.40        0.448522                  0.14   \n",
       "32                  0.74        0.470340                  0.22   \n",
       "33                  0.18        0.488889                  0.26   \n",
       "34                  0.96        1.443872                  0.98   \n",
       "35                  0.70        0.535802                  0.38   \n",
       "36                  0.62        1.517546                  1.00   \n",
       "37                  0.16        0.496799                  0.28   \n",
       "38                  0.90        0.571383                  0.46   \n",
       "39                  0.22        0.460544                  0.18   \n",
       "40                  0.76        0.528973                  0.34   \n",
       "41                  0.26        0.460753                  0.20   \n",
       "42                  0.84        0.769134                  0.70   \n",
       "43                  0.10        0.283036                  0.08   \n",
       "44                  0.58        0.980743                  0.84   \n",
       "45                  0.88        0.630473                  0.52   \n",
       "46                  0.78        0.497651                  0.30   \n",
       "47                  0.94        0.602742                  0.48   \n",
       "48                  0.64        1.056291                  0.88   \n",
       "49                  0.24        0.475254                  0.24   \n",
       "\n",
       "   3m Price Return  3m Return Percentile 1m Price Return  \\\n",
       "0         0.776114                  0.88        0.336713   \n",
       "1         0.739484                  0.84        0.330427   \n",
       "2         0.713063                  0.80        0.302764   \n",
       "3         0.951490                  0.92        0.301047   \n",
       "4         0.653421                  0.76        0.296605   \n",
       "5         1.057284                  0.96        0.294074   \n",
       "6         0.463227                  0.42        0.284724   \n",
       "7         1.238318                  0.98        0.262469   \n",
       "8         0.748908                  0.86        0.250000   \n",
       "9         0.397663                  0.24        0.244105   \n",
       "10        0.479406                  0.48        0.243762   \n",
       "11        0.785674                  0.90        0.237041   \n",
       "12        1.055175                  0.94        0.234753   \n",
       "13        0.436524                  0.34        0.234014   \n",
       "14        0.501740                  0.58        0.232051   \n",
       "15        0.399081                  0.26        0.227859   \n",
       "16        0.500971                  0.56        0.226671   \n",
       "17        0.073294                  0.02        0.222701   \n",
       "18        0.576270                  0.70        0.218325   \n",
       "19        1.241394                  1.00        0.214420   \n",
       "20        0.402216                  0.30        0.214073   \n",
       "21        0.567961                  0.68        0.213352   \n",
       "22        0.329498                  0.10        0.210379   \n",
       "23        0.223848                  0.06        0.210379   \n",
       "24        0.336574                  0.12        0.207995   \n",
       "25        0.657061                  0.78        0.204949   \n",
       "26        0.592084                  0.72        0.200825   \n",
       "27        0.458695                  0.38        0.196277   \n",
       "28        0.482884                  0.50        0.195223   \n",
       "29        0.554655                  0.66        0.194412   \n",
       "30        0.548860                  0.64        0.194053   \n",
       "31        0.383301                  0.20        0.179600   \n",
       "32        0.473790                  0.44        0.179128   \n",
       "33        0.479107                  0.46        0.178197   \n",
       "34        0.363277                  0.14        0.176125   \n",
       "35        0.368186                  0.16        0.175322   \n",
       "36        0.727001                  0.82        0.171409   \n",
       "37        0.390381                  0.22        0.167166   \n",
       "38        0.482951                  0.52        0.161278   \n",
       "39        0.495862                  0.54        0.161267   \n",
       "40        0.411708                  0.32        0.160841   \n",
       "41        0.376129                  0.18        0.156869   \n",
       "42        0.459179                  0.40        0.153824   \n",
       "43        0.615615                  0.74        0.151519   \n",
       "44        0.440932                  0.36        0.149132   \n",
       "45        0.191475                  0.04        0.147180   \n",
       "46        0.399647                  0.28        0.142383   \n",
       "47        0.507135                  0.62        0.142310   \n",
       "48        0.502989                  0.60        0.141273   \n",
       "49        0.271771                  0.08        0.133213   \n",
       "\n",
       "    1m Return Percentile  hqm_score  \n",
       "0                   1.00       1.00  \n",
       "1                   0.98       0.98  \n",
       "2                   0.96       0.96  \n",
       "3                   0.94       0.94  \n",
       "4                   0.92       0.92  \n",
       "5                   0.90       0.90  \n",
       "6                   0.88       0.88  \n",
       "7                   0.86       0.86  \n",
       "8                   0.84       0.84  \n",
       "9                   0.82       0.82  \n",
       "10                  0.80       0.80  \n",
       "11                  0.78       0.78  \n",
       "12                  0.76       0.76  \n",
       "13                  0.74       0.74  \n",
       "14                  0.72       0.72  \n",
       "15                  0.70       0.70  \n",
       "16                  0.68       0.68  \n",
       "17                  0.66       0.66  \n",
       "18                  0.64       0.64  \n",
       "19                  0.62       0.62  \n",
       "20                  0.60       0.60  \n",
       "21                  0.58       0.58  \n",
       "22                  0.56       0.56  \n",
       "23                  0.54       0.54  \n",
       "24                  0.52       0.52  \n",
       "25                  0.50       0.50  \n",
       "26                  0.48       0.48  \n",
       "27                  0.46       0.46  \n",
       "28                  0.44       0.44  \n",
       "29                  0.42       0.42  \n",
       "30                  0.40       0.40  \n",
       "31                  0.38       0.38  \n",
       "32                  0.36       0.36  \n",
       "33                  0.34       0.34  \n",
       "34                  0.32       0.32  \n",
       "35                  0.30       0.30  \n",
       "36                  0.28       0.28  \n",
       "37                  0.26       0.26  \n",
       "38                  0.24       0.24  \n",
       "39                  0.22       0.22  \n",
       "40                  0.20       0.20  \n",
       "41                  0.18       0.18  \n",
       "42                  0.16       0.16  \n",
       "43                  0.14       0.14  \n",
       "44                  0.12       0.12  \n",
       "45                  0.10       0.10  \n",
       "46                  0.08       0.08  \n",
       "47                  0.06       0.06  \n",
       "48                  0.04       0.04  \n",
       "49                  0.02       0.02  "
      ]
     },
     "execution_count": 36,
     "metadata": {},
     "output_type": "execute_result"
    }
   ],
   "source": [
    "df['hqm_score'] = 'N/A'\n",
    "\n",
    "for row in df_hqm.index:\n",
    "    for period in time_periods:\n",
    "        hqm_percentile = []\n",
    "        hqm_percentile.append(df_hqm.loc[row, return_percentile])\n",
    "\n",
    "        df_hqm.loc[row, 'hqm_score'] = np.mean(hqm_percentile)\n",
    "\n",
    "df_hqm"
   ]
  },
  {
   "cell_type": "code",
   "execution_count": 37,
   "metadata": {},
   "outputs": [
    {
     "data": {
      "text/html": "<div>\n<style scoped>\n    .dataframe tbody tr th:only-of-type {\n        vertical-align: middle;\n    }\n\n    .dataframe tbody tr th {\n        vertical-align: top;\n    }\n\n    .dataframe thead th {\n        text-align: right;\n    }\n</style>\n<table border=\"1\" class=\"dataframe\">\n  <thead>\n    <tr style=\"text-align: right;\">\n      <th></th>\n      <th>Ticker</th>\n      <th>Price</th>\n      <th>Number of Shares to Buy</th>\n      <th>1y Price Return</th>\n      <th>1y Return Percentile</th>\n      <th>6m Price Return</th>\n      <th>6m Return Percentile</th>\n      <th>3m Price Return</th>\n      <th>3m Return Percentile</th>\n      <th>1m Price Return</th>\n      <th>1m Return Percentile</th>\n      <th>hqm_score</th>\n    </tr>\n  </thead>\n  <tbody>\n    <tr>\n      <th>0</th>\n      <td>DISCA</td>\n      <td>36.410</td>\n      <td>549.0</td>\n      <td>0.134138</td>\n      <td>0.54</td>\n      <td>0.735230</td>\n      <td>0.66</td>\n      <td>0.776114</td>\n      <td>0.88</td>\n      <td>0.336713</td>\n      <td>1.00</td>\n      <td>1.00</td>\n    </tr>\n    <tr>\n      <th>1</th>\n      <td>DISCK</td>\n      <td>33.310</td>\n      <td>600.0</td>\n      <td>0.062251</td>\n      <td>0.44</td>\n      <td>0.696595</td>\n      <td>0.58</td>\n      <td>0.739484</td>\n      <td>0.84</td>\n      <td>0.330427</td>\n      <td>0.98</td>\n      <td>0.98</td>\n    </tr>\n    <tr>\n      <th>2</th>\n      <td>SIVB</td>\n      <td>473.280</td>\n      <td>42.0</td>\n      <td>0.813744</td>\n      <td>0.92</td>\n      <td>1.129548</td>\n      <td>0.92</td>\n      <td>0.713063</td>\n      <td>0.80</td>\n      <td>0.302764</td>\n      <td>0.96</td>\n      <td>0.96</td>\n    </tr>\n    <tr>\n      <th>3</th>\n      <td>ALB</td>\n      <td>194.220</td>\n      <td>102.0</td>\n      <td>1.281740</td>\n      <td>0.98</td>\n      <td>1.094303</td>\n      <td>0.90</td>\n      <td>0.951490</td>\n      <td>0.92</td>\n      <td>0.301047</td>\n      <td>0.94</td>\n      <td>0.94</td>\n    </tr>\n    <tr>\n      <th>4</th>\n      <td>VIAC</td>\n      <td>43.980</td>\n      <td>454.0</td>\n      <td>0.198863</td>\n      <td>0.66</td>\n      <td>0.852088</td>\n      <td>0.78</td>\n      <td>0.653421</td>\n      <td>0.76</td>\n      <td>0.296605</td>\n      <td>0.92</td>\n      <td>0.92</td>\n    </tr>\n    <tr>\n      <th>5</th>\n      <td>FANG</td>\n      <td>62.400</td>\n      <td>320.0</td>\n      <td>-0.320834</td>\n      <td>0.08</td>\n      <td>0.555564</td>\n      <td>0.44</td>\n      <td>1.057284</td>\n      <td>0.96</td>\n      <td>0.294074</td>\n      <td>0.90</td>\n      <td>0.90</td>\n    </tr>\n    <tr>\n      <th>6</th>\n      <td>FLIR</td>\n      <td>56.180</td>\n      <td>355.0</td>\n      <td>-0.001026</td>\n      <td>0.34</td>\n      <td>0.319879</td>\n      <td>0.10</td>\n      <td>0.463227</td>\n      <td>0.42</td>\n      <td>0.284724</td>\n      <td>0.88</td>\n      <td>0.88</td>\n    </tr>\n    <tr>\n      <th>7</th>\n      <td>DVN</td>\n      <td>21.000</td>\n      <td>952.0</td>\n      <td>-0.204656</td>\n      <td>0.12</td>\n      <td>0.995734</td>\n      <td>0.86</td>\n      <td>1.238318</td>\n      <td>0.98</td>\n      <td>0.262469</td>\n      <td>0.86</td>\n      <td>0.86</td>\n    </tr>\n    <tr>\n      <th>8</th>\n      <td>FTI</td>\n      <td>11.840</td>\n      <td>1689.0</td>\n      <td>-0.397532</td>\n      <td>0.04</td>\n      <td>0.547964</td>\n      <td>0.42</td>\n      <td>0.748908</td>\n      <td>0.86</td>\n      <td>0.250000</td>\n      <td>0.84</td>\n      <td>0.84</td>\n    </tr>\n    <tr>\n      <th>9</th>\n      <td>DXC</td>\n      <td>29.320</td>\n      <td>682.0</td>\n      <td>-0.188938</td>\n      <td>0.14</td>\n      <td>0.723030</td>\n      <td>0.64</td>\n      <td>0.397663</td>\n      <td>0.24</td>\n      <td>0.244105</td>\n      <td>0.82</td>\n      <td>0.82</td>\n    </tr>\n    <tr>\n      <th>10</th>\n      <td>GS</td>\n      <td>297.800</td>\n      <td>67.0</td>\n      <td>0.244023</td>\n      <td>0.68</td>\n      <td>0.452500</td>\n      <td>0.16</td>\n      <td>0.479406</td>\n      <td>0.48</td>\n      <td>0.243762</td>\n      <td>0.80</td>\n      <td>0.80</td>\n    </tr>\n    <tr>\n      <th>11</th>\n      <td>FCX</td>\n      <td>33.170</td>\n      <td>602.0</td>\n      <td>1.367249</td>\n      <td>1.00</td>\n      <td>1.243592</td>\n      <td>0.96</td>\n      <td>0.785674</td>\n      <td>0.90</td>\n      <td>0.237041</td>\n      <td>0.78</td>\n      <td>0.78</td>\n    </tr>\n    <tr>\n      <th>12</th>\n      <td>MRO</td>\n      <td>8.870</td>\n      <td>2254.0</td>\n      <td>-0.380512</td>\n      <td>0.06</td>\n      <td>0.521332</td>\n      <td>0.32</td>\n      <td>1.055175</td>\n      <td>0.94</td>\n      <td>0.234753</td>\n      <td>0.76</td>\n      <td>0.76</td>\n    </tr>\n    <tr>\n      <th>13</th>\n      <td>COF</td>\n      <td>117.310</td>\n      <td>170.0</td>\n      <td>0.099399</td>\n      <td>0.48</td>\n      <td>0.833293</td>\n      <td>0.76</td>\n      <td>0.436524</td>\n      <td>0.34</td>\n      <td>0.234014</td>\n      <td>0.74</td>\n      <td>0.74</td>\n    </tr>\n    <tr>\n      <th>14</th>\n      <td>MOS</td>\n      <td>29.820</td>\n      <td>670.0</td>\n      <td>0.329154</td>\n      <td>0.72</td>\n      <td>1.178501</td>\n      <td>0.94</td>\n      <td>0.501740</td>\n      <td>0.58</td>\n      <td>0.232051</td>\n      <td>0.72</td>\n      <td>0.72</td>\n    </tr>\n    <tr>\n      <th>15</th>\n      <td>AES</td>\n      <td>29.460</td>\n      <td>678.0</td>\n      <td>0.397176</td>\n      <td>0.80</td>\n      <td>0.822678</td>\n      <td>0.74</td>\n      <td>0.399081</td>\n      <td>0.26</td>\n      <td>0.227859</td>\n      <td>0.70</td>\n      <td>0.70</td>\n    </tr>\n    <tr>\n      <th>16</th>\n      <td>GM</td>\n      <td>57.520</td>\n      <td>347.0</td>\n      <td>0.434492</td>\n      <td>0.82</td>\n      <td>0.932799</td>\n      <td>0.82</td>\n      <td>0.500971</td>\n      <td>0.56</td>\n      <td>0.226671</td>\n      <td>0.68</td>\n      <td>0.68</td>\n    </tr>\n    <tr>\n      <th>17</th>\n      <td>INTC</td>\n      <td>58.310</td>\n      <td>342.0</td>\n      <td>-0.009999</td>\n      <td>0.28</td>\n      <td>-0.027925</td>\n      <td>0.02</td>\n      <td>0.073294</td>\n      <td>0.02</td>\n      <td>0.222701</td>\n      <td>0.66</td>\n      <td>0.66</td>\n    </tr>\n    <tr>\n      <th>18</th>\n      <td>CF</td>\n      <td>47.120</td>\n      <td>424.0</td>\n      <td>0.026710</td>\n      <td>0.38</td>\n      <td>0.532752</td>\n      <td>0.36</td>\n      <td>0.576270</td>\n      <td>0.70</td>\n      <td>0.218325</td>\n      <td>0.64</td>\n      <td>0.64</td>\n    </tr>\n    <tr>\n      <th>19</th>\n      <td>OXY</td>\n      <td>24.220</td>\n      <td>825.0</td>\n      <td>-0.510229</td>\n      <td>0.02</td>\n      <td>0.377628</td>\n      <td>0.12</td>\n      <td>1.241394</td>\n      <td>1.00</td>\n      <td>0.214420</td>\n      <td>0.62</td>\n      <td>0.62</td>\n    </tr>\n    <tr>\n      <th>20</th>\n      <td>FITB</td>\n      <td>33.640</td>\n      <td>594.0</td>\n      <td>0.146516</td>\n      <td>0.56</td>\n      <td>0.757639</td>\n      <td>0.68</td>\n      <td>0.402216</td>\n      <td>0.30</td>\n      <td>0.214073</td>\n      <td>0.60</td>\n      <td>0.60</td>\n    </tr>\n    <tr>\n      <th>21</th>\n      <td>CMA</td>\n      <td>66.900</td>\n      <td>298.0</td>\n      <td>-0.008041</td>\n      <td>0.32</td>\n      <td>0.855661</td>\n      <td>0.80</td>\n      <td>0.567961</td>\n      <td>0.68</td>\n      <td>0.213352</td>\n      <td>0.58</td>\n      <td>0.58</td>\n    </tr>\n    <tr>\n      <th>22</th>\n      <td>WBA</td>\n      <td>48.330</td>\n      <td>413.0</td>\n      <td>-0.063416</td>\n      <td>0.20</td>\n      <td>0.216943</td>\n      <td>0.04</td>\n      <td>0.329498</td>\n      <td>0.10</td>\n      <td>0.210379</td>\n      <td>0.56</td>\n      <td>0.56</td>\n    </tr>\n    <tr>\n      <th>23</th>\n      <td>NRG</td>\n      <td>41.730</td>\n      <td>479.0</td>\n      <td>0.100559</td>\n      <td>0.50</td>\n      <td>0.237872</td>\n      <td>0.06</td>\n      <td>0.223848</td>\n      <td>0.06</td>\n      <td>0.210379</td>\n      <td>0.54</td>\n      <td>0.54</td>\n    </tr>\n    <tr>\n      <th>24</th>\n      <td>SYF</td>\n      <td>40.900</td>\n      <td>488.0</td>\n      <td>0.126620</td>\n      <td>0.52</td>\n      <td>0.702434</td>\n      <td>0.60</td>\n      <td>0.336574</td>\n      <td>0.12</td>\n      <td>0.207995</td>\n      <td>0.52</td>\n      <td>0.52</td>\n    </tr>\n    <tr>\n      <th>25</th>\n      <td>AMAT</td>\n      <td>113.490</td>\n      <td>176.0</td>\n      <td>0.683936</td>\n      <td>0.86</td>\n      <td>0.680317</td>\n      <td>0.54</td>\n      <td>0.657061</td>\n      <td>0.78</td>\n      <td>0.204949</td>\n      <td>0.50</td>\n      <td>0.50</td>\n    </tr>\n    <tr>\n      <th>26</th>\n      <td>ZION</td>\n      <td>51.670</td>\n      <td>387.0</td>\n      <td>0.005175</td>\n      <td>0.36</td>\n      <td>0.540815</td>\n      <td>0.40</td>\n      <td>0.592084</td>\n      <td>0.72</td>\n      <td>0.200825</td>\n      <td>0.48</td>\n      <td>0.48</td>\n    </tr>\n    <tr>\n      <th>27</th>\n      <td>KEY</td>\n      <td>19.310</td>\n      <td>1035.0</td>\n      <td>-0.009402</td>\n      <td>0.30</td>\n      <td>0.624187</td>\n      <td>0.50</td>\n      <td>0.458695</td>\n      <td>0.38</td>\n      <td>0.196277</td>\n      <td>0.46</td>\n      <td>0.46</td>\n    </tr>\n    <tr>\n      <th>28</th>\n      <td>RF</td>\n      <td>19.000</td>\n      <td>1052.0</td>\n      <td>0.166265</td>\n      <td>0.60</td>\n      <td>0.810402</td>\n      <td>0.72</td>\n      <td>0.482884</td>\n      <td>0.50</td>\n      <td>0.195223</td>\n      <td>0.44</td>\n      <td>0.44</td>\n    </tr>\n    <tr>\n      <th>29</th>\n      <td>HBAN</td>\n      <td>15.576</td>\n      <td>1284.0</td>\n      <td>0.068594</td>\n      <td>0.46</td>\n      <td>0.716206</td>\n      <td>0.62</td>\n      <td>0.554655</td>\n      <td>0.66</td>\n      <td>0.194412</td>\n      <td>0.42</td>\n      <td>0.42</td>\n    </tr>\n    <tr>\n      <th>30</th>\n      <td>CFG</td>\n      <td>42.010</td>\n      <td>476.0</td>\n      <td>0.053697</td>\n      <td>0.42</td>\n      <td>0.683709</td>\n      <td>0.56</td>\n      <td>0.548860</td>\n      <td>0.64</td>\n      <td>0.194053</td>\n      <td>0.40</td>\n      <td>0.40</td>\n    </tr>\n    <tr>\n      <th>31</th>\n      <td>JPM</td>\n      <td>138.090</td>\n      <td>144.0</td>\n      <td>0.041478</td>\n      <td>0.40</td>\n      <td>0.448522</td>\n      <td>0.14</td>\n      <td>0.383301</td>\n      <td>0.20</td>\n      <td>0.179600</td>\n      <td>0.38</td>\n      <td>0.38</td>\n    </tr>\n    <tr>\n      <th>32</th>\n      <td>MS</td>\n      <td>75.900</td>\n      <td>263.0</td>\n      <td>0.347844</td>\n      <td>0.74</td>\n      <td>0.470340</td>\n      <td>0.22</td>\n      <td>0.473790</td>\n      <td>0.44</td>\n      <td>0.179128</td>\n      <td>0.36</td>\n      <td>0.36</td>\n    </tr>\n    <tr>\n      <th>33</th>\n      <td>MTB</td>\n      <td>147.900</td>\n      <td>135.0</td>\n      <td>-0.082008</td>\n      <td>0.18</td>\n      <td>0.488889</td>\n      <td>0.26</td>\n      <td>0.479107</td>\n      <td>0.46</td>\n      <td>0.178197</td>\n      <td>0.34</td>\n      <td>0.34</td>\n    </tr>\n    <tr>\n      <th>34</th>\n      <td>LB</td>\n      <td>47.160</td>\n      <td>424.0</td>\n      <td>1.276204</td>\n      <td>0.96</td>\n      <td>1.443872</td>\n      <td>0.98</td>\n      <td>0.363277</td>\n      <td>0.14</td>\n      <td>0.176125</td>\n      <td>0.32</td>\n      <td>0.32</td>\n    </tr>\n    <tr>\n      <th>35</th>\n      <td>NWL</td>\n      <td>24.700</td>\n      <td>809.0</td>\n      <td>0.264232</td>\n      <td>0.70</td>\n      <td>0.535802</td>\n      <td>0.38</td>\n      <td>0.368186</td>\n      <td>0.16</td>\n      <td>0.175322</td>\n      <td>0.30</td>\n      <td>0.30</td>\n    </tr>\n    <tr>\n      <th>36</th>\n      <td>TPR</td>\n      <td>33.930</td>\n      <td>589.0</td>\n      <td>0.183393</td>\n      <td>0.62</td>\n      <td>1.517546</td>\n      <td>1.00</td>\n      <td>0.727001</td>\n      <td>0.82</td>\n      <td>0.171409</td>\n      <td>0.28</td>\n      <td>0.28</td>\n    </tr>\n    <tr>\n      <th>37</th>\n      <td>UNM</td>\n      <td>27.000</td>\n      <td>740.0</td>\n      <td>-0.087463</td>\n      <td>0.16</td>\n      <td>0.496799</td>\n      <td>0.28</td>\n      <td>0.390381</td>\n      <td>0.22</td>\n      <td>0.167166</td>\n      <td>0.26</td>\n      <td>0.26</td>\n    </tr>\n    <tr>\n      <th>38</th>\n      <td>KLAC</td>\n      <td>320.920</td>\n      <td>62.0</td>\n      <td>0.732386</td>\n      <td>0.90</td>\n      <td>0.571383</td>\n      <td>0.46</td>\n      <td>0.482951</td>\n      <td>0.52</td>\n      <td>0.161278</td>\n      <td>0.24</td>\n      <td>0.24</td>\n    </tr>\n    <tr>\n      <th>39</th>\n      <td>TAP</td>\n      <td>53.930</td>\n      <td>370.0</td>\n      <td>-0.062569</td>\n      <td>0.22</td>\n      <td>0.460544</td>\n      <td>0.18</td>\n      <td>0.495862</td>\n      <td>0.54</td>\n      <td>0.161267</td>\n      <td>0.22</td>\n      <td>0.22</td>\n    </tr>\n    <tr>\n      <th>40</th>\n      <td>DD</td>\n      <td>85.320</td>\n      <td>234.0</td>\n      <td>0.374866</td>\n      <td>0.76</td>\n      <td>0.528973</td>\n      <td>0.34</td>\n      <td>0.411708</td>\n      <td>0.32</td>\n      <td>0.160841</td>\n      <td>0.20</td>\n      <td>0.20</td>\n    </tr>\n    <tr>\n      <th>41</th>\n      <td>BAC</td>\n      <td>33.640</td>\n      <td>594.0</td>\n      <td>-0.023481</td>\n      <td>0.26</td>\n      <td>0.460753</td>\n      <td>0.20</td>\n      <td>0.376129</td>\n      <td>0.18</td>\n      <td>0.156869</td>\n      <td>0.18</td>\n      <td>0.18</td>\n    </tr>\n    <tr>\n      <th>42</th>\n      <td>APTV</td>\n      <td>148.580</td>\n      <td>134.0</td>\n      <td>0.578497</td>\n      <td>0.84</td>\n      <td>0.769134</td>\n      <td>0.70</td>\n      <td>0.459179</td>\n      <td>0.40</td>\n      <td>0.153824</td>\n      <td>0.16</td>\n      <td>0.16</td>\n    </tr>\n    <tr>\n      <th>43</th>\n      <td>EOG</td>\n      <td>61.890</td>\n      <td>323.0</td>\n      <td>-0.290448</td>\n      <td>0.10</td>\n      <td>0.283036</td>\n      <td>0.08</td>\n      <td>0.615615</td>\n      <td>0.74</td>\n      <td>0.151519</td>\n      <td>0.14</td>\n      <td>0.14</td>\n    </tr>\n    <tr>\n      <th>44</th>\n      <td>IVZ</td>\n      <td>20.730</td>\n      <td>964.0</td>\n      <td>0.162876</td>\n      <td>0.58</td>\n      <td>0.980743</td>\n      <td>0.84</td>\n      <td>0.440932</td>\n      <td>0.36</td>\n      <td>0.149132</td>\n      <td>0.12</td>\n      <td>0.12</td>\n    </tr>\n    <tr>\n      <th>45</th>\n      <td>TGT</td>\n      <td>193.170</td>\n      <td>103.0</td>\n      <td>0.709915</td>\n      <td>0.88</td>\n      <td>0.630473</td>\n      <td>0.52</td>\n      <td>0.191475</td>\n      <td>0.04</td>\n      <td>0.147180</td>\n      <td>0.10</td>\n      <td>0.10</td>\n    </tr>\n    <tr>\n      <th>46</th>\n      <td>KEYS</td>\n      <td>151.190</td>\n      <td>132.0</td>\n      <td>0.393228</td>\n      <td>0.78</td>\n      <td>0.497651</td>\n      <td>0.30</td>\n      <td>0.399647</td>\n      <td>0.28</td>\n      <td>0.142383</td>\n      <td>0.08</td>\n      <td>0.08</td>\n    </tr>\n    <tr>\n      <th>47</th>\n      <td>LRCX</td>\n      <td>602.060</td>\n      <td>33.0</td>\n      <td>0.820907</td>\n      <td>0.94</td>\n      <td>0.602742</td>\n      <td>0.48</td>\n      <td>0.507135</td>\n      <td>0.62</td>\n      <td>0.142310</td>\n      <td>0.06</td>\n      <td>0.06</td>\n    </tr>\n    <tr>\n      <th>48</th>\n      <td>DFS</td>\n      <td>103.150</td>\n      <td>193.0</td>\n      <td>0.197375</td>\n      <td>0.64</td>\n      <td>1.056291</td>\n      <td>0.88</td>\n      <td>0.502989</td>\n      <td>0.60</td>\n      <td>0.141273</td>\n      <td>0.04</td>\n      <td>0.04</td>\n    </tr>\n    <tr>\n      <th>49</th>\n      <td>TFC</td>\n      <td>53.890</td>\n      <td>371.0</td>\n      <td>-0.037035</td>\n      <td>0.24</td>\n      <td>0.475254</td>\n      <td>0.24</td>\n      <td>0.271771</td>\n      <td>0.08</td>\n      <td>0.133213</td>\n      <td>0.02</td>\n      <td>0.02</td>\n    </tr>\n  </tbody>\n</table>\n</div>",
      "text/plain": [
       "   Ticker    Price  Number of Shares to Buy 1y Price Return  \\\n",
       "0   DISCA   36.410                    549.0        0.134138   \n",
       "1   DISCK   33.310                    600.0        0.062251   \n",
       "2    SIVB  473.280                     42.0        0.813744   \n",
       "3     ALB  194.220                    102.0        1.281740   \n",
       "4    VIAC   43.980                    454.0        0.198863   \n",
       "5    FANG   62.400                    320.0       -0.320834   \n",
       "6    FLIR   56.180                    355.0       -0.001026   \n",
       "7     DVN   21.000                    952.0       -0.204656   \n",
       "8     FTI   11.840                   1689.0       -0.397532   \n",
       "9     DXC   29.320                    682.0       -0.188938   \n",
       "10     GS  297.800                     67.0        0.244023   \n",
       "11    FCX   33.170                    602.0        1.367249   \n",
       "12    MRO    8.870                   2254.0       -0.380512   \n",
       "13    COF  117.310                    170.0        0.099399   \n",
       "14    MOS   29.820                    670.0        0.329154   \n",
       "15    AES   29.460                    678.0        0.397176   \n",
       "16     GM   57.520                    347.0        0.434492   \n",
       "17   INTC   58.310                    342.0       -0.009999   \n",
       "18     CF   47.120                    424.0        0.026710   \n",
       "19    OXY   24.220                    825.0       -0.510229   \n",
       "20   FITB   33.640                    594.0        0.146516   \n",
       "21    CMA   66.900                    298.0       -0.008041   \n",
       "22    WBA   48.330                    413.0       -0.063416   \n",
       "23    NRG   41.730                    479.0        0.100559   \n",
       "24    SYF   40.900                    488.0        0.126620   \n",
       "25   AMAT  113.490                    176.0        0.683936   \n",
       "26   ZION   51.670                    387.0        0.005175   \n",
       "27    KEY   19.310                   1035.0       -0.009402   \n",
       "28     RF   19.000                   1052.0        0.166265   \n",
       "29   HBAN   15.576                   1284.0        0.068594   \n",
       "30    CFG   42.010                    476.0        0.053697   \n",
       "31    JPM  138.090                    144.0        0.041478   \n",
       "32     MS   75.900                    263.0        0.347844   \n",
       "33    MTB  147.900                    135.0       -0.082008   \n",
       "34     LB   47.160                    424.0        1.276204   \n",
       "35    NWL   24.700                    809.0        0.264232   \n",
       "36    TPR   33.930                    589.0        0.183393   \n",
       "37    UNM   27.000                    740.0       -0.087463   \n",
       "38   KLAC  320.920                     62.0        0.732386   \n",
       "39    TAP   53.930                    370.0       -0.062569   \n",
       "40     DD   85.320                    234.0        0.374866   \n",
       "41    BAC   33.640                    594.0       -0.023481   \n",
       "42   APTV  148.580                    134.0        0.578497   \n",
       "43    EOG   61.890                    323.0       -0.290448   \n",
       "44    IVZ   20.730                    964.0        0.162876   \n",
       "45    TGT  193.170                    103.0        0.709915   \n",
       "46   KEYS  151.190                    132.0        0.393228   \n",
       "47   LRCX  602.060                     33.0        0.820907   \n",
       "48    DFS  103.150                    193.0        0.197375   \n",
       "49    TFC   53.890                    371.0       -0.037035   \n",
       "\n",
       "    1y Return Percentile 6m Price Return  6m Return Percentile  \\\n",
       "0                   0.54        0.735230                  0.66   \n",
       "1                   0.44        0.696595                  0.58   \n",
       "2                   0.92        1.129548                  0.92   \n",
       "3                   0.98        1.094303                  0.90   \n",
       "4                   0.66        0.852088                  0.78   \n",
       "5                   0.08        0.555564                  0.44   \n",
       "6                   0.34        0.319879                  0.10   \n",
       "7                   0.12        0.995734                  0.86   \n",
       "8                   0.04        0.547964                  0.42   \n",
       "9                   0.14        0.723030                  0.64   \n",
       "10                  0.68        0.452500                  0.16   \n",
       "11                  1.00        1.243592                  0.96   \n",
       "12                  0.06        0.521332                  0.32   \n",
       "13                  0.48        0.833293                  0.76   \n",
       "14                  0.72        1.178501                  0.94   \n",
       "15                  0.80        0.822678                  0.74   \n",
       "16                  0.82        0.932799                  0.82   \n",
       "17                  0.28       -0.027925                  0.02   \n",
       "18                  0.38        0.532752                  0.36   \n",
       "19                  0.02        0.377628                  0.12   \n",
       "20                  0.56        0.757639                  0.68   \n",
       "21                  0.32        0.855661                  0.80   \n",
       "22                  0.20        0.216943                  0.04   \n",
       "23                  0.50        0.237872                  0.06   \n",
       "24                  0.52        0.702434                  0.60   \n",
       "25                  0.86        0.680317                  0.54   \n",
       "26                  0.36        0.540815                  0.40   \n",
       "27                  0.30        0.624187                  0.50   \n",
       "28                  0.60        0.810402                  0.72   \n",
       "29                  0.46        0.716206                  0.62   \n",
       "30                  0.42        0.683709                  0.56   \n",
       "31                  0.40        0.448522                  0.14   \n",
       "32                  0.74        0.470340                  0.22   \n",
       "33                  0.18        0.488889                  0.26   \n",
       "34                  0.96        1.443872                  0.98   \n",
       "35                  0.70        0.535802                  0.38   \n",
       "36                  0.62        1.517546                  1.00   \n",
       "37                  0.16        0.496799                  0.28   \n",
       "38                  0.90        0.571383                  0.46   \n",
       "39                  0.22        0.460544                  0.18   \n",
       "40                  0.76        0.528973                  0.34   \n",
       "41                  0.26        0.460753                  0.20   \n",
       "42                  0.84        0.769134                  0.70   \n",
       "43                  0.10        0.283036                  0.08   \n",
       "44                  0.58        0.980743                  0.84   \n",
       "45                  0.88        0.630473                  0.52   \n",
       "46                  0.78        0.497651                  0.30   \n",
       "47                  0.94        0.602742                  0.48   \n",
       "48                  0.64        1.056291                  0.88   \n",
       "49                  0.24        0.475254                  0.24   \n",
       "\n",
       "   3m Price Return  3m Return Percentile 1m Price Return  \\\n",
       "0         0.776114                  0.88        0.336713   \n",
       "1         0.739484                  0.84        0.330427   \n",
       "2         0.713063                  0.80        0.302764   \n",
       "3         0.951490                  0.92        0.301047   \n",
       "4         0.653421                  0.76        0.296605   \n",
       "5         1.057284                  0.96        0.294074   \n",
       "6         0.463227                  0.42        0.284724   \n",
       "7         1.238318                  0.98        0.262469   \n",
       "8         0.748908                  0.86        0.250000   \n",
       "9         0.397663                  0.24        0.244105   \n",
       "10        0.479406                  0.48        0.243762   \n",
       "11        0.785674                  0.90        0.237041   \n",
       "12        1.055175                  0.94        0.234753   \n",
       "13        0.436524                  0.34        0.234014   \n",
       "14        0.501740                  0.58        0.232051   \n",
       "15        0.399081                  0.26        0.227859   \n",
       "16        0.500971                  0.56        0.226671   \n",
       "17        0.073294                  0.02        0.222701   \n",
       "18        0.576270                  0.70        0.218325   \n",
       "19        1.241394                  1.00        0.214420   \n",
       "20        0.402216                  0.30        0.214073   \n",
       "21        0.567961                  0.68        0.213352   \n",
       "22        0.329498                  0.10        0.210379   \n",
       "23        0.223848                  0.06        0.210379   \n",
       "24        0.336574                  0.12        0.207995   \n",
       "25        0.657061                  0.78        0.204949   \n",
       "26        0.592084                  0.72        0.200825   \n",
       "27        0.458695                  0.38        0.196277   \n",
       "28        0.482884                  0.50        0.195223   \n",
       "29        0.554655                  0.66        0.194412   \n",
       "30        0.548860                  0.64        0.194053   \n",
       "31        0.383301                  0.20        0.179600   \n",
       "32        0.473790                  0.44        0.179128   \n",
       "33        0.479107                  0.46        0.178197   \n",
       "34        0.363277                  0.14        0.176125   \n",
       "35        0.368186                  0.16        0.175322   \n",
       "36        0.727001                  0.82        0.171409   \n",
       "37        0.390381                  0.22        0.167166   \n",
       "38        0.482951                  0.52        0.161278   \n",
       "39        0.495862                  0.54        0.161267   \n",
       "40        0.411708                  0.32        0.160841   \n",
       "41        0.376129                  0.18        0.156869   \n",
       "42        0.459179                  0.40        0.153824   \n",
       "43        0.615615                  0.74        0.151519   \n",
       "44        0.440932                  0.36        0.149132   \n",
       "45        0.191475                  0.04        0.147180   \n",
       "46        0.399647                  0.28        0.142383   \n",
       "47        0.507135                  0.62        0.142310   \n",
       "48        0.502989                  0.60        0.141273   \n",
       "49        0.271771                  0.08        0.133213   \n",
       "\n",
       "    1m Return Percentile  hqm_score  \n",
       "0                   1.00       1.00  \n",
       "1                   0.98       0.98  \n",
       "2                   0.96       0.96  \n",
       "3                   0.94       0.94  \n",
       "4                   0.92       0.92  \n",
       "5                   0.90       0.90  \n",
       "6                   0.88       0.88  \n",
       "7                   0.86       0.86  \n",
       "8                   0.84       0.84  \n",
       "9                   0.82       0.82  \n",
       "10                  0.80       0.80  \n",
       "11                  0.78       0.78  \n",
       "12                  0.76       0.76  \n",
       "13                  0.74       0.74  \n",
       "14                  0.72       0.72  \n",
       "15                  0.70       0.70  \n",
       "16                  0.68       0.68  \n",
       "17                  0.66       0.66  \n",
       "18                  0.64       0.64  \n",
       "19                  0.62       0.62  \n",
       "20                  0.60       0.60  \n",
       "21                  0.58       0.58  \n",
       "22                  0.56       0.56  \n",
       "23                  0.54       0.54  \n",
       "24                  0.52       0.52  \n",
       "25                  0.50       0.50  \n",
       "26                  0.48       0.48  \n",
       "27                  0.46       0.46  \n",
       "28                  0.44       0.44  \n",
       "29                  0.42       0.42  \n",
       "30                  0.40       0.40  \n",
       "31                  0.38       0.38  \n",
       "32                  0.36       0.36  \n",
       "33                  0.34       0.34  \n",
       "34                  0.32       0.32  \n",
       "35                  0.30       0.30  \n",
       "36                  0.28       0.28  \n",
       "37                  0.26       0.26  \n",
       "38                  0.24       0.24  \n",
       "39                  0.22       0.22  \n",
       "40                  0.20       0.20  \n",
       "41                  0.18       0.18  \n",
       "42                  0.16       0.16  \n",
       "43                  0.14       0.14  \n",
       "44                  0.12       0.12  \n",
       "45                  0.10       0.10  \n",
       "46                  0.08       0.08  \n",
       "47                  0.06       0.06  \n",
       "48                  0.04       0.04  \n",
       "49                  0.02       0.02  "
      ]
     },
     "execution_count": 37,
     "metadata": {},
     "output_type": "execute_result"
    }
   ],
   "source": [
    "# 50 best momentum stocks\n",
    "\n",
    "df_hqm.sort_values('hqm_score', ascending=False, inplace=True)\n",
    "df_hqm = df_hqm[:50]\n",
    "df_hqm.reset_index(inplace=True, drop=True)\n",
    "df_hqm"
   ]
  },
  {
   "cell_type": "code",
   "execution_count": 38,
   "metadata": {},
   "outputs": [],
   "source": [
    "portfolio_size()"
   ]
  },
  {
   "cell_type": "code",
   "execution_count": 39,
   "metadata": {},
   "outputs": [
    {
     "data": {
      "text/plain": [
       "20000.0"
      ]
     },
     "execution_count": 39,
     "metadata": {},
     "output_type": "execute_result"
    }
   ],
   "source": [
    "weights2 = capitals / len(df_hqm)\n",
    "weights2"
   ]
  },
  {
   "cell_type": "code",
   "execution_count": 40,
   "metadata": {},
   "outputs": [
    {
     "data": {
      "text/html": "<div>\n<style scoped>\n    .dataframe tbody tr th:only-of-type {\n        vertical-align: middle;\n    }\n\n    .dataframe tbody tr th {\n        vertical-align: top;\n    }\n\n    .dataframe thead th {\n        text-align: right;\n    }\n</style>\n<table border=\"1\" class=\"dataframe\">\n  <thead>\n    <tr style=\"text-align: right;\">\n      <th></th>\n      <th>Ticker</th>\n      <th>Price</th>\n      <th>Number of Shares to Buy</th>\n      <th>1y Price Return</th>\n      <th>1y Return Percentile</th>\n      <th>6m Price Return</th>\n      <th>6m Return Percentile</th>\n      <th>3m Price Return</th>\n      <th>3m Return Percentile</th>\n      <th>1m Price Return</th>\n      <th>1m Return Percentile</th>\n      <th>hqm_score</th>\n    </tr>\n  </thead>\n  <tbody>\n    <tr>\n      <th>0</th>\n      <td>DISCA</td>\n      <td>36.41</td>\n      <td>549.0</td>\n      <td>0.134138</td>\n      <td>0.54</td>\n      <td>0.735230</td>\n      <td>0.66</td>\n      <td>0.776114</td>\n      <td>0.88</td>\n      <td>0.336713</td>\n      <td>1.00</td>\n      <td>1.00</td>\n    </tr>\n    <tr>\n      <th>1</th>\n      <td>DISCK</td>\n      <td>33.31</td>\n      <td>600.0</td>\n      <td>0.062251</td>\n      <td>0.44</td>\n      <td>0.696595</td>\n      <td>0.58</td>\n      <td>0.739484</td>\n      <td>0.84</td>\n      <td>0.330427</td>\n      <td>0.98</td>\n      <td>0.98</td>\n    </tr>\n    <tr>\n      <th>2</th>\n      <td>SIVB</td>\n      <td>473.28</td>\n      <td>42.0</td>\n      <td>0.813744</td>\n      <td>0.92</td>\n      <td>1.129548</td>\n      <td>0.92</td>\n      <td>0.713063</td>\n      <td>0.80</td>\n      <td>0.302764</td>\n      <td>0.96</td>\n      <td>0.96</td>\n    </tr>\n    <tr>\n      <th>3</th>\n      <td>ALB</td>\n      <td>194.22</td>\n      <td>102.0</td>\n      <td>1.281740</td>\n      <td>0.98</td>\n      <td>1.094303</td>\n      <td>0.90</td>\n      <td>0.951490</td>\n      <td>0.92</td>\n      <td>0.301047</td>\n      <td>0.94</td>\n      <td>0.94</td>\n    </tr>\n    <tr>\n      <th>4</th>\n      <td>VIAC</td>\n      <td>43.98</td>\n      <td>454.0</td>\n      <td>0.198863</td>\n      <td>0.66</td>\n      <td>0.852088</td>\n      <td>0.78</td>\n      <td>0.653421</td>\n      <td>0.76</td>\n      <td>0.296605</td>\n      <td>0.92</td>\n      <td>0.92</td>\n    </tr>\n  </tbody>\n</table>\n</div>",
      "text/plain": [
       "  Ticker   Price  Number of Shares to Buy 1y Price Return  \\\n",
       "0  DISCA   36.41                    549.0        0.134138   \n",
       "1  DISCK   33.31                    600.0        0.062251   \n",
       "2   SIVB  473.28                     42.0        0.813744   \n",
       "3    ALB  194.22                    102.0        1.281740   \n",
       "4   VIAC   43.98                    454.0        0.198863   \n",
       "\n",
       "   1y Return Percentile 6m Price Return  6m Return Percentile 3m Price Return  \\\n",
       "0                  0.54        0.735230                  0.66        0.776114   \n",
       "1                  0.44        0.696595                  0.58        0.739484   \n",
       "2                  0.92        1.129548                  0.92        0.713063   \n",
       "3                  0.98        1.094303                  0.90        0.951490   \n",
       "4                  0.66        0.852088                  0.78        0.653421   \n",
       "\n",
       "   3m Return Percentile 1m Price Return  1m Return Percentile  hqm_score  \n",
       "0                  0.88        0.336713                  1.00       1.00  \n",
       "1                  0.84        0.330427                  0.98       0.98  \n",
       "2                  0.80        0.302764                  0.96       0.96  \n",
       "3                  0.92        0.301047                  0.94       0.94  \n",
       "4                  0.76        0.296605                  0.92       0.92  "
      ]
     },
     "execution_count": 40,
     "metadata": {},
     "output_type": "execute_result"
    }
   ],
   "source": [
    "df_hqm['Number of Shares to Buy'] = np.floor(weights2 / df_hqm['Price'])\n",
    "df_hqm.head()"
   ]
  },
  {
   "cell_type": "code",
   "execution_count": 41,
   "metadata": {},
   "outputs": [],
   "source": [
    "writer = pd.ExcelWriter('momentum_strategy.xlsx', engine='xlsxwriter')\n",
    "df_hqm.to_excel(writer, sheet_name='Monmentum Strategy', index=False)"
   ]
  },
  {
   "cell_type": "code",
   "execution_count": 42,
   "metadata": {},
   "outputs": [],
   "source": [
    "background_color = '#0a0a23'\n",
    "font_color = '#ffffff'\n",
    "\n",
    "string_format = writer.book.add_format(\n",
    "    {\n",
    "        'font_color': font_color,\n",
    "        'bg_color': background_color,\n",
    "        'border': 1\n",
    "    }\n",
    ")\n",
    "\n",
    "dollar_format = writer.book.add_format(\n",
    "    {\n",
    "        'num_format': '$0.00',\n",
    "        'font_color': font_color,\n",
    "        'bg_color': background_color,\n",
    "        'border': 1\n",
    "    }\n",
    ")\n",
    "\n",
    "percentage_format = writer.book.add_format(\n",
    "    {\n",
    "        'num_format': '0.0%',\n",
    "        'font_color': font_color,\n",
    "        'bg_color': background_color,\n",
    "        'border': 1\n",
    "    }\n",
    ")\n",
    "\n",
    "integer_format = writer.book.add_format(\n",
    "    {\n",
    "        'num_format': '0',\n",
    "        'font_color': font_color,\n",
    "        'bg_color': background_color,\n",
    "        'border': 1\n",
    "    }\n",
    ")"
   ]
  },
  {
   "cell_type": "code",
   "execution_count": 43,
   "metadata": {},
   "outputs": [],
   "source": [
    "columns_format = {\n",
    "    'A': ['Ticker', string_format],\n",
    "    'B': ['Stock Price', dollar_format],\n",
    "    'C': ['Number of Shares to Buy', integer_format],\n",
    "    'D': ['1y Price Return', percentage_format],\n",
    "    'E': ['1y Return Percentile', percentage_format],\n",
    "    'F': ['6m Price Return', percentage_format],\n",
    "    'G': ['6m Return Percentile', percentage_format],\n",
    "    'H': ['3m Price Return', percentage_format],\n",
    "    'I': ['3m Return Percentile', percentage_format],\n",
    "    'J': ['1m Price Return', percentage_format],\n",
    "    'K': ['1m Return Percentile', percentage_format],\n",
    "    'L': ['HQM Score', percentage_format]\n",
    "}\n",
    "\n",
    "for column in columns_format:\n",
    "    writer.sheets['Monmentum Strategy'].set_column(f'{column}:{column}', 18, columns_format[column][1])\n",
    "writer.save()"
   ]
  },
  {
   "cell_type": "code",
   "execution_count": null,
   "metadata": {},
   "outputs": [],
   "source": []
  }
 ],
 "metadata": {
  "kernelspec": {
   "display_name": "Python 3",
   "language": "python",
   "name": "python3"
  },
  "language_info": {
   "codemirror_mode": {
    "name": "ipython",
    "version": 3
   },
   "file_extension": ".py",
   "mimetype": "text/x-python",
   "name": "python",
   "nbconvert_exporter": "python",
   "pygments_lexer": "ipython3",
   "version": "3.8.6-final"
  },
  "orig_nbformat": 2
 },
 "nbformat": 4,
 "nbformat_minor": 2
}