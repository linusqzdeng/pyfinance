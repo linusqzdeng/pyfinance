{
 "cells": [
  {
   "cell_type": "markdown",
   "metadata": {},
   "source": [
    "# Equity betas"
   ]
  },
  {
   "cell_type": "code",
   "execution_count": 1,
   "metadata": {},
   "outputs": [],
   "source": [
    "import pandas as pd\n",
    "import pandas_datareader as web\n",
    "import numpy as np\n",
    "import datetime as dt\n",
    "import statsmodels.api as sm"
   ]
  },
  {
   "cell_type": "markdown",
   "metadata": {},
   "source": [
    "### Calculate the 5-yr montly betas of Korean Airlines, Qantas Airways, ANA Holdings and Singapore Airlines "
   ]
  },
  {
   "cell_type": "code",
   "execution_count": 2,
   "metadata": {},
   "outputs": [],
   "source": [
    "start_date = dt.datetime(2005, 1, 1)\n",
    "end_date = dt.datetime(2009, 12, 31)\n",
    "\n",
    "tickers = ['003490.KS', 'QAN.AX', '9202.T', 'C6L.SI', '^GSPC']"
   ]
  },
  {
   "cell_type": "code",
   "execution_count": 3,
   "metadata": {},
   "outputs": [],
   "source": [
    "# 10 years adjusted close price of GB Group and FTSE100\n",
    "df = pd.DataFrame()\n",
    "\n",
    "for ticker in tickers:\n",
    "    df[ticker] = web.DataReader(ticker, 'yahoo', start_date, end_date)['Close']"
   ]
  },
  {
   "cell_type": "code",
   "execution_count": 4,
   "metadata": {},
   "outputs": [
    {
     "data": {
      "text/html": "<div>\n<style scoped>\n    .dataframe tbody tr th:only-of-type {\n        vertical-align: middle;\n    }\n\n    .dataframe tbody tr th {\n        vertical-align: top;\n    }\n\n    .dataframe thead th {\n        text-align: right;\n    }\n</style>\n<table border=\"1\" class=\"dataframe\">\n  <thead>\n    <tr style=\"text-align: right;\">\n      <th></th>\n      <th>003490.KS</th>\n      <th>QAN.AX</th>\n      <th>9202.T</th>\n      <th>C6L.SI</th>\n      <th>^GSPC</th>\n    </tr>\n    <tr>\n      <th>Date</th>\n      <th></th>\n      <th></th>\n      <th></th>\n      <th></th>\n      <th></th>\n    </tr>\n  </thead>\n  <tbody>\n    <tr>\n      <th>2005-01-31</th>\n      <td>17879.509570</td>\n      <td>3.843095</td>\n      <td>3717.000000</td>\n      <td>11.431579</td>\n      <td>1180.319998</td>\n    </tr>\n    <tr>\n      <th>2005-02-28</th>\n      <td>18850.218555</td>\n      <td>3.842518</td>\n      <td>3860.000000</td>\n      <td>12.183333</td>\n      <td>1199.626844</td>\n    </tr>\n    <tr>\n      <th>2005-03-31</th>\n      <td>20948.303753</td>\n      <td>3.802543</td>\n      <td>3819.130435</td>\n      <td>12.109091</td>\n      <td>1194.897727</td>\n    </tr>\n    <tr>\n      <th>2005-04-30</th>\n      <td>19369.023158</td>\n      <td>3.583599</td>\n      <td>3489.523810</td>\n      <td>11.523809</td>\n      <td>1164.427612</td>\n    </tr>\n    <tr>\n      <th>2005-05-31</th>\n      <td>17737.725675</td>\n      <td>3.429664</td>\n      <td>3356.818182</td>\n      <td>11.505000</td>\n      <td>1178.275716</td>\n    </tr>\n  </tbody>\n</table>\n</div>",
      "text/plain": "               003490.KS    QAN.AX       9202.T     C6L.SI        ^GSPC\nDate                                                                   \n2005-01-31  17879.509570  3.843095  3717.000000  11.431579  1180.319998\n2005-02-28  18850.218555  3.842518  3860.000000  12.183333  1199.626844\n2005-03-31  20948.303753  3.802543  3819.130435  12.109091  1194.897727\n2005-04-30  19369.023158  3.583599  3489.523810  11.523809  1164.427612\n2005-05-31  17737.725675  3.429664  3356.818182  11.505000  1178.275716"
     },
     "execution_count": 4,
     "metadata": {},
     "output_type": "execute_result"
    }
   ],
   "source": [
    "df = df.resample('M').mean()\n",
    "df.head()"
   ]
  },
  {
   "cell_type": "code",
   "execution_count": 5,
   "metadata": {},
   "outputs": [
    {
     "data": {
      "text/html": "<div>\n<style scoped>\n    .dataframe tbody tr th:only-of-type {\n        vertical-align: middle;\n    }\n\n    .dataframe tbody tr th {\n        vertical-align: top;\n    }\n\n    .dataframe thead th {\n        text-align: right;\n    }\n</style>\n<table border=\"1\" class=\"dataframe\">\n  <thead>\n    <tr style=\"text-align: right;\">\n      <th></th>\n      <th>Korean Airlines</th>\n      <th>Qantas Airways</th>\n      <th>ANA Holdings</th>\n      <th>Singapore Airways</th>\n      <th>S&amp;P500</th>\n    </tr>\n    <tr>\n      <th>Date</th>\n      <th></th>\n      <th></th>\n      <th></th>\n      <th></th>\n      <th></th>\n    </tr>\n  </thead>\n  <tbody>\n    <tr>\n      <th>2005-02-28</th>\n      <td>0.052869</td>\n      <td>-0.000150</td>\n      <td>0.037750</td>\n      <td>0.063689</td>\n      <td>0.016225</td>\n    </tr>\n    <tr>\n      <th>2005-03-31</th>\n      <td>0.105533</td>\n      <td>-0.010458</td>\n      <td>-0.010644</td>\n      <td>-0.006112</td>\n      <td>-0.003950</td>\n    </tr>\n    <tr>\n      <th>2005-04-30</th>\n      <td>-0.078383</td>\n      <td>-0.059302</td>\n      <td>-0.090257</td>\n      <td>-0.049541</td>\n      <td>-0.025831</td>\n    </tr>\n    <tr>\n      <th>2005-05-31</th>\n      <td>-0.087981</td>\n      <td>-0.043905</td>\n      <td>-0.038772</td>\n      <td>-0.001634</td>\n      <td>0.011822</td>\n    </tr>\n    <tr>\n      <th>2005-06-30</th>\n      <td>0.014096</td>\n      <td>0.026130</td>\n      <td>0.010641</td>\n      <td>-0.009168</td>\n      <td>0.020145</td>\n    </tr>\n    <tr>\n      <th>2005-07-31</th>\n      <td>0.039814</td>\n      <td>-0.009989</td>\n      <td>0.007449</td>\n      <td>0.021897</td>\n      <td>0.016485</td>\n    </tr>\n    <tr>\n      <th>2005-08-31</th>\n      <td>0.005757</td>\n      <td>0.006413</td>\n      <td>0.037864</td>\n      <td>-0.002548</td>\n      <td>0.001662</td>\n    </tr>\n    <tr>\n      <th>2005-09-30</th>\n      <td>-0.036658</td>\n      <td>0.009803</td>\n      <td>0.019652</td>\n      <td>0.010891</td>\n      <td>0.001343</td>\n    </tr>\n    <tr>\n      <th>2005-10-31</th>\n      <td>0.094590</td>\n      <td>0.014445</td>\n      <td>-0.029628</td>\n      <td>-0.027737</td>\n      <td>-0.028085</td>\n    </tr>\n    <tr>\n      <th>2005-11-30</th>\n      <td>0.180072</td>\n      <td>0.077184</td>\n      <td>0.097339</td>\n      <td>0.017041</td>\n      <td>0.037384</td>\n    </tr>\n    <tr>\n      <th>2005-12-31</th>\n      <td>0.173776</td>\n      <td>0.060553</td>\n      <td>0.112466</td>\n      <td>0.011121</td>\n      <td>0.020314</td>\n    </tr>\n    <tr>\n      <th>2006-01-31</th>\n      <td>0.115411</td>\n      <td>0.034418</td>\n      <td>0.084629</td>\n      <td>0.107485</td>\n      <td>0.012295</td>\n    </tr>\n    <tr>\n      <th>2006-02-28</th>\n      <td>-0.084252</td>\n      <td>0.015164</td>\n      <td>-0.037597</td>\n      <td>0.059405</td>\n      <td>-0.001360</td>\n    </tr>\n    <tr>\n      <th>2006-03-31</th>\n      <td>0.070421</td>\n      <td>-0.071432</td>\n      <td>-0.079698</td>\n      <td>0.038896</td>\n      <td>0.013385</td>\n    </tr>\n    <tr>\n      <th>2006-04-30</th>\n      <td>0.110339</td>\n      <td>-0.076092</td>\n      <td>0.010807</td>\n      <td>-0.037041</td>\n      <td>0.006408</td>\n    </tr>\n    <tr>\n      <th>2006-05-31</th>\n      <td>0.011107</td>\n      <td>-0.054864</td>\n      <td>-0.008699</td>\n      <td>-0.031075</td>\n      <td>-0.011351</td>\n    </tr>\n    <tr>\n      <th>2006-06-30</th>\n      <td>-0.046421</td>\n      <td>-0.065668</td>\n      <td>-0.004085</td>\n      <td>-0.075458</td>\n      <td>-0.027408</td>\n    </tr>\n    <tr>\n      <th>2006-07-31</th>\n      <td>-0.072433</td>\n      <td>-0.024717</td>\n      <td>0.041829</td>\n      <td>0.011957</td>\n      <td>0.007104</td>\n    </tr>\n    <tr>\n      <th>2006-08-31</th>\n      <td>-0.066381</td>\n      <td>0.067505</td>\n      <td>0.029610</td>\n      <td>0.044291</td>\n      <td>0.020113</td>\n    </tr>\n    <tr>\n      <th>2006-09-30</th>\n      <td>0.096879</td>\n      <td>0.116352</td>\n      <td>0.055174</td>\n      <td>0.082834</td>\n      <td>0.023435</td>\n    </tr>\n    <tr>\n      <th>2006-10-31</th>\n      <td>0.038595</td>\n      <td>0.119336</td>\n      <td>-0.007718</td>\n      <td>0.066266</td>\n      <td>0.036097</td>\n    </tr>\n    <tr>\n      <th>2006-11-30</th>\n      <td>0.032773</td>\n      <td>0.105329</td>\n      <td>-0.110439</td>\n      <td>0.014266</td>\n      <td>0.016304</td>\n    </tr>\n    <tr>\n      <th>2006-12-31</th>\n      <td>0.002128</td>\n      <td>0.128113</td>\n      <td>0.008804</td>\n      <td>0.065515</td>\n      <td>0.019742</td>\n    </tr>\n    <tr>\n      <th>2007-01-31</th>\n      <td>0.020670</td>\n      <td>0.026178</td>\n      <td>0.028377</td>\n      <td>0.061676</td>\n      <td>0.005520</td>\n    </tr>\n    <tr>\n      <th>2007-02-28</th>\n      <td>-0.060245</td>\n      <td>-0.013932</td>\n      <td>0.073097</td>\n      <td>-0.035843</td>\n      <td>0.014384</td>\n    </tr>\n    <tr>\n      <th>2007-03-31</th>\n      <td>0.079475</td>\n      <td>-0.016019</td>\n      <td>-0.002028</td>\n      <td>-0.022044</td>\n      <td>-0.025872</td>\n    </tr>\n    <tr>\n      <th>2007-04-30</th>\n      <td>0.116230</td>\n      <td>0.027428</td>\n      <td>0.001062</td>\n      <td>0.076074</td>\n      <td>0.038832</td>\n    </tr>\n    <tr>\n      <th>2007-05-31</th>\n      <td>0.186090</td>\n      <td>0.012413</td>\n      <td>-0.009643</td>\n      <td>0.025207</td>\n      <td>0.032877</td>\n    </tr>\n    <tr>\n      <th>2007-06-30</th>\n      <td>0.080964</td>\n      <td>0.055230</td>\n      <td>0.002827</td>\n      <td>0.007816</td>\n      <td>0.001179</td>\n    </tr>\n    <tr>\n      <th>2007-07-31</th>\n      <td>0.120575</td>\n      <td>-0.006136</td>\n      <td>-0.014314</td>\n      <td>0.031397</td>\n      <td>0.003248</td>\n    </tr>\n    <tr>\n      <th>2007-08-31</th>\n      <td>0.077037</td>\n      <td>-0.026267</td>\n      <td>-0.025905</td>\n      <td>-0.061372</td>\n      <td>-0.041992</td>\n    </tr>\n    <tr>\n      <th>2007-09-30</th>\n      <td>-0.042310</td>\n      <td>0.020664</td>\n      <td>0.007719</td>\n      <td>0.044943</td>\n      <td>0.024417</td>\n    </tr>\n    <tr>\n      <th>2007-10-31</th>\n      <td>0.156875</td>\n      <td>0.038834</td>\n      <td>-0.011386</td>\n      <td>0.037447</td>\n      <td>0.030907</td>\n    </tr>\n    <tr>\n      <th>2007-11-30</th>\n      <td>0.069312</td>\n      <td>-0.000261</td>\n      <td>-0.052167</td>\n      <td>-0.061985</td>\n      <td>-0.050810</td>\n    </tr>\n    <tr>\n      <th>2007-12-31</th>\n      <td>-0.051025</td>\n      <td>-0.034526</td>\n      <td>0.004436</td>\n      <td>-0.036067</td>\n      <td>0.012157</td>\n    </tr>\n    <tr>\n      <th>2008-01-31</th>\n      <td>-0.016921</td>\n      <td>-0.150072</td>\n      <td>-0.046188</td>\n      <td>-0.101857</td>\n      <td>-0.071722</td>\n    </tr>\n    <tr>\n      <th>2008-02-29</th>\n      <td>-0.000379</td>\n      <td>-0.067954</td>\n      <td>0.064220</td>\n      <td>-0.024483</td>\n      <td>-0.014447</td>\n    </tr>\n    <tr>\n      <th>2008-03-31</th>\n      <td>-0.215558</td>\n      <td>-0.142856</td>\n      <td>0.000216</td>\n      <td>-0.054393</td>\n      <td>-0.031427</td>\n    </tr>\n    <tr>\n      <th>2008-04-30</th>\n      <td>-0.097636</td>\n      <td>-0.068174</td>\n      <td>-0.033323</td>\n      <td>0.057102</td>\n      <td>0.040395</td>\n    </tr>\n    <tr>\n      <th>2008-05-31</th>\n      <td>-0.040103</td>\n      <td>-0.058051</td>\n      <td>-0.037265</td>\n      <td>0.008634</td>\n      <td>0.022634</td>\n    </tr>\n    <tr>\n      <th>2008-06-30</th>\n      <td>0.016413</td>\n      <td>-0.071195</td>\n      <td>-0.013084</td>\n      <td>-0.046200</td>\n      <td>-0.045464</td>\n    </tr>\n    <tr>\n      <th>2008-07-31</th>\n      <td>-0.173561</td>\n      <td>0.019532</td>\n      <td>-0.014864</td>\n      <td>-0.012639</td>\n      <td>-0.063891</td>\n    </tr>\n    <tr>\n      <th>2008-08-31</th>\n      <td>-0.014669</td>\n      <td>0.048495</td>\n      <td>0.006199</td>\n      <td>0.013101</td>\n      <td>0.018369</td>\n    </tr>\n    <tr>\n      <th>2008-09-30</th>\n      <td>-0.109350</td>\n      <td>-0.013146</td>\n      <td>-0.025936</td>\n      <td>-0.011798</td>\n      <td>-0.049950</td>\n    </tr>\n    <tr>\n      <th>2008-10-31</th>\n      <td>-0.100768</td>\n      <td>-0.227466</td>\n      <td>-0.051772</td>\n      <td>-0.194342</td>\n      <td>-0.235241</td>\n    </tr>\n    <tr>\n      <th>2008-11-30</th>\n      <td>-0.002132</td>\n      <td>-0.104390</td>\n      <td>-0.039004</td>\n      <td>-0.105678</td>\n      <td>-0.086550</td>\n    </tr>\n    <tr>\n      <th>2008-12-31</th>\n      <td>0.119504</td>\n      <td>-0.020885</td>\n      <td>-0.031335</td>\n      <td>0.007007</td>\n      <td>-0.007619</td>\n    </tr>\n    <tr>\n      <th>2009-01-31</th>\n      <td>-0.077532</td>\n      <td>0.036474</td>\n      <td>-0.008850</td>\n      <td>0.014365</td>\n      <td>-0.009226</td>\n    </tr>\n    <tr>\n      <th>2009-02-28</th>\n      <td>-0.041472</td>\n      <td>-0.309499</td>\n      <td>0.016976</td>\n      <td>-0.078456</td>\n      <td>-0.075402</td>\n    </tr>\n    <tr>\n      <th>2009-03-31</th>\n      <td>-0.043935</td>\n      <td>-0.107565</td>\n      <td>0.099671</td>\n      <td>-0.050516</td>\n      <td>-0.061594</td>\n    </tr>\n    <tr>\n      <th>2009-04-30</th>\n      <td>0.159682</td>\n      <td>0.166837</td>\n      <td>-0.036289</td>\n      <td>0.076147</td>\n      <td>0.113529</td>\n    </tr>\n    <tr>\n      <th>2009-05-31</th>\n      <td>0.018471</td>\n      <td>0.010809</td>\n      <td>-0.020560</td>\n      <td>0.122771</td>\n      <td>0.063453</td>\n    </tr>\n    <tr>\n      <th>2009-06-30</th>\n      <td>-0.102106</td>\n      <td>0.065274</td>\n      <td>-0.042433</td>\n      <td>0.047186</td>\n      <td>0.024486</td>\n    </tr>\n    <tr>\n      <th>2009-07-31</th>\n      <td>0.050384</td>\n      <td>-0.026248</td>\n      <td>-0.209202</td>\n      <td>0.040983</td>\n      <td>0.010426</td>\n    </tr>\n    <tr>\n      <th>2009-08-31</th>\n      <td>0.129573</td>\n      <td>0.219446</td>\n      <td>-0.019818</td>\n      <td>-0.008315</td>\n      <td>0.076008</td>\n    </tr>\n    <tr>\n      <th>2009-09-30</th>\n      <td>0.053794</td>\n      <td>0.051603</td>\n      <td>-0.027142</td>\n      <td>0.004795</td>\n      <td>0.033911</td>\n    </tr>\n    <tr>\n      <th>2009-10-31</th>\n      <td>0.050142</td>\n      <td>0.084051</td>\n      <td>-0.066594</td>\n      <td>0.045007</td>\n      <td>0.023776</td>\n    </tr>\n    <tr>\n      <th>2009-11-30</th>\n      <td>-0.008306</td>\n      <td>-0.075714</td>\n      <td>-0.075794</td>\n      <td>0.002327</td>\n      <td>0.017040</td>\n    </tr>\n    <tr>\n      <th>2009-12-31</th>\n      <td>0.124828</td>\n      <td>0.029917</td>\n      <td>0.078593</td>\n      <td>0.007870</td>\n      <td>0.020093</td>\n    </tr>\n  </tbody>\n</table>\n</div>",
      "text/plain": "            Korean Airlines  Qantas Airways  ANA Holdings  Singapore Airways  \\\nDate                                                                           \n2005-02-28         0.052869       -0.000150      0.037750           0.063689   \n2005-03-31         0.105533       -0.010458     -0.010644          -0.006112   \n2005-04-30        -0.078383       -0.059302     -0.090257          -0.049541   \n2005-05-31        -0.087981       -0.043905     -0.038772          -0.001634   \n2005-06-30         0.014096        0.026130      0.010641          -0.009168   \n2005-07-31         0.039814       -0.009989      0.007449           0.021897   \n2005-08-31         0.005757        0.006413      0.037864          -0.002548   \n2005-09-30        -0.036658        0.009803      0.019652           0.010891   \n2005-10-31         0.094590        0.014445     -0.029628          -0.027737   \n2005-11-30         0.180072        0.077184      0.097339           0.017041   \n2005-12-31         0.173776        0.060553      0.112466           0.011121   \n2006-01-31         0.115411        0.034418      0.084629           0.107485   \n2006-02-28        -0.084252        0.015164     -0.037597           0.059405   \n2006-03-31         0.070421       -0.071432     -0.079698           0.038896   \n2006-04-30         0.110339       -0.076092      0.010807          -0.037041   \n2006-05-31         0.011107       -0.054864     -0.008699          -0.031075   \n2006-06-30        -0.046421       -0.065668     -0.004085          -0.075458   \n2006-07-31        -0.072433       -0.024717      0.041829           0.011957   \n2006-08-31        -0.066381        0.067505      0.029610           0.044291   \n2006-09-30         0.096879        0.116352      0.055174           0.082834   \n2006-10-31         0.038595        0.119336     -0.007718           0.066266   \n2006-11-30         0.032773        0.105329     -0.110439           0.014266   \n2006-12-31         0.002128        0.128113      0.008804           0.065515   \n2007-01-31         0.020670        0.026178      0.028377           0.061676   \n2007-02-28        -0.060245       -0.013932      0.073097          -0.035843   \n2007-03-31         0.079475       -0.016019     -0.002028          -0.022044   \n2007-04-30         0.116230        0.027428      0.001062           0.076074   \n2007-05-31         0.186090        0.012413     -0.009643           0.025207   \n2007-06-30         0.080964        0.055230      0.002827           0.007816   \n2007-07-31         0.120575       -0.006136     -0.014314           0.031397   \n2007-08-31         0.077037       -0.026267     -0.025905          -0.061372   \n2007-09-30        -0.042310        0.020664      0.007719           0.044943   \n2007-10-31         0.156875        0.038834     -0.011386           0.037447   \n2007-11-30         0.069312       -0.000261     -0.052167          -0.061985   \n2007-12-31        -0.051025       -0.034526      0.004436          -0.036067   \n2008-01-31        -0.016921       -0.150072     -0.046188          -0.101857   \n2008-02-29        -0.000379       -0.067954      0.064220          -0.024483   \n2008-03-31        -0.215558       -0.142856      0.000216          -0.054393   \n2008-04-30        -0.097636       -0.068174     -0.033323           0.057102   \n2008-05-31        -0.040103       -0.058051     -0.037265           0.008634   \n2008-06-30         0.016413       -0.071195     -0.013084          -0.046200   \n2008-07-31        -0.173561        0.019532     -0.014864          -0.012639   \n2008-08-31        -0.014669        0.048495      0.006199           0.013101   \n2008-09-30        -0.109350       -0.013146     -0.025936          -0.011798   \n2008-10-31        -0.100768       -0.227466     -0.051772          -0.194342   \n2008-11-30        -0.002132       -0.104390     -0.039004          -0.105678   \n2008-12-31         0.119504       -0.020885     -0.031335           0.007007   \n2009-01-31        -0.077532        0.036474     -0.008850           0.014365   \n2009-02-28        -0.041472       -0.309499      0.016976          -0.078456   \n2009-03-31        -0.043935       -0.107565      0.099671          -0.050516   \n2009-04-30         0.159682        0.166837     -0.036289           0.076147   \n2009-05-31         0.018471        0.010809     -0.020560           0.122771   \n2009-06-30        -0.102106        0.065274     -0.042433           0.047186   \n2009-07-31         0.050384       -0.026248     -0.209202           0.040983   \n2009-08-31         0.129573        0.219446     -0.019818          -0.008315   \n2009-09-30         0.053794        0.051603     -0.027142           0.004795   \n2009-10-31         0.050142        0.084051     -0.066594           0.045007   \n2009-11-30        -0.008306       -0.075714     -0.075794           0.002327   \n2009-12-31         0.124828        0.029917      0.078593           0.007870   \n\n              S&P500  \nDate                  \n2005-02-28  0.016225  \n2005-03-31 -0.003950  \n2005-04-30 -0.025831  \n2005-05-31  0.011822  \n2005-06-30  0.020145  \n2005-07-31  0.016485  \n2005-08-31  0.001662  \n2005-09-30  0.001343  \n2005-10-31 -0.028085  \n2005-11-30  0.037384  \n2005-12-31  0.020314  \n2006-01-31  0.012295  \n2006-02-28 -0.001360  \n2006-03-31  0.013385  \n2006-04-30  0.006408  \n2006-05-31 -0.011351  \n2006-06-30 -0.027408  \n2006-07-31  0.007104  \n2006-08-31  0.020113  \n2006-09-30  0.023435  \n2006-10-31  0.036097  \n2006-11-30  0.016304  \n2006-12-31  0.019742  \n2007-01-31  0.005520  \n2007-02-28  0.014384  \n2007-03-31 -0.025872  \n2007-04-30  0.038832  \n2007-05-31  0.032877  \n2007-06-30  0.001179  \n2007-07-31  0.003248  \n2007-08-31 -0.041992  \n2007-09-30  0.024417  \n2007-10-31  0.030907  \n2007-11-30 -0.050810  \n2007-12-31  0.012157  \n2008-01-31 -0.071722  \n2008-02-29 -0.014447  \n2008-03-31 -0.031427  \n2008-04-30  0.040395  \n2008-05-31  0.022634  \n2008-06-30 -0.045464  \n2008-07-31 -0.063891  \n2008-08-31  0.018369  \n2008-09-30 -0.049950  \n2008-10-31 -0.235241  \n2008-11-30 -0.086550  \n2008-12-31 -0.007619  \n2009-01-31 -0.009226  \n2009-02-28 -0.075402  \n2009-03-31 -0.061594  \n2009-04-30  0.113529  \n2009-05-31  0.063453  \n2009-06-30  0.024486  \n2009-07-31  0.010426  \n2009-08-31  0.076008  \n2009-09-30  0.033911  \n2009-10-31  0.023776  \n2009-11-30  0.017040  \n2009-12-31  0.020093  "
     },
     "execution_count": 5,
     "metadata": {},
     "output_type": "execute_result"
    }
   ],
   "source": [
    "returns = df.copy()\n",
    "for x in returns.columns:\n",
    "    returns[x] = np.log(df[x]).diff()\n",
    "\n",
    "returns.rename(columns={\n",
    "    '003490.KS': 'Korean Airlines', \n",
    "    'QAN.AX': 'Qantas Airways',\n",
    "    '9202.T': 'ANA Holdings',\n",
    "    'C6L.SI': 'Singapore Airways',\n",
    "    '^GSPC': 'S&P500'\n",
    "    }, inplace=True)\n",
    "\n",
    "returns.dropna(inplace=True)\n",
    "returns"
   ]
  },
  {
   "cell_type": "markdown",
   "metadata": {},
   "source": [
    "market_return = 0.0812\n",
    "risk_free = 0.035\n",
    "\n",
    "returns['MRP'] = returns['S&P500'] - risk_free\n",
    "returns.dropna(inplace=True)\n",
    "returns"
   ]
  },
  {
   "cell_type": "code",
   "execution_count": 6,
   "metadata": {},
   "outputs": [
    {
     "data": {
      "text/plain": "[0.7721145466905943, 1.283415385319852, 0.10229002609166243, 0.934965829195409]"
     },
     "execution_count": 6,
     "metadata": {},
     "output_type": "execute_result"
    }
   ],
   "source": [
    "X = returns['S&P500']\n",
    "X1 = sm.add_constant(X)\n",
    "betas = []\n",
    "for i in returns.columns[:-1]:\n",
    "    y = returns[i]\n",
    "    model = sm.OLS(y, X1)\n",
    "    results = model.fit()\n",
    "    betas.append(results.params['S&P500'])\n",
    "\n",
    "betas"
   ]
  },
  {
   "cell_type": "code",
   "execution_count": 7,
   "metadata": {},
   "outputs": [
    {
     "data": {
      "text/html": "<div>\n<style scoped>\n    .dataframe tbody tr th:only-of-type {\n        vertical-align: middle;\n    }\n\n    .dataframe tbody tr th {\n        vertical-align: top;\n    }\n\n    .dataframe thead th {\n        text-align: right;\n    }\n</style>\n<table border=\"1\" class=\"dataframe\">\n  <thead>\n    <tr style=\"text-align: right;\">\n      <th></th>\n      <th>Korean Airlines</th>\n      <th>Qantas Airways</th>\n      <th>ANA Holdings</th>\n      <th>Singapore Airways</th>\n    </tr>\n  </thead>\n  <tbody>\n    <tr>\n      <th>0</th>\n      <td>0.772115</td>\n      <td>1.283415</td>\n      <td>0.10229</td>\n      <td>0.934966</td>\n    </tr>\n  </tbody>\n</table>\n</div>",
      "text/plain": "   Korean Airlines  Qantas Airways  ANA Holdings  Singapore Airways\n0         0.772115        1.283415       0.10229           0.934966"
     },
     "execution_count": 7,
     "metadata": {},
     "output_type": "execute_result"
    }
   ],
   "source": [
    "equity_betas = pd.DataFrame(betas, index=returns.columns[:-1])\n",
    "\n",
    "equity_betas.T"
   ]
  },
  {
   "cell_type": "code",
   "execution_count": null,
   "metadata": {},
   "outputs": [],
   "source": []
  }
 ],
 "metadata": {
  "kernelspec": {
   "display_name": "Python 3.8.8 64-bit ('pyfinance': conda)",
   "name": "python388jvsc74a57bd0aa2a76ff1d502f6d0371ca95b6c2a399f3dfd324b42874e8dc720c235d65d199"
  },
  "language_info": {
   "codemirror_mode": {
    "name": "ipython",
    "version": 3
   },
   "file_extension": ".py",
   "mimetype": "text/x-python",
   "name": "python",
   "nbconvert_exporter": "python",
   "pygments_lexer": "ipython3",
   "version": "3.8.8"
  },
  "metadata": {
   "interpreter": {
    "hash": "aa2a76ff1d502f6d0371ca95b6c2a399f3dfd324b42874e8dc720c235d65d199"
   }
  }
 },
 "nbformat": 4,
 "nbformat_minor": 5
}