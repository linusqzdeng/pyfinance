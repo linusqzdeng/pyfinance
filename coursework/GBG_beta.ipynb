{
 "cells": [
  {
   "cell_type": "markdown",
   "metadata": {},
   "source": [
    "# GB Group cost of capital"
   ]
  },
  {
   "cell_type": "code",
   "execution_count": 1,
   "metadata": {},
   "outputs": [],
   "source": [
    "import pandas as pd\n",
    "import pandas_datareader as web\n",
    "import numpy as np\n",
    "import datetime as dt\n",
    "import statsmodels.api as sm"
   ]
  },
  {
   "cell_type": "markdown",
   "metadata": {},
   "source": [
    "## Cost of Equity"
   ]
  },
  {
   "cell_type": "code",
   "execution_count": 2,
   "metadata": {},
   "outputs": [],
   "source": [
    "start_date = dt.datetime(2010, 12, 31)\n",
    "end_date = dt.datetime(2021, 1, 1)\n",
    "\n",
    "tickers = 'GBG.L'"
   ]
  },
  {
   "cell_type": "code",
   "execution_count": 3,
   "metadata": {},
   "outputs": [],
   "source": [
    "# 10 years adjusted close price of GB Group and FTSE100\n",
    "df = pd.DataFrame()\n",
    "\n",
    "df[tickers] = web.DataReader(tickers, 'yahoo', start_date, end_date)['Close']"
   ]
  },
  {
   "cell_type": "code",
   "execution_count": 4,
   "metadata": {},
   "outputs": [],
   "source": [
    "# 10 years adjusted close for market portfolio in the UK\n",
    "df2 = pd.read_csv('HistoricalPrices.csv')\n",
    "df2['Date'] = pd.to_datetime(df2['Date'], infer_datetime_format=True)\n",
    "df2.set_index('Date', inplace=True)"
   ]
  },
  {
   "cell_type": "code",
   "execution_count": 5,
   "metadata": {},
   "outputs": [
    {
     "data": {
      "text/html": "<div>\n<style scoped>\n    .dataframe tbody tr th:only-of-type {\n        vertical-align: middle;\n    }\n\n    .dataframe tbody tr th {\n        vertical-align: top;\n    }\n\n    .dataframe thead th {\n        text-align: right;\n    }\n</style>\n<table border=\"1\" class=\"dataframe\">\n  <thead>\n    <tr style=\"text-align: right;\">\n      <th></th>\n      <th>GBG.L</th>\n      <th>FTSE100</th>\n    </tr>\n    <tr>\n      <th>Date</th>\n      <th></th>\n      <th></th>\n    </tr>\n  </thead>\n  <tbody>\n    <tr>\n      <th>2010-12-31</th>\n      <td>34.25</td>\n      <td>5899.94</td>\n    </tr>\n    <tr>\n      <th>2011-01-04</th>\n      <td>34.50</td>\n      <td>6013.87</td>\n    </tr>\n    <tr>\n      <th>2011-01-05</th>\n      <td>34.75</td>\n      <td>6043.86</td>\n    </tr>\n    <tr>\n      <th>2011-01-06</th>\n      <td>34.75</td>\n      <td>6019.51</td>\n    </tr>\n    <tr>\n      <th>2011-01-07</th>\n      <td>34.75</td>\n      <td>5984.33</td>\n    </tr>\n  </tbody>\n</table>\n</div>",
      "text/plain": "            GBG.L  FTSE100\nDate                      \n2010-12-31  34.25  5899.94\n2011-01-04  34.50  6013.87\n2011-01-05  34.75  6043.86\n2011-01-06  34.75  6019.51\n2011-01-07  34.75  5984.33"
     },
     "execution_count": 5,
     "metadata": {},
     "output_type": "execute_result"
    }
   ],
   "source": [
    "df3 = pd.concat([df, df2['Close']], axis=1)\n",
    "df3.dropna(inplace=True)\n",
    "df = df3.rename(columns={'Close': 'FTSE100'})\n",
    "df.head()"
   ]
  },
  {
   "cell_type": "code",
   "execution_count": 6,
   "metadata": {},
   "outputs": [
    {
     "data": {
      "text/html": "<div>\n<style scoped>\n    .dataframe tbody tr th:only-of-type {\n        vertical-align: middle;\n    }\n\n    .dataframe tbody tr th {\n        vertical-align: top;\n    }\n\n    .dataframe thead th {\n        text-align: right;\n    }\n</style>\n<table border=\"1\" class=\"dataframe\">\n  <thead>\n    <tr style=\"text-align: right;\">\n      <th></th>\n      <th>GBG.L</th>\n      <th>FTSE100</th>\n    </tr>\n    <tr>\n      <th>Date</th>\n      <th></th>\n      <th></th>\n    </tr>\n  </thead>\n  <tbody>\n    <tr>\n      <th>2010-12-31</th>\n      <td>NaN</td>\n      <td>NaN</td>\n    </tr>\n    <tr>\n      <th>2011-01-04</th>\n      <td>0.007273</td>\n      <td>0.019126</td>\n    </tr>\n    <tr>\n      <th>2011-01-05</th>\n      <td>0.007220</td>\n      <td>0.004974</td>\n    </tr>\n    <tr>\n      <th>2011-01-06</th>\n      <td>0.000000</td>\n      <td>-0.004037</td>\n    </tr>\n    <tr>\n      <th>2011-01-07</th>\n      <td>0.000000</td>\n      <td>-0.005861</td>\n    </tr>\n    <tr>\n      <th>...</th>\n      <td>...</td>\n      <td>...</td>\n    </tr>\n    <tr>\n      <th>2020-12-23</th>\n      <td>0.002153</td>\n      <td>0.006578</td>\n    </tr>\n    <tr>\n      <th>2020-12-24</th>\n      <td>-0.003231</td>\n      <td>0.000979</td>\n    </tr>\n    <tr>\n      <th>2020-12-29</th>\n      <td>0.028710</td>\n      <td>0.015344</td>\n    </tr>\n    <tr>\n      <th>2020-12-30</th>\n      <td>-0.008421</td>\n      <td>-0.007118</td>\n    </tr>\n    <tr>\n      <th>2020-12-31</th>\n      <td>-0.008493</td>\n      <td>-0.014643</td>\n    </tr>\n  </tbody>\n</table>\n<p>2522 rows × 2 columns</p>\n</div>",
      "text/plain": "               GBG.L   FTSE100\nDate                          \n2010-12-31       NaN       NaN\n2011-01-04  0.007273  0.019126\n2011-01-05  0.007220  0.004974\n2011-01-06  0.000000 -0.004037\n2011-01-07  0.000000 -0.005861\n...              ...       ...\n2020-12-23  0.002153  0.006578\n2020-12-24 -0.003231  0.000979\n2020-12-29  0.028710  0.015344\n2020-12-30 -0.008421 -0.007118\n2020-12-31 -0.008493 -0.014643\n\n[2522 rows x 2 columns]"
     },
     "execution_count": 6,
     "metadata": {},
     "output_type": "execute_result"
    }
   ],
   "source": [
    "returns = df.copy()\n",
    "for x in returns.columns:\n",
    "    returns[x] = np.log(returns[x]) - np.log(returns[x].shift(1))\n",
    "\n",
    "returns"
   ]
  },
  {
   "cell_type": "code",
   "execution_count": 7,
   "metadata": {},
   "outputs": [
    {
     "data": {
      "text/html": "<div>\n<style scoped>\n    .dataframe tbody tr th:only-of-type {\n        vertical-align: middle;\n    }\n\n    .dataframe tbody tr th {\n        vertical-align: top;\n    }\n\n    .dataframe thead th {\n        text-align: right;\n    }\n</style>\n<table border=\"1\" class=\"dataframe\">\n  <thead>\n    <tr style=\"text-align: right;\">\n      <th></th>\n      <th>GBG.L</th>\n      <th>FTSE100</th>\n      <th>MRP</th>\n    </tr>\n    <tr>\n      <th>Date</th>\n      <th></th>\n      <th></th>\n      <th></th>\n    </tr>\n  </thead>\n  <tbody>\n    <tr>\n      <th>2011-01-04</th>\n      <td>0.007273</td>\n      <td>0.019126</td>\n      <td>0.002826</td>\n    </tr>\n    <tr>\n      <th>2011-01-05</th>\n      <td>0.007220</td>\n      <td>0.004974</td>\n      <td>-0.011326</td>\n    </tr>\n    <tr>\n      <th>2011-01-06</th>\n      <td>0.000000</td>\n      <td>-0.004037</td>\n      <td>-0.020337</td>\n    </tr>\n    <tr>\n      <th>2011-01-07</th>\n      <td>0.000000</td>\n      <td>-0.005861</td>\n      <td>-0.022161</td>\n    </tr>\n    <tr>\n      <th>2011-01-10</th>\n      <td>0.000000</td>\n      <td>-0.004695</td>\n      <td>-0.020995</td>\n    </tr>\n    <tr>\n      <th>...</th>\n      <td>...</td>\n      <td>...</td>\n      <td>...</td>\n    </tr>\n    <tr>\n      <th>2020-12-23</th>\n      <td>0.002153</td>\n      <td>0.006578</td>\n      <td>-0.009722</td>\n    </tr>\n    <tr>\n      <th>2020-12-24</th>\n      <td>-0.003231</td>\n      <td>0.000979</td>\n      <td>-0.015321</td>\n    </tr>\n    <tr>\n      <th>2020-12-29</th>\n      <td>0.028710</td>\n      <td>0.015344</td>\n      <td>-0.000956</td>\n    </tr>\n    <tr>\n      <th>2020-12-30</th>\n      <td>-0.008421</td>\n      <td>-0.007118</td>\n      <td>-0.023418</td>\n    </tr>\n    <tr>\n      <th>2020-12-31</th>\n      <td>-0.008493</td>\n      <td>-0.014643</td>\n      <td>-0.030943</td>\n    </tr>\n  </tbody>\n</table>\n<p>2521 rows × 3 columns</p>\n</div>",
      "text/plain": "               GBG.L   FTSE100       MRP\nDate                                    \n2011-01-04  0.007273  0.019126  0.002826\n2011-01-05  0.007220  0.004974 -0.011326\n2011-01-06  0.000000 -0.004037 -0.020337\n2011-01-07  0.000000 -0.005861 -0.022161\n2011-01-10  0.000000 -0.004695 -0.020995\n...              ...       ...       ...\n2020-12-23  0.002153  0.006578 -0.009722\n2020-12-24 -0.003231  0.000979 -0.015321\n2020-12-29  0.028710  0.015344 -0.000956\n2020-12-30 -0.008421 -0.007118 -0.023418\n2020-12-31 -0.008493 -0.014643 -0.030943\n\n[2521 rows x 3 columns]"
     },
     "execution_count": 7,
     "metadata": {},
     "output_type": "execute_result"
    }
   ],
   "source": [
    "risk_free = 0.0163\n",
    "returns['MRP'] = returns['FTSE100'] - risk_free\n",
    "returns.dropna(inplace=True)\n",
    "returns"
   ]
  },
  {
   "cell_type": "code",
   "execution_count": 8,
   "metadata": {},
   "outputs": [
    {
     "data": {
      "text/html": "<table class=\"simpletable\">\n<caption>OLS Regression Results</caption>\n<tr>\n  <th>Dep. Variable:</th>          <td>GBG.L</td>      <th>  R-squared:         </th>  <td>   0.059</td> \n</tr>\n<tr>\n  <th>Model:</th>                   <td>OLS</td>       <th>  Adj. R-squared:    </th>  <td>   0.058</td> \n</tr>\n<tr>\n  <th>Method:</th>             <td>Least Squares</td>  <th>  F-statistic:       </th>  <td>   157.1</td> \n</tr>\n<tr>\n  <th>Date:</th>             <td>Tue, 16 Mar 2021</td> <th>  Prob (F-statistic):</th>  <td>5.37e-35</td> \n</tr>\n<tr>\n  <th>Time:</th>                 <td>23:47:46</td>     <th>  Log-Likelihood:    </th>  <td>  6354.5</td> \n</tr>\n<tr>\n  <th>No. Observations:</th>      <td>  2521</td>      <th>  AIC:               </th> <td>-1.270e+04</td>\n</tr>\n<tr>\n  <th>Df Residuals:</th>          <td>  2519</td>      <th>  BIC:               </th> <td>-1.269e+04</td>\n</tr>\n<tr>\n  <th>Df Model:</th>              <td>     1</td>      <th>                     </th>      <td> </td>    \n</tr>\n<tr>\n  <th>Covariance Type:</th>      <td>nonrobust</td>    <th>                     </th>      <td> </td>    \n</tr>\n</table>\n<table class=\"simpletable\">\n<tr>\n    <td></td>       <th>coef</th>     <th>std err</th>      <th>t</th>      <th>P>|t|</th>  <th>[0.025</th>    <th>0.975]</th>  \n</tr>\n<tr>\n  <th>const</th> <td>    0.0089</td> <td>    0.001</td> <td>   12.372</td> <td> 0.000</td> <td>    0.007</td> <td>    0.010</td>\n</tr>\n<tr>\n  <th>MRP</th>   <td>    0.4644</td> <td>    0.037</td> <td>   12.532</td> <td> 0.000</td> <td>    0.392</td> <td>    0.537</td>\n</tr>\n</table>\n<table class=\"simpletable\">\n<tr>\n  <th>Omnibus:</th>       <td>624.634</td> <th>  Durbin-Watson:     </th> <td>   1.930</td> \n</tr>\n<tr>\n  <th>Prob(Omnibus):</th> <td> 0.000</td>  <th>  Jarque-Bera (JB):  </th> <td>21609.791</td>\n</tr>\n<tr>\n  <th>Skew:</th>          <td> 0.462</td>  <th>  Prob(JB):          </th> <td>    0.00</td> \n</tr>\n<tr>\n  <th>Kurtosis:</th>      <td>17.313</td>  <th>  Cond. No.          </th> <td>    95.6</td> \n</tr>\n</table><br/><br/>Notes:<br/>[1] Standard Errors assume that the covariance matrix of the errors is correctly specified.",
      "text/plain": "<class 'statsmodels.iolib.summary.Summary'>\n\"\"\"\n                            OLS Regression Results                            \n==============================================================================\nDep. Variable:                  GBG.L   R-squared:                       0.059\nModel:                            OLS   Adj. R-squared:                  0.058\nMethod:                 Least Squares   F-statistic:                     157.1\nDate:                Tue, 16 Mar 2021   Prob (F-statistic):           5.37e-35\nTime:                        23:47:46   Log-Likelihood:                 6354.5\nNo. Observations:                2521   AIC:                        -1.270e+04\nDf Residuals:                    2519   BIC:                        -1.269e+04\nDf Model:                           1                                         \nCovariance Type:            nonrobust                                         \n==============================================================================\n                 coef    std err          t      P>|t|      [0.025      0.975]\n------------------------------------------------------------------------------\nconst          0.0089      0.001     12.372      0.000       0.007       0.010\nMRP            0.4644      0.037     12.532      0.000       0.392       0.537\n==============================================================================\nOmnibus:                      624.634   Durbin-Watson:                   1.930\nProb(Omnibus):                  0.000   Jarque-Bera (JB):            21609.791\nSkew:                           0.462   Prob(JB):                         0.00\nKurtosis:                      17.313   Cond. No.                         95.6\n==============================================================================\n\nNotes:\n[1] Standard Errors assume that the covariance matrix of the errors is correctly specified.\n\"\"\""
     },
     "execution_count": 8,
     "metadata": {},
     "output_type": "execute_result"
    }
   ],
   "source": [
    "X = sm.add_constant(returns['MRP'])    # add constant to the x vairable\n",
    "y = returns['GBG.L']\n",
    "\n",
    "model = sm.OLS(y, X)\n",
    "results = model.fit()\n",
    "results.summary()"
   ]
  },
  {
   "cell_type": "code",
   "execution_count": 9,
   "metadata": {},
   "outputs": [
    {
     "data": {
      "text/plain": "0.4644054150405105"
     },
     "execution_count": 9,
     "metadata": {},
     "output_type": "execute_result"
    }
   ],
   "source": [
    "beta = results.params['MRP']\n",
    "beta"
   ]
  }
 ],
 "metadata": {
  "kernelspec": {
   "display_name": "Python 3.8.8 64-bit ('pyfinance': conda)",
   "name": "python388jvsc74a57bd0aa2a76ff1d502f6d0371ca95b6c2a399f3dfd324b42874e8dc720c235d65d199"
  },
  "language_info": {
   "codemirror_mode": {
    "name": "ipython",
    "version": 3
   },
   "file_extension": ".py",
   "mimetype": "text/x-python",
   "name": "python",
   "nbconvert_exporter": "python",
   "pygments_lexer": "ipython3",
   "version": "3.8.8"
  },
  "metadata": {
   "interpreter": {
    "hash": "aa2a76ff1d502f6d0371ca95b6c2a399f3dfd324b42874e8dc720c235d65d199"
   }
  }
 },
 "nbformat": 4,
 "nbformat_minor": 5
}