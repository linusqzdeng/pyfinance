{
 "cells": [
  {
   "cell_type": "markdown",
   "metadata": {},
   "source": [
    "# Equity betas"
   ]
  },
  {
   "cell_type": "code",
   "execution_count": 1,
   "metadata": {},
   "outputs": [],
   "source": [
    "import pandas as pd\n",
    "import pandas_datareader as web\n",
    "import numpy as np\n",
    "import datetime as dt\n",
    "import statsmodels.api as sm"
   ]
  },
  {
   "cell_type": "markdown",
   "metadata": {},
   "source": [
    "### Calculate the 5-yr montly betas of Korean Airlines, Qantas Airways, ANA Holdings and Singapore Airlines "
   ]
  },
  {
   "cell_type": "code",
   "execution_count": 2,
   "metadata": {},
   "outputs": [],
   "source": [
    "start_date = dt.datetime(2016, 12, 31)\n",
    "end_date = dt.datetime(2019, 12, 31)\n",
    "\n",
    "tickers = ['APRN', 'GRUB', 'DHER.DE', 'HFG.DE', '^GSPC', '^GDAXI']"
   ]
  },
  {
   "cell_type": "code",
   "execution_count": 3,
   "metadata": {},
   "outputs": [
    {
     "data": {
      "text/html": "<div>\n<style scoped>\n    .dataframe tbody tr th:only-of-type {\n        vertical-align: middle;\n    }\n\n    .dataframe tbody tr th {\n        vertical-align: top;\n    }\n\n    .dataframe thead th {\n        text-align: right;\n    }\n</style>\n<table border=\"1\" class=\"dataframe\">\n  <thead>\n    <tr style=\"text-align: right;\">\n      <th></th>\n      <th>APRN</th>\n      <th>GRUB</th>\n      <th>DHER.DE</th>\n      <th>HFG.DE</th>\n      <th>^GSPC</th>\n      <th>^GDAXI</th>\n    </tr>\n    <tr>\n      <th>Date</th>\n      <th></th>\n      <th></th>\n      <th></th>\n      <th></th>\n      <th></th>\n      <th></th>\n    </tr>\n  </thead>\n  <tbody>\n    <tr>\n      <th>2017-06-29</th>\n      <td>150.000000</td>\n      <td>43.200001</td>\n      <td>NaN</td>\n      <td>NaN</td>\n      <td>2419.699951</td>\n      <td>12416.190430</td>\n    </tr>\n    <tr>\n      <th>2017-06-30</th>\n      <td>140.100006</td>\n      <td>43.599998</td>\n      <td>27.799999</td>\n      <td>NaN</td>\n      <td>2423.409912</td>\n      <td>12325.120117</td>\n    </tr>\n    <tr>\n      <th>2017-07-03</th>\n      <td>145.050003</td>\n      <td>43.410000</td>\n      <td>27.500000</td>\n      <td>NaN</td>\n      <td>2429.010010</td>\n      <td>12475.309570</td>\n    </tr>\n    <tr>\n      <th>2017-07-05</th>\n      <td>132.600006</td>\n      <td>43.459999</td>\n      <td>25.549999</td>\n      <td>NaN</td>\n      <td>2432.540039</td>\n      <td>12453.679688</td>\n    </tr>\n    <tr>\n      <th>2017-07-06</th>\n      <td>120.900002</td>\n      <td>43.130001</td>\n      <td>25.900000</td>\n      <td>NaN</td>\n      <td>2409.750000</td>\n      <td>12381.250000</td>\n    </tr>\n    <tr>\n      <th>...</th>\n      <td>...</td>\n      <td>...</td>\n      <td>...</td>\n      <td>...</td>\n      <td>...</td>\n      <td>...</td>\n    </tr>\n    <tr>\n      <th>2019-12-24</th>\n      <td>7.670000</td>\n      <td>48.580002</td>\n      <td>NaN</td>\n      <td>NaN</td>\n      <td>3223.379883</td>\n      <td>NaN</td>\n    </tr>\n    <tr>\n      <th>2019-12-26</th>\n      <td>7.470000</td>\n      <td>49.060001</td>\n      <td>NaN</td>\n      <td>NaN</td>\n      <td>3239.909912</td>\n      <td>NaN</td>\n    </tr>\n    <tr>\n      <th>2019-12-27</th>\n      <td>7.150000</td>\n      <td>49.060001</td>\n      <td>70.660004</td>\n      <td>18.82</td>\n      <td>3240.020020</td>\n      <td>13337.110352</td>\n    </tr>\n    <tr>\n      <th>2019-12-30</th>\n      <td>6.790000</td>\n      <td>48.299999</td>\n      <td>70.559998</td>\n      <td>18.66</td>\n      <td>3221.290039</td>\n      <td>13249.009766</td>\n    </tr>\n    <tr>\n      <th>2019-12-31</th>\n      <td>6.580000</td>\n      <td>48.639999</td>\n      <td>NaN</td>\n      <td>NaN</td>\n      <td>3230.780029</td>\n      <td>NaN</td>\n    </tr>\n  </tbody>\n</table>\n<p>631 rows × 6 columns</p>\n</div>",
      "text/plain": "                  APRN       GRUB    DHER.DE  HFG.DE        ^GSPC  \\\nDate                                                                \n2017-06-29  150.000000  43.200001        NaN     NaN  2419.699951   \n2017-06-30  140.100006  43.599998  27.799999     NaN  2423.409912   \n2017-07-03  145.050003  43.410000  27.500000     NaN  2429.010010   \n2017-07-05  132.600006  43.459999  25.549999     NaN  2432.540039   \n2017-07-06  120.900002  43.130001  25.900000     NaN  2409.750000   \n...                ...        ...        ...     ...          ...   \n2019-12-24    7.670000  48.580002        NaN     NaN  3223.379883   \n2019-12-26    7.470000  49.060001        NaN     NaN  3239.909912   \n2019-12-27    7.150000  49.060001  70.660004   18.82  3240.020020   \n2019-12-30    6.790000  48.299999  70.559998   18.66  3221.290039   \n2019-12-31    6.580000  48.639999        NaN     NaN  3230.780029   \n\n                  ^GDAXI  \nDate                      \n2017-06-29  12416.190430  \n2017-06-30  12325.120117  \n2017-07-03  12475.309570  \n2017-07-05  12453.679688  \n2017-07-06  12381.250000  \n...                  ...  \n2019-12-24           NaN  \n2019-12-26           NaN  \n2019-12-27  13337.110352  \n2019-12-30  13249.009766  \n2019-12-31           NaN  \n\n[631 rows x 6 columns]"
     },
     "execution_count": 3,
     "metadata": {},
     "output_type": "execute_result"
    }
   ],
   "source": [
    "# 10 years adjusted close price of GB Group and FTSE100\n",
    "df = pd.DataFrame()\n",
    "\n",
    "for ticker in tickers:\n",
    "    df[ticker] = web.DataReader(ticker, 'yahoo', start_date, end_date)['Close']\n",
    "\n",
    "df"
   ]
  },
  {
   "cell_type": "code",
   "execution_count": 4,
   "metadata": {},
   "outputs": [
    {
     "data": {
      "text/html": "<div>\n<style scoped>\n    .dataframe tbody tr th:only-of-type {\n        vertical-align: middle;\n    }\n\n    .dataframe tbody tr th {\n        vertical-align: top;\n    }\n\n    .dataframe thead th {\n        text-align: right;\n    }\n</style>\n<table border=\"1\" class=\"dataframe\">\n  <thead>\n    <tr style=\"text-align: right;\">\n      <th></th>\n      <th>APRN</th>\n      <th>GRUB</th>\n      <th>DHER.DE</th>\n      <th>HFG.DE</th>\n      <th>^GSPC</th>\n      <th>^GDAXI</th>\n    </tr>\n    <tr>\n      <th>Date</th>\n      <th></th>\n      <th></th>\n      <th></th>\n      <th></th>\n      <th></th>\n      <th></th>\n    </tr>\n  </thead>\n  <tbody>\n    <tr>\n      <th>2017-07-02</th>\n      <td>145.050003</td>\n      <td>43.400000</td>\n      <td>27.799999</td>\n      <td>NaN</td>\n      <td>2421.554932</td>\n      <td>12370.655273</td>\n    </tr>\n    <tr>\n      <th>2017-07-09</th>\n      <td>128.625002</td>\n      <td>43.420000</td>\n      <td>26.300000</td>\n      <td>NaN</td>\n      <td>2424.119995</td>\n      <td>12424.729736</td>\n    </tr>\n    <tr>\n      <th>2017-07-16</th>\n      <td>112.800000</td>\n      <td>44.786000</td>\n      <td>27.510000</td>\n      <td>NaN</td>\n      <td>2440.662012</td>\n      <td>12556.513867</td>\n    </tr>\n    <tr>\n      <th>2017-07-23</th>\n      <td>98.010001</td>\n      <td>45.517999</td>\n      <td>28.889000</td>\n      <td>NaN</td>\n      <td>2467.914014</td>\n      <td>12431.381836</td>\n    </tr>\n    <tr>\n      <th>2017-07-30</th>\n      <td>105.360001</td>\n      <td>46.344000</td>\n      <td>27.573000</td>\n      <td>NaN</td>\n      <td>2474.477979</td>\n      <td>12230.622070</td>\n    </tr>\n  </tbody>\n</table>\n</div>",
      "text/plain": "                  APRN       GRUB    DHER.DE  HFG.DE        ^GSPC  \\\nDate                                                                \n2017-07-02  145.050003  43.400000  27.799999     NaN  2421.554932   \n2017-07-09  128.625002  43.420000  26.300000     NaN  2424.119995   \n2017-07-16  112.800000  44.786000  27.510000     NaN  2440.662012   \n2017-07-23   98.010001  45.517999  28.889000     NaN  2467.914014   \n2017-07-30  105.360001  46.344000  27.573000     NaN  2474.477979   \n\n                  ^GDAXI  \nDate                      \n2017-07-02  12370.655273  \n2017-07-09  12424.729736  \n2017-07-16  12556.513867  \n2017-07-23  12431.381836  \n2017-07-30  12230.622070  "
     },
     "execution_count": 4,
     "metadata": {},
     "output_type": "execute_result"
    }
   ],
   "source": [
    "df = df.resample('W').mean()\n",
    "df.head()"
   ]
  },
  {
   "cell_type": "code",
   "execution_count": 5,
   "metadata": {},
   "outputs": [
    {
     "data": {
      "text/html": "<div>\n<style scoped>\n    .dataframe tbody tr th:only-of-type {\n        vertical-align: middle;\n    }\n\n    .dataframe tbody tr th {\n        vertical-align: top;\n    }\n\n    .dataframe thead th {\n        text-align: right;\n    }\n</style>\n<table border=\"1\" class=\"dataframe\">\n  <thead>\n    <tr style=\"text-align: right;\">\n      <th></th>\n      <th>APRN</th>\n      <th>GRUB</th>\n      <th>DHER.DE</th>\n      <th>HFG.DE</th>\n      <th>^GSPC</th>\n      <th>^GDAXI</th>\n    </tr>\n    <tr>\n      <th>Date</th>\n      <th></th>\n      <th></th>\n      <th></th>\n      <th></th>\n      <th></th>\n      <th></th>\n    </tr>\n  </thead>\n  <tbody>\n    <tr>\n      <th>2017-11-12</th>\n      <td>-0.296798</td>\n      <td>0.025865</td>\n      <td>0.008151</td>\n      <td>-0.103470</td>\n      <td>0.003710</td>\n      <td>-0.007159</td>\n    </tr>\n    <tr>\n      <th>2017-11-19</th>\n      <td>-0.066249</td>\n      <td>0.020177</td>\n      <td>0.002252</td>\n      <td>-0.005056</td>\n      <td>-0.003890</td>\n      <td>-0.021499</td>\n    </tr>\n    <tr>\n      <th>2017-11-26</th>\n      <td>-0.013463</td>\n      <td>0.049626</td>\n      <td>0.025808</td>\n      <td>0.078332</td>\n      <td>0.006418</td>\n      <td>0.003849</td>\n    </tr>\n    <tr>\n      <th>2017-12-03</th>\n      <td>0.013463</td>\n      <td>0.006113</td>\n      <td>-0.002395</td>\n      <td>0.003997</td>\n      <td>0.012902</td>\n      <td>-0.005665</td>\n    </tr>\n    <tr>\n      <th>2017-12-10</th>\n      <td>0.208291</td>\n      <td>0.008623</td>\n      <td>-0.048716</td>\n      <td>-0.035652</td>\n      <td>0.003223</td>\n      <td>0.004569</td>\n    </tr>\n    <tr>\n      <th>...</th>\n      <td>...</td>\n      <td>...</td>\n      <td>...</td>\n      <td>...</td>\n      <td>...</td>\n      <td>...</td>\n    </tr>\n    <tr>\n      <th>2019-12-08</th>\n      <td>0.004422</td>\n      <td>-0.025304</td>\n      <td>0.036659</td>\n      <td>0.001575</td>\n      <td>-0.008167</td>\n      <td>-0.014319</td>\n    </tr>\n    <tr>\n      <th>2019-12-15</th>\n      <td>0.025840</td>\n      <td>-0.018947</td>\n      <td>0.071938</td>\n      <td>0.033728</td>\n      <td>0.010489</td>\n      <td>0.007801</td>\n    </tr>\n    <tr>\n      <th>2019-12-22</th>\n      <td>0.072407</td>\n      <td>0.135889</td>\n      <td>0.245199</td>\n      <td>-0.032643</td>\n      <td>0.016015</td>\n      <td>0.009391</td>\n    </tr>\n    <tr>\n      <th>2019-12-29</th>\n      <td>-0.003606</td>\n      <td>0.039228</td>\n      <td>0.052524</td>\n      <td>0.013249</td>\n      <td>0.009791</td>\n      <td>0.002206</td>\n    </tr>\n    <tr>\n      <th>2020-01-05</th>\n      <td>-0.111698</td>\n      <td>-0.007451</td>\n      <td>0.005115</td>\n      <td>-0.001606</td>\n      <td>-0.001795</td>\n      <td>-0.005272</td>\n    </tr>\n  </tbody>\n</table>\n<p>113 rows × 6 columns</p>\n</div>",
      "text/plain": "                APRN      GRUB   DHER.DE    HFG.DE     ^GSPC    ^GDAXI\nDate                                                                  \n2017-11-12 -0.296798  0.025865  0.008151 -0.103470  0.003710 -0.007159\n2017-11-19 -0.066249  0.020177  0.002252 -0.005056 -0.003890 -0.021499\n2017-11-26 -0.013463  0.049626  0.025808  0.078332  0.006418  0.003849\n2017-12-03  0.013463  0.006113 -0.002395  0.003997  0.012902 -0.005665\n2017-12-10  0.208291  0.008623 -0.048716 -0.035652  0.003223  0.004569\n...              ...       ...       ...       ...       ...       ...\n2019-12-08  0.004422 -0.025304  0.036659  0.001575 -0.008167 -0.014319\n2019-12-15  0.025840 -0.018947  0.071938  0.033728  0.010489  0.007801\n2019-12-22  0.072407  0.135889  0.245199 -0.032643  0.016015  0.009391\n2019-12-29 -0.003606  0.039228  0.052524  0.013249  0.009791  0.002206\n2020-01-05 -0.111698 -0.007451  0.005115 -0.001606 -0.001795 -0.005272\n\n[113 rows x 6 columns]"
     },
     "execution_count": 5,
     "metadata": {},
     "output_type": "execute_result"
    }
   ],
   "source": [
    "returns = df.copy()\n",
    "for x in returns.columns:\n",
    "    returns[x] = np.log(df[x]).diff()\n",
    "\n",
    "returns.dropna(inplace=True)\n",
    "returns"
   ]
  },
  {
   "cell_type": "markdown",
   "metadata": {},
   "source": [
    "market_return = 0.0812\n",
    "risk_free = 0.035\n",
    "\n",
    "returns['MRP'] = returns['S&P500'] - risk_free\n",
    "returns.dropna(inplace=True)\n",
    "returns"
   ]
  },
  {
   "cell_type": "code",
   "execution_count": 6,
   "metadata": {},
   "outputs": [
    {
     "data": {
      "text/plain": "[1.6349563675018808,\n 1.4935593282414734,\n 0.8096076762565098,\n 0.8342137439882905]"
     },
     "execution_count": 6,
     "metadata": {},
     "output_type": "execute_result"
    }
   ],
   "source": [
    "X = returns['^GSPC']\n",
    "X1 = sm.add_constant(X)\n",
    "betas = []\n",
    "for i in returns.columns[:2]:\n",
    "    y = returns[i]\n",
    "    model = sm.OLS(y, X1)\n",
    "    results = model.fit()\n",
    "    betas.append(results.params['^GSPC'])\n",
    "\n",
    "X_GER = returns['^GDAXI']\n",
    "X_GER1 = sm.add_constant(X_GER)\n",
    "\n",
    "for i in returns.columns[2:4]:       \n",
    "    y_GER = returns[i]\n",
    "    model2 = sm.OLS(y_GER, X_GER1)\n",
    "    results2 = model2.fit()\n",
    "    betas.append(results2.params['^GDAXI'])\n",
    "\n",
    "betas"
   ]
  },
  {
   "cell_type": "code",
   "execution_count": 7,
   "metadata": {},
   "outputs": [
    {
     "data": {
      "text/html": "<div>\n<style scoped>\n    .dataframe tbody tr th:only-of-type {\n        vertical-align: middle;\n    }\n\n    .dataframe tbody tr th {\n        vertical-align: top;\n    }\n\n    .dataframe thead th {\n        text-align: right;\n    }\n</style>\n<table border=\"1\" class=\"dataframe\">\n  <thead>\n    <tr style=\"text-align: right;\">\n      <th></th>\n      <th>APRN</th>\n      <th>GRUB</th>\n      <th>DHER.DE</th>\n      <th>HFG.DE</th>\n    </tr>\n  </thead>\n  <tbody>\n    <tr>\n      <th>0</th>\n      <td>1.634956</td>\n      <td>1.493559</td>\n      <td>0.809608</td>\n      <td>0.834214</td>\n    </tr>\n  </tbody>\n</table>\n</div>",
      "text/plain": "       APRN      GRUB   DHER.DE    HFG.DE\n0  1.634956  1.493559  0.809608  0.834214"
     },
     "execution_count": 7,
     "metadata": {},
     "output_type": "execute_result"
    }
   ],
   "source": [
    "equity_betas = pd.DataFrame(betas, index=returns.columns[:-2])\n",
    "\n",
    "equity_betas.T"
   ]
  },
  {
   "cell_type": "code",
   "execution_count": 8,
   "metadata": {},
   "outputs": [
    {
     "data": {
      "text/plain": "Index(['DHER.DE', 'HFG.DE'], dtype='object')"
     },
     "execution_count": 8,
     "metadata": {},
     "output_type": "execute_result"
    }
   ],
   "source": [
    "returns.columns[2: 4]"
   ]
  }
 ],
 "metadata": {
  "kernelspec": {
   "display_name": "Python 3.8.8 64-bit ('pyfinance': conda)",
   "name": "python388jvsc74a57bd0aa2a76ff1d502f6d0371ca95b6c2a399f3dfd324b42874e8dc720c235d65d199"
  },
  "language_info": {
   "codemirror_mode": {
    "name": "ipython",
    "version": 3
   },
   "file_extension": ".py",
   "mimetype": "text/x-python",
   "name": "python",
   "nbconvert_exporter": "python",
   "pygments_lexer": "ipython3",
   "version": "3.8.8"
  },
  "metadata": {
   "interpreter": {
    "hash": "aa2a76ff1d502f6d0371ca95b6c2a399f3dfd324b42874e8dc720c235d65d199"
   }
  }
 },
 "nbformat": 4,
 "nbformat_minor": 5
}