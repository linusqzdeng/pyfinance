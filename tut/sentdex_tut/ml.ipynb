{
 "cells": [
  {
   "cell_type": "code",
   "execution_count": 1,
   "metadata": {},
   "outputs": [],
   "source": [
    "import numpy as np\n",
    "import pandas as pd \n",
    "import pickle"
   ]
  },
  {
   "cell_type": "code",
   "execution_count": 2,
   "metadata": {},
   "outputs": [
    {
     "data": {
      "text/html": "<div>\n<style scoped>\n    .dataframe tbody tr th:only-of-type {\n        vertical-align: middle;\n    }\n\n    .dataframe tbody tr th {\n        vertical-align: top;\n    }\n\n    .dataframe thead th {\n        text-align: right;\n    }\n</style>\n<table border=\"1\" class=\"dataframe\">\n  <thead>\n    <tr style=\"text-align: right;\">\n      <th></th>\n      <th>A</th>\n      <th>AAL</th>\n      <th>AAP</th>\n      <th>AAPL</th>\n      <th>ABBV</th>\n      <th>ABC</th>\n      <th>ABMD</th>\n      <th>ABT</th>\n      <th>ACN</th>\n      <th>ADBE</th>\n      <th>...</th>\n      <th>YUM</th>\n      <th>ZBH</th>\n      <th>ZBRA</th>\n      <th>ZION</th>\n      <th>ZTS</th>\n      <th>AAPL_1d</th>\n      <th>AAPL_2d</th>\n      <th>AAPL_3d</th>\n      <th>AAPL_4d</th>\n      <th>AAPL_5d</th>\n    </tr>\n    <tr>\n      <th>Date</th>\n      <th></th>\n      <th></th>\n      <th></th>\n      <th></th>\n      <th></th>\n      <th></th>\n      <th></th>\n      <th></th>\n      <th></th>\n      <th></th>\n      <th></th>\n      <th></th>\n      <th></th>\n      <th></th>\n      <th></th>\n      <th></th>\n      <th></th>\n      <th></th>\n      <th></th>\n      <th></th>\n      <th></th>\n    </tr>\n  </thead>\n  <tbody>\n    <tr>\n      <th>2020-10-23</th>\n      <td>107.03</td>\n      <td>13.10</td>\n      <td>161.86</td>\n      <td>117.75</td>\n      <td>84.47</td>\n      <td>99.48</td>\n      <td>286.25</td>\n      <td>108.01</td>\n      <td>240.50</td>\n      <td>489.00</td>\n      <td>...</td>\n      <td>106.07</td>\n      <td>146.70</td>\n      <td>312.22</td>\n      <td>34.80</td>\n      <td>170.23</td>\n      <td>0.005862</td>\n      <td>0.004586</td>\n      <td>-0.019037</td>\n      <td>0.008148</td>\n      <td>-0.025677</td>\n    </tr>\n    <tr>\n      <th>2020-10-26</th>\n      <td>105.38</td>\n      <td>12.00</td>\n      <td>158.37</td>\n      <td>119.35</td>\n      <td>85.52</td>\n      <td>101.78</td>\n      <td>300.84</td>\n      <td>110.00</td>\n      <td>229.36</td>\n      <td>495.50</td>\n      <td>...</td>\n      <td>99.60</td>\n      <td>139.95</td>\n      <td>308.90</td>\n      <td>33.44</td>\n      <td>163.34</td>\n      <td>-0.001275</td>\n      <td>-0.024899</td>\n      <td>0.002286</td>\n      <td>-0.031539</td>\n      <td>-0.034483</td>\n    </tr>\n    <tr>\n      <th>2020-10-27</th>\n      <td>110.98</td>\n      <td>11.51</td>\n      <td>151.75</td>\n      <td>119.00</td>\n      <td>82.94</td>\n      <td>98.53</td>\n      <td>300.89</td>\n      <td>110.30</td>\n      <td>223.01</td>\n      <td>501.83</td>\n      <td>...</td>\n      <td>98.57</td>\n      <td>140.20</td>\n      <td>296.06</td>\n      <td>32.23</td>\n      <td>170.05</td>\n      <td>-0.023623</td>\n      <td>0.003562</td>\n      <td>-0.030263</td>\n      <td>-0.033208</td>\n      <td>-0.025477</td>\n    </tr>\n    <tr>\n      <th>2020-10-28</th>\n      <td>104.20</td>\n      <td>10.99</td>\n      <td>150.67</td>\n      <td>112.70</td>\n      <td>83.97</td>\n      <td>95.80</td>\n      <td>296.00</td>\n      <td>108.45</td>\n      <td>215.47</td>\n      <td>465.42</td>\n      <td>...</td>\n      <td>97.69</td>\n      <td>136.54</td>\n      <td>289.70</td>\n      <td>31.70</td>\n      <td>163.68</td>\n      <td>0.027185</td>\n      <td>-0.006640</td>\n      <td>-0.009585</td>\n      <td>-0.001854</td>\n      <td>0.022490</td>\n    </tr>\n    <tr>\n      <th>2020-10-29</th>\n      <td>102.36</td>\n      <td>11.64</td>\n      <td>151.00</td>\n      <td>119.98</td>\n      <td>84.47</td>\n      <td>95.35</td>\n      <td>259.38</td>\n      <td>107.00</td>\n      <td>226.95</td>\n      <td>461.33</td>\n      <td>...</td>\n      <td>97.11</td>\n      <td>135.39</td>\n      <td>304.26</td>\n      <td>32.30</td>\n      <td>165.90</td>\n      <td>-0.033825</td>\n      <td>-0.036770</td>\n      <td>-0.029039</td>\n      <td>-0.004695</td>\n      <td>0.012030</td>\n    </tr>\n  </tbody>\n</table>\n<p>5 rows × 510 columns</p>\n</div>",
      "text/plain": "                 A    AAL     AAP    AAPL   ABBV     ABC    ABMD     ABT  \\\nDate                                                                       \n2020-10-23  107.03  13.10  161.86  117.75  84.47   99.48  286.25  108.01   \n2020-10-26  105.38  12.00  158.37  119.35  85.52  101.78  300.84  110.00   \n2020-10-27  110.98  11.51  151.75  119.00  82.94   98.53  300.89  110.30   \n2020-10-28  104.20  10.99  150.67  112.70  83.97   95.80  296.00  108.45   \n2020-10-29  102.36  11.64  151.00  119.98  84.47   95.35  259.38  107.00   \n\n               ACN    ADBE  ...     YUM     ZBH    ZBRA   ZION     ZTS  \\\nDate                        ...                                          \n2020-10-23  240.50  489.00  ...  106.07  146.70  312.22  34.80  170.23   \n2020-10-26  229.36  495.50  ...   99.60  139.95  308.90  33.44  163.34   \n2020-10-27  223.01  501.83  ...   98.57  140.20  296.06  32.23  170.05   \n2020-10-28  215.47  465.42  ...   97.69  136.54  289.70  31.70  163.68   \n2020-10-29  226.95  461.33  ...   97.11  135.39  304.26  32.30  165.90   \n\n             AAPL_1d   AAPL_2d   AAPL_3d   AAPL_4d   AAPL_5d  \nDate                                                          \n2020-10-23  0.005862  0.004586 -0.019037  0.008148 -0.025677  \n2020-10-26 -0.001275 -0.024899  0.002286 -0.031539 -0.034483  \n2020-10-27 -0.023623  0.003562 -0.030263 -0.033208 -0.025477  \n2020-10-28  0.027185 -0.006640 -0.009585 -0.001854  0.022490  \n2020-10-29 -0.033825 -0.036770 -0.029039 -0.004695  0.012030  \n\n[5 rows x 510 columns]"
     },
     "execution_count": 2,
     "metadata": {},
     "output_type": "execute_result"
    }
   ],
   "source": [
    "df = pd.read_csv('S&P_500_3m_adjClose.csv', index_col=0)\n",
    "\n",
    "def processing_data_labels(ticker):\n",
    "    hm_day = 5\n",
    "    tickers = df.columns.values\n",
    "    df.fillna(0, inplace=True)\n",
    "\n",
    "    for i in range(1, hm_day+1):\n",
    "        df[f'{ticker}_{i}d'] = np.log10(df[ticker]).shift(-i) - np.log10(df[ticker])\n",
    "\n",
    "    df.fillna(0, inplace=True)\n",
    "\n",
    "    return tickers, df\n",
    "\n",
    "processing_data_labels('AAPL')\n",
    "df.head()"
   ]
  },
  {
   "cell_type": "code",
   "execution_count": null,
   "metadata": {},
   "outputs": [],
   "source": []
  }
 ],
 "metadata": {
  "kernelspec": {
   "display_name": "Python 3",
   "language": "python",
   "name": "python3"
  },
  "language_info": {
   "codemirror_mode": {
    "name": "ipython",
    "version": 3
   },
   "file_extension": ".py",
   "mimetype": "text/x-python",
   "name": "python",
   "nbconvert_exporter": "python",
   "pygments_lexer": "ipython3",
   "version": "3.8.6"
  }
 },
 "nbformat": 4,
 "nbformat_minor": 2
}