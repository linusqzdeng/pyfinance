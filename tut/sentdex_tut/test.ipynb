{
 "metadata": {
  "language_info": {
   "codemirror_mode": {
    "name": "ipython",
    "version": 3
   },
   "file_extension": ".py",
   "mimetype": "text/x-python",
   "name": "python",
   "nbconvert_exporter": "python",
   "pygments_lexer": "ipython3",
   "version": "3.8.6-final"
  },
  "orig_nbformat": 2,
  "kernelspec": {
   "name": "python3",
   "display_name": "Python 3",
   "language": "python"
  }
 },
 "nbformat": 4,
 "nbformat_minor": 2,
 "cells": [
  {
   "cell_type": "code",
   "execution_count": 1,
   "metadata": {},
   "outputs": [],
   "source": [
    "import pandas as pd "
   ]
  },
  {
   "cell_type": "code",
   "execution_count": 2,
   "metadata": {},
   "outputs": [],
   "source": [
    "import matplotlib.pyplot as plt "
   ]
  },
  {
   "cell_type": "code",
   "execution_count": 3,
   "metadata": {},
   "outputs": [
    {
     "output_type": "execute_result",
     "data": {
      "text/plain": [
       "         Date       A    AAL     AAP    AAPL   ABBV     ABC    ABMD     ABT  \\\n",
       "0  2020-10-23  107.03  13.10  161.86  117.75  84.47   99.48  286.25  108.01   \n",
       "1  2020-10-26  105.38  12.00  158.37  119.35  85.52  101.78  300.84  110.00   \n",
       "2  2020-10-27  110.98  11.51  151.75  119.00  82.94   98.53  300.89  110.30   \n",
       "3  2020-10-28  104.20  10.99  150.67  112.70  83.97   95.80  296.00  108.45   \n",
       "4  2020-10-29  102.36  11.64  151.00  119.98  84.47   95.35  259.38  107.00   \n",
       "\n",
       "      ACN  ...    XLNX    XOM   XRAY    XRX    XYL     YUM     ZBH    ZBRA  \\\n",
       "0  240.50  ...  117.94  34.32  51.21  20.30  92.65  106.07  146.70  312.22   \n",
       "1  229.36  ...  119.48  33.37  49.32  19.80  93.19   99.60  139.95  308.90   \n",
       "2  223.01  ...  128.72  33.84  49.23  18.68  91.91   98.57  140.20  296.06   \n",
       "3  215.47  ...  123.17  32.72  46.52  17.91  87.70   97.69  136.54  289.70   \n",
       "4  226.95  ...  126.00  33.27  47.00  18.18  89.13   97.11  135.39  304.26   \n",
       "\n",
       "    ZION     ZTS  \n",
       "0  34.80  170.23  \n",
       "1  33.44  163.34  \n",
       "2  32.23  170.05  \n",
       "3  31.70  163.68  \n",
       "4  32.30  165.90  \n",
       "\n",
       "[5 rows x 506 columns]"
      ],
      "text/html": "<div>\n<style scoped>\n    .dataframe tbody tr th:only-of-type {\n        vertical-align: middle;\n    }\n\n    .dataframe tbody tr th {\n        vertical-align: top;\n    }\n\n    .dataframe thead th {\n        text-align: right;\n    }\n</style>\n<table border=\"1\" class=\"dataframe\">\n  <thead>\n    <tr style=\"text-align: right;\">\n      <th></th>\n      <th>Date</th>\n      <th>A</th>\n      <th>AAL</th>\n      <th>AAP</th>\n      <th>AAPL</th>\n      <th>ABBV</th>\n      <th>ABC</th>\n      <th>ABMD</th>\n      <th>ABT</th>\n      <th>ACN</th>\n      <th>...</th>\n      <th>XLNX</th>\n      <th>XOM</th>\n      <th>XRAY</th>\n      <th>XRX</th>\n      <th>XYL</th>\n      <th>YUM</th>\n      <th>ZBH</th>\n      <th>ZBRA</th>\n      <th>ZION</th>\n      <th>ZTS</th>\n    </tr>\n  </thead>\n  <tbody>\n    <tr>\n      <th>0</th>\n      <td>2020-10-23</td>\n      <td>107.03</td>\n      <td>13.10</td>\n      <td>161.86</td>\n      <td>117.75</td>\n      <td>84.47</td>\n      <td>99.48</td>\n      <td>286.25</td>\n      <td>108.01</td>\n      <td>240.50</td>\n      <td>...</td>\n      <td>117.94</td>\n      <td>34.32</td>\n      <td>51.21</td>\n      <td>20.30</td>\n      <td>92.65</td>\n      <td>106.07</td>\n      <td>146.70</td>\n      <td>312.22</td>\n      <td>34.80</td>\n      <td>170.23</td>\n    </tr>\n    <tr>\n      <th>1</th>\n      <td>2020-10-26</td>\n      <td>105.38</td>\n      <td>12.00</td>\n      <td>158.37</td>\n      <td>119.35</td>\n      <td>85.52</td>\n      <td>101.78</td>\n      <td>300.84</td>\n      <td>110.00</td>\n      <td>229.36</td>\n      <td>...</td>\n      <td>119.48</td>\n      <td>33.37</td>\n      <td>49.32</td>\n      <td>19.80</td>\n      <td>93.19</td>\n      <td>99.60</td>\n      <td>139.95</td>\n      <td>308.90</td>\n      <td>33.44</td>\n      <td>163.34</td>\n    </tr>\n    <tr>\n      <th>2</th>\n      <td>2020-10-27</td>\n      <td>110.98</td>\n      <td>11.51</td>\n      <td>151.75</td>\n      <td>119.00</td>\n      <td>82.94</td>\n      <td>98.53</td>\n      <td>300.89</td>\n      <td>110.30</td>\n      <td>223.01</td>\n      <td>...</td>\n      <td>128.72</td>\n      <td>33.84</td>\n      <td>49.23</td>\n      <td>18.68</td>\n      <td>91.91</td>\n      <td>98.57</td>\n      <td>140.20</td>\n      <td>296.06</td>\n      <td>32.23</td>\n      <td>170.05</td>\n    </tr>\n    <tr>\n      <th>3</th>\n      <td>2020-10-28</td>\n      <td>104.20</td>\n      <td>10.99</td>\n      <td>150.67</td>\n      <td>112.70</td>\n      <td>83.97</td>\n      <td>95.80</td>\n      <td>296.00</td>\n      <td>108.45</td>\n      <td>215.47</td>\n      <td>...</td>\n      <td>123.17</td>\n      <td>32.72</td>\n      <td>46.52</td>\n      <td>17.91</td>\n      <td>87.70</td>\n      <td>97.69</td>\n      <td>136.54</td>\n      <td>289.70</td>\n      <td>31.70</td>\n      <td>163.68</td>\n    </tr>\n    <tr>\n      <th>4</th>\n      <td>2020-10-29</td>\n      <td>102.36</td>\n      <td>11.64</td>\n      <td>151.00</td>\n      <td>119.98</td>\n      <td>84.47</td>\n      <td>95.35</td>\n      <td>259.38</td>\n      <td>107.00</td>\n      <td>226.95</td>\n      <td>...</td>\n      <td>126.00</td>\n      <td>33.27</td>\n      <td>47.00</td>\n      <td>18.18</td>\n      <td>89.13</td>\n      <td>97.11</td>\n      <td>135.39</td>\n      <td>304.26</td>\n      <td>32.30</td>\n      <td>165.90</td>\n    </tr>\n  </tbody>\n</table>\n<p>5 rows × 506 columns</p>\n</div>"
     },
     "metadata": {},
     "execution_count": 3
    }
   ],
   "source": [
    "df = pd.read_csv('S&P_500_3m_adjClose.csv')\n",
    "df.head()"
   ]
  },
  {
   "cell_type": "code",
   "execution_count": null,
   "metadata": {},
   "outputs": [],
   "source": []
  }
 ]
}