{
 "cells": [
  {
   "cell_type": "code",
   "execution_count": 5,
   "metadata": {},
   "outputs": [],
   "source": [
    "import pandas as pd \n",
    "import numpy as np\n",
    "import matplotlib.pyplot as plt \n",
    "from pandas_datareader import DataReader as web\n",
    "\n",
    "plt.style.use('fivethirtyeight')"
   ]
  },
  {
   "cell_type": "code",
   "execution_count": 6,
   "metadata": {},
   "outputs": [
    {
     "data": {
      "text/html": "<div>\n<style scoped>\n    .dataframe tbody tr th:only-of-type {\n        vertical-align: middle;\n    }\n\n    .dataframe tbody tr th {\n        vertical-align: top;\n    }\n\n    .dataframe thead th {\n        text-align: right;\n    }\n</style>\n<table border=\"1\" class=\"dataframe\">\n  <thead>\n    <tr style=\"text-align: right;\">\n      <th></th>\n      <th>High</th>\n      <th>Low</th>\n      <th>Open</th>\n      <th>Close</th>\n      <th>Volume</th>\n      <th>Adj Close</th>\n    </tr>\n    <tr>\n      <th>Date</th>\n      <th></th>\n      <th></th>\n      <th></th>\n      <th></th>\n      <th></th>\n      <th></th>\n    </tr>\n  </thead>\n  <tbody>\n    <tr>\n      <th>2019-01-02</th>\n      <td>63.026001</td>\n      <td>59.759998</td>\n      <td>61.220001</td>\n      <td>62.023998</td>\n      <td>58293000.0</td>\n      <td>62.023998</td>\n    </tr>\n    <tr>\n      <th>2019-01-03</th>\n      <td>61.880001</td>\n      <td>59.476002</td>\n      <td>61.400002</td>\n      <td>60.071999</td>\n      <td>34826000.0</td>\n      <td>60.071999</td>\n    </tr>\n    <tr>\n      <th>2019-01-04</th>\n      <td>63.599998</td>\n      <td>60.546001</td>\n      <td>61.200001</td>\n      <td>63.537998</td>\n      <td>36970500.0</td>\n      <td>63.537998</td>\n    </tr>\n    <tr>\n      <th>2019-01-07</th>\n      <td>67.348000</td>\n      <td>63.549999</td>\n      <td>64.344002</td>\n      <td>66.991997</td>\n      <td>37756000.0</td>\n      <td>66.991997</td>\n    </tr>\n    <tr>\n      <th>2019-01-08</th>\n      <td>68.802002</td>\n      <td>65.403999</td>\n      <td>68.391998</td>\n      <td>67.070000</td>\n      <td>35042500.0</td>\n      <td>67.070000</td>\n    </tr>\n  </tbody>\n</table>\n</div>",
      "text/plain": "                 High        Low       Open      Close      Volume  Adj Close\nDate                                                                         \n2019-01-02  63.026001  59.759998  61.220001  62.023998  58293000.0  62.023998\n2019-01-03  61.880001  59.476002  61.400002  60.071999  34826000.0  60.071999\n2019-01-04  63.599998  60.546001  61.200001  63.537998  36970500.0  63.537998\n2019-01-07  67.348000  63.549999  64.344002  66.991997  37756000.0  66.991997\n2019-01-08  68.802002  65.403999  68.391998  67.070000  35042500.0  67.070000"
     },
     "execution_count": 6,
     "metadata": {},
     "output_type": "execute_result"
    }
   ],
   "source": [
    "start_date = '2019-01-01'\n",
    "end_date = '2020-12-31'\n",
    "\n",
    "df = web('TSLA', 'yahoo', start_date, end_date)\n",
    "\n",
    "df.head()"
   ]
  },
  {
   "cell_type": "markdown",
   "metadata": {},
   "source": [
    "## Create functions to calculate Simple Moving Average (SMA) & Exponential Moving Average (EMA)"
   ]
  },
  {
   "cell_type": "code",
   "execution_count": 7,
   "metadata": {},
   "outputs": [],
   "source": [
    "def sma(data, period=30, column='Close'):\n",
    "    return data[column].rolling(window=period).mean()\n",
    "\n",
    "def ema(data, period=20, column='Close'):\n",
    "    return data[column].ewm(span=period, adjust=False).mean()"
   ]
  },
  {
   "cell_type": "code",
   "execution_count": null,
   "metadata": {},
   "outputs": [],
   "source": []
  }
 ],
 "metadata": {
  "kernelspec": {
   "display_name": "Python 3.8.8 64-bit ('pyfinance': conda)",
   "name": "python388jvsc74a57bd0aa2a76ff1d502f6d0371ca95b6c2a399f3dfd324b42874e8dc720c235d65d199"
  },
  "language_info": {
   "codemirror_mode": {
    "name": "ipython",
    "version": 3
   },
   "file_extension": ".py",
   "mimetype": "text/x-python",
   "name": "python",
   "nbconvert_exporter": "python",
   "pygments_lexer": "ipython3",
   "version": "3.8.8"
  },
  "metadata": {
   "interpreter": {
    "hash": "aa2a76ff1d502f6d0371ca95b6c2a399f3dfd324b42874e8dc720c235d65d199"
   }
  },
  "orig_nbformat": 2
 },
 "nbformat": 4,
 "nbformat_minor": 2
}