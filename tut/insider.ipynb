{
 "cells": [
  {
   "cell_type": "code",
   "execution_count": 1,
   "metadata": {},
   "outputs": [],
   "source": [
    "import pandas as pd\n"
   ]
  },
  {
   "cell_type": "code",
   "execution_count": 15,
   "metadata": {},
   "outputs": [
    {
     "data": {
      "text/html": "<div>\n<style scoped>\n    .dataframe tbody tr th:only-of-type {\n        vertical-align: middle;\n    }\n\n    .dataframe tbody tr th {\n        vertical-align: top;\n    }\n\n    .dataframe thead th {\n        text-align: right;\n    }\n</style>\n<table border=\"1\" class=\"dataframe\">\n  <thead>\n    <tr style=\"text-align: right;\">\n      <th></th>\n      <th>X</th>\n      <th>Filing Date</th>\n      <th>Trade Date</th>\n      <th>Ticker</th>\n      <th>Insider Name</th>\n      <th>Title</th>\n      <th>Trade Type</th>\n      <th>Price</th>\n      <th>Qty</th>\n      <th>Owned</th>\n      <th>ΔOwn</th>\n      <th>Value</th>\n      <th>1d</th>\n      <th>1w</th>\n      <th>1m</th>\n      <th>6m</th>\n    </tr>\n  </thead>\n  <tbody>\n    <tr>\n      <th>0</th>\n      <td>NaN</td>\n      <td>2021-02-23 16:57:03</td>\n      <td>2021-02-19</td>\n      <td>AMZN</td>\n      <td>Zapolsky David</td>\n      <td>SVP</td>\n      <td>S - Sale</td>\n      <td>$3,328.23</td>\n      <td>-179</td>\n      <td>3488</td>\n      <td>-5%</td>\n      <td>-$595,753</td>\n      <td>NaN</td>\n      <td>NaN</td>\n      <td>NaN</td>\n      <td>NaN</td>\n    </tr>\n    <tr>\n      <th>1</th>\n      <td>NaN</td>\n      <td>2021-02-17 17:25:50</td>\n      <td>2021-02-16</td>\n      <td>AMZN</td>\n      <td>Clark David H</td>\n      <td>CEO Worldwide Consumer</td>\n      <td>S - Sale</td>\n      <td>$3,257.88</td>\n      <td>-1019</td>\n      <td>29757</td>\n      <td>-3%</td>\n      <td>-$3,319,780</td>\n      <td>NaN</td>\n      <td>NaN</td>\n      <td>NaN</td>\n      <td>NaN</td>\n    </tr>\n    <tr>\n      <th>2</th>\n      <td>D</td>\n      <td>2021-02-17 17:08:35</td>\n      <td>2021-02-16</td>\n      <td>AMZN</td>\n      <td>Jassy Andrew R</td>\n      <td>CEO Amazon Web Services</td>\n      <td>S - Sale+OE</td>\n      <td>$3,301.02</td>\n      <td>-1099</td>\n      <td>86475</td>\n      <td>-1%</td>\n      <td>-$3,627,819</td>\n      <td>NaN</td>\n      <td>NaN</td>\n      <td>NaN</td>\n      <td>NaN</td>\n    </tr>\n    <tr>\n      <th>3</th>\n      <td>D</td>\n      <td>2021-02-17 16:59:42</td>\n      <td>2021-02-16</td>\n      <td>AMZN</td>\n      <td>Zapolsky David</td>\n      <td>SVP</td>\n      <td>S - Sale+OE</td>\n      <td>$3,257.88</td>\n      <td>-1238</td>\n      <td>3667</td>\n      <td>-25%</td>\n      <td>-$4,033,255</td>\n      <td>NaN</td>\n      <td>NaN</td>\n      <td>NaN</td>\n      <td>NaN</td>\n    </tr>\n    <tr>\n      <th>4</th>\n      <td>D</td>\n      <td>2021-02-17 16:53:43</td>\n      <td>2021-02-16</td>\n      <td>AMZN</td>\n      <td>Olsavsky Brian T</td>\n      <td>SVP, CFO</td>\n      <td>S - Sale+OE</td>\n      <td>$3,257.88</td>\n      <td>-1177</td>\n      <td>1771</td>\n      <td>-40%</td>\n      <td>-$3,834,525</td>\n      <td>NaN</td>\n      <td>NaN</td>\n      <td>NaN</td>\n      <td>NaN</td>\n    </tr>\n    <tr>\n      <th>...</th>\n      <td>...</td>\n      <td>...</td>\n      <td>...</td>\n      <td>...</td>\n      <td>...</td>\n      <td>...</td>\n      <td>...</td>\n      <td>...</td>\n      <td>...</td>\n      <td>...</td>\n      <td>...</td>\n      <td>...</td>\n      <td>...</td>\n      <td>...</td>\n      <td>...</td>\n      <td>...</td>\n    </tr>\n    <tr>\n      <th>20</th>\n      <td>D</td>\n      <td>2019-08-05 18:32:34</td>\n      <td>2019-08-01</td>\n      <td>AAPL</td>\n      <td>Levinson Arthur D</td>\n      <td>Dir</td>\n      <td>S - Sale+OE</td>\n      <td>$214.02</td>\n      <td>-17500</td>\n      <td>1147283</td>\n      <td>-2%</td>\n      <td>-$3,745,350</td>\n      <td>NaN</td>\n      <td>NaN</td>\n      <td>NaN</td>\n      <td>NaN</td>\n    </tr>\n    <tr>\n      <th>21</th>\n      <td>NaN</td>\n      <td>2019-08-05 18:31:27</td>\n      <td>2019-08-01</td>\n      <td>AAPL</td>\n      <td>Kondo Chris</td>\n      <td>Principal Accounting Officer</td>\n      <td>S - Sale</td>\n      <td>$217.47</td>\n      <td>-4376</td>\n      <td>8549</td>\n      <td>-34%</td>\n      <td>-$951,635</td>\n      <td>NaN</td>\n      <td>NaN</td>\n      <td>NaN</td>\n      <td>NaN</td>\n    </tr>\n    <tr>\n      <th>22</th>\n      <td>D</td>\n      <td>2019-05-07 18:30:52</td>\n      <td>2019-05-03</td>\n      <td>AAPL</td>\n      <td>Levinson Arthur D</td>\n      <td>Dir</td>\n      <td>S - Sale+OE</td>\n      <td>$210.86</td>\n      <td>-35000</td>\n      <td>1147283</td>\n      <td>-3%</td>\n      <td>-$7,380,100</td>\n      <td>NaN</td>\n      <td>NaN</td>\n      <td>NaN</td>\n      <td>NaN</td>\n    </tr>\n    <tr>\n      <th>23</th>\n      <td>NaN</td>\n      <td>2019-05-06 18:30:58</td>\n      <td>2019-05-02</td>\n      <td>AAPL</td>\n      <td>Williams Jeffrey E</td>\n      <td>COO</td>\n      <td>S - Sale</td>\n      <td>$210.35</td>\n      <td>-56411</td>\n      <td>108209</td>\n      <td>-34%</td>\n      <td>-$11,866,355</td>\n      <td>NaN</td>\n      <td>NaN</td>\n      <td>NaN</td>\n      <td>NaN</td>\n    </tr>\n    <tr>\n      <th>24</th>\n      <td>NaN</td>\n      <td>2019-04-09 18:30:48</td>\n      <td>2019-04-05</td>\n      <td>AAPL</td>\n      <td>Maestri Luca</td>\n      <td>SVP, CFO</td>\n      <td>S - Sale</td>\n      <td>$196.61</td>\n      <td>-51138</td>\n      <td>27448</td>\n      <td>-65%</td>\n      <td>-$10,054,242</td>\n      <td>NaN</td>\n      <td>NaN</td>\n      <td>NaN</td>\n      <td>NaN</td>\n    </tr>\n  </tbody>\n</table>\n<p>125 rows × 16 columns</p>\n</div>",
      "text/plain": "      X          Filing Date  Trade Date Ticker        Insider Name  \\\n0   NaN  2021-02-23 16:57:03  2021-02-19   AMZN      Zapolsky David   \n1   NaN  2021-02-17 17:25:50  2021-02-16   AMZN       Clark David H   \n2     D  2021-02-17 17:08:35  2021-02-16   AMZN      Jassy Andrew R   \n3     D  2021-02-17 16:59:42  2021-02-16   AMZN      Zapolsky David   \n4     D  2021-02-17 16:53:43  2021-02-16   AMZN    Olsavsky Brian T   \n..  ...                  ...         ...    ...                 ...   \n20    D  2019-08-05 18:32:34  2019-08-01   AAPL   Levinson Arthur D   \n21  NaN  2019-08-05 18:31:27  2019-08-01   AAPL         Kondo Chris   \n22    D  2019-05-07 18:30:52  2019-05-03   AAPL   Levinson Arthur D   \n23  NaN  2019-05-06 18:30:58  2019-05-02   AAPL  Williams Jeffrey E   \n24  NaN  2019-04-09 18:30:48  2019-04-05   AAPL        Maestri Luca   \n\n                           Title   Trade Type      Price    Qty    Owned  \\\n0                            SVP     S - Sale  $3,328.23   -179     3488   \n1         CEO Worldwide Consumer     S - Sale  $3,257.88  -1019    29757   \n2        CEO Amazon Web Services  S - Sale+OE  $3,301.02  -1099    86475   \n3                            SVP  S - Sale+OE  $3,257.88  -1238     3667   \n4                       SVP, CFO  S - Sale+OE  $3,257.88  -1177     1771   \n..                           ...          ...        ...    ...      ...   \n20                           Dir  S - Sale+OE    $214.02 -17500  1147283   \n21  Principal Accounting Officer     S - Sale    $217.47  -4376     8549   \n22                           Dir  S - Sale+OE    $210.86 -35000  1147283   \n23                           COO     S - Sale    $210.35 -56411   108209   \n24                      SVP, CFO     S - Sale    $196.61 -51138    27448   \n\n    ΔOwn         Value  1d  1w  1m  6m  \n0    -5%     -$595,753 NaN NaN NaN NaN  \n1    -3%   -$3,319,780 NaN NaN NaN NaN  \n2    -1%   -$3,627,819 NaN NaN NaN NaN  \n3   -25%   -$4,033,255 NaN NaN NaN NaN  \n4   -40%   -$3,834,525 NaN NaN NaN NaN  \n..   ...           ...  ..  ..  ..  ..  \n20   -2%   -$3,745,350 NaN NaN NaN NaN  \n21  -34%     -$951,635 NaN NaN NaN NaN  \n22   -3%   -$7,380,100 NaN NaN NaN NaN  \n23  -34%  -$11,866,355 NaN NaN NaN NaN  \n24  -65%  -$10,054,242 NaN NaN NaN NaN  \n\n[125 rows x 16 columns]"
     },
     "execution_count": 15,
     "metadata": {},
     "output_type": "execute_result"
    }
   ],
   "source": [
    "ticker = ['AMZN', 'AAPL']\n",
    "insider = pd.DataFrame()\n",
    "\n",
    "for company in ticker:\n",
    "\n",
    "    url = f'http://openinsider.com/screener?s={company}&o=&pl=&ph=&ll=&lh=&fd=730&fdr=&td=0&tdr=&fdlyl=&fdlyh=&daysago=&xp=1&xs=1&vl=&vh=&ocl=&och=&sic1=-1&sicl=100&sich=9999&grp=0&nfl=&nfh=&nil=&nih=&nol=&noh=&v2l=&v2h=&oc2l=&oc2h=&sortcol=0&cnt=100&page=1'\n",
    "\n",
    "    insider1 = pd.read_html(url)[-3]\n",
    "    insider = pd.concat([insider, insider1])\n",
    "\n",
    "insider"
   ]
  }
 ],
 "metadata": {
  "kernelspec": {
   "display_name": "Python 3.8.8 64-bit ('pyfinance': conda)",
   "name": "python388jvsc74a57bd0aa2a76ff1d502f6d0371ca95b6c2a399f3dfd324b42874e8dc720c235d65d199"
  },
  "language_info": {
   "codemirror_mode": {
    "name": "ipython",
    "version": 3
   },
   "file_extension": ".py",
   "mimetype": "text/x-python",
   "name": "python",
   "nbconvert_exporter": "python",
   "pygments_lexer": "ipython3",
   "version": "3.8.8"
  },
  "metadata": {
   "interpreter": {
    "hash": "aa2a76ff1d502f6d0371ca95b6c2a399f3dfd324b42874e8dc720c235d65d199"
   }
  },
  "orig_nbformat": 2
 },
 "nbformat": 4,
 "nbformat_minor": 2
}