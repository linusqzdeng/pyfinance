{
 "cells": [
  {
   "cell_type": "markdown",
   "metadata": {},
   "source": [
    "## Import essential libs"
   ]
  },
  {
   "cell_type": "code",
   "execution_count": 1,
   "metadata": {},
   "outputs": [],
   "source": [
    "import re\n",
    "import requests\n",
    "from bs4 import BeautifulSoup as bs"
   ]
  },
  {
   "cell_type": "markdown",
   "metadata": {},
   "source": [
    "## Getting the html contents"
   ]
  },
  {
   "cell_type": "code",
   "execution_count": 2,
   "metadata": {
    "tags": []
   },
   "outputs": [],
   "source": [
    "url = 'https://live.bilibili.com/lol?visit_id=guaai6lh79c'\n",
    "r = requests.get(url)\n",
    "soup = bs(r.content)\n",
    "html = soup.prettify()\n",
    "\n",
    "# print(soup.head.contents)"
   ]
  },
  {
   "cell_type": "markdown",
   "metadata": {},
   "source": [
    "## Find the first anchor name and popularity"
   ]
  },
  {
   "cell_type": "code",
   "execution_count": 3,
   "metadata": {},
   "outputs": [
    {
     "name": "stdout",
     "output_type": "stream",
     "text": [
      "<div class=\"room-anchor card-text p-relative\" data-v-191d6a08=\"\">\n",
      " <span data-v-191d6a08=\"\" title=\"哔哩哔哩英雄联盟赛事\">\n",
      "  哔哩哔哩英雄联盟赛事\n",
      " </span>\n",
      " <div class=\"popular-ctnr p-absolute\" data-v-191d6a08=\"\">\n",
      "  <i class=\"icon-font icon-popular v-middle dp-i-block\" data-v-191d6a08=\"\">\n",
      "  </i>\n",
      "  <span class=\"v-middle\" data-v-191d6a08=\"\">\n",
      "   5.4 万\n",
      "  </span>\n",
      " </div>\n",
      "</div>\n",
      "<div class=\"room-anchor card-text p-relative\" data-v-191d6a08=\"\">\n",
      " <span data-v-191d6a08=\"\" title=\"恢复单身の炮炮子ya\">\n",
      "  恢复单身の炮炮子ya\n",
      " </span>\n",
      " <div class=\"popular-ctnr p-absolute\" data-v-191d6a08=\"\">\n",
      "  <i class=\"icon-font icon-popular v-middle dp-i-block\" data-v-191d6a08=\"\">\n",
      "  </i>\n",
      "  <span class=\"v-middle\" data-v-191d6a08=\"\">\n",
      "   2.6 万\n",
      "  </span>\n",
      " </div>\n",
      "</div>\n",
      "<div class=\"room-anchor card-text p-relative\" data-v-191d6a08=\"\">\n",
      " <span data-v-191d6a08=\"\" title=\"小流年c\">\n",
      "  小流年c\n",
      " </span>\n",
      " <div class=\"popular-ctnr p-absolute\" data-v-191d6a08=\"\">\n",
      "  <i class=\"icon-font icon-popular v-middle dp-i-block\" data-v-191d6a08=\"\">\n",
      "  </i>\n",
      "  <span class=\"v-middle\" data-v-191d6a08=\"\">\n",
      "   2.5 万\n",
      "  </span>\n",
      " </div>\n",
      "</div>\n",
      "<div class=\"room-anchor card-text p-relative\" data-v-191d6a08=\"\">\n",
      " <span data-v-191d6a08=\"\" title=\"老岳OB\">\n",
      "  老岳OB\n",
      " </span>\n",
      " <div class=\"popular-ctnr p-absolute\" data-v-191d6a08=\"\">\n",
      "  <i class=\"icon-font icon-popular v-middle dp-i-block\" data-v-191d6a08=\"\">\n",
      "  </i>\n",
      "  <span class=\"v-middle\" data-v-191d6a08=\"\">\n",
      "   2.5 万\n",
      "  </span>\n",
      " </div>\n",
      "</div>\n",
      "<div class=\"room-anchor card-text p-relative\" data-v-191d6a08=\"\">\n",
      " <span data-v-191d6a08=\"\" title=\"你吵到我睡觉了p\">\n",
      "  你吵到我睡觉了p\n",
      " </span>\n",
      " <div class=\"popular-ctnr p-absolute\" data-v-191d6a08=\"\">\n",
      "  <i class=\"icon-font icon-popular v-middle dp-i-block\" data-v-191d6a08=\"\">\n",
      "  </i>\n",
      "  <span class=\"v-middle\" data-v-191d6a08=\"\">\n",
      "   2.7 万\n",
      "  </span>\n",
      " </div>\n",
      "</div>\n",
      "<div class=\"room-anchor card-text p-relative\" data-v-191d6a08=\"\">\n",
      " <span data-v-191d6a08=\"\" title=\"你好我是心动呀\">\n",
      "  你好我是心动呀\n",
      " </span>\n",
      " <div class=\"popular-ctnr p-absolute\" data-v-191d6a08=\"\">\n",
      "  <i class=\"icon-font icon-popular v-middle dp-i-block\" data-v-191d6a08=\"\">\n",
      "  </i>\n",
      "  <span class=\"v-middle\" data-v-191d6a08=\"\">\n",
      "   1.8 万\n",
      "  </span>\n",
      " </div>\n",
      "</div>\n",
      "<div class=\"room-anchor card-text p-relative\" data-v-191d6a08=\"\">\n",
      " <span data-v-191d6a08=\"\" title=\"夏目青悠\">\n",
      "  夏目青悠\n",
      " </span>\n",
      " <div class=\"popular-ctnr p-absolute\" data-v-191d6a08=\"\">\n",
      "  <i class=\"icon-font icon-popular v-middle dp-i-block\" data-v-191d6a08=\"\">\n",
      "  </i>\n",
      "  <span class=\"v-middle\" data-v-191d6a08=\"\">\n",
      "   1.2 万\n",
      "  </span>\n",
      " </div>\n",
      "</div>\n",
      "<div class=\"room-anchor card-text p-relative\" data-v-191d6a08=\"\">\n",
      " <span data-v-191d6a08=\"\" title=\"睡不醒的Fi姐姐\">\n",
      "  睡不醒的Fi姐姐\n",
      " </span>\n",
      " <div class=\"popular-ctnr p-absolute\" data-v-191d6a08=\"\">\n",
      "  <i class=\"icon-font icon-popular v-middle dp-i-block\" data-v-191d6a08=\"\">\n",
      "  </i>\n",
      "  <span class=\"v-middle\" data-v-191d6a08=\"\">\n",
      "   1.0 万\n",
      "  </span>\n",
      " </div>\n",
      "</div>\n",
      "<div class=\"room-anchor card-text p-relative\" data-v-191d6a08=\"\">\n",
      " <span data-v-191d6a08=\"\" title=\"云顶刘Rita\">\n",
      "  云顶刘Rita\n",
      " </span>\n",
      " <div class=\"popular-ctnr p-absolute\" data-v-191d6a08=\"\">\n",
      "  <i class=\"icon-font icon-popular v-middle dp-i-block\" data-v-191d6a08=\"\">\n",
      "  </i>\n",
      "  <span class=\"v-middle\" data-v-191d6a08=\"\">\n",
      "   7531\n",
      "  </span>\n",
      " </div>\n",
      "</div>\n",
      "<div class=\"room-anchor card-text p-relative\" data-v-191d6a08=\"\">\n",
      " <span data-v-191d6a08=\"\" title=\"苏艾ya\">\n",
      "  苏艾ya\n",
      " </span>\n",
      " <div class=\"popular-ctnr p-absolute\" data-v-191d6a08=\"\">\n",
      "  <i class=\"icon-font icon-popular v-middle dp-i-block\" data-v-191d6a08=\"\">\n",
      "  </i>\n",
      "  <span class=\"v-middle\" data-v-191d6a08=\"\">\n",
      "   6318\n",
      "  </span>\n",
      " </div>\n",
      "</div>\n",
      "<div class=\"room-anchor card-text p-relative\" data-v-191d6a08=\"\">\n",
      " <span data-v-191d6a08=\"\" title=\"小狮子你真猛\">\n",
      "  小狮子你真猛\n",
      " </span>\n",
      " <div class=\"popular-ctnr p-absolute\" data-v-191d6a08=\"\">\n",
      "  <i class=\"icon-font icon-popular v-middle dp-i-block\" data-v-191d6a08=\"\">\n",
      "  </i>\n",
      "  <span class=\"v-middle\" data-v-191d6a08=\"\">\n",
      "   6161\n",
      "  </span>\n",
      " </div>\n",
      "</div>\n",
      "<div class=\"room-anchor card-text p-relative\" data-v-191d6a08=\"\">\n",
      " <span data-v-191d6a08=\"\" title=\"刘夏来QAQ\">\n",
      "  刘夏来QAQ\n",
      " </span>\n",
      " <div class=\"popular-ctnr p-absolute\" data-v-191d6a08=\"\">\n",
      "  <i class=\"icon-font icon-popular v-middle dp-i-block\" data-v-191d6a08=\"\">\n",
      "  </i>\n",
      "  <span class=\"v-middle\" data-v-191d6a08=\"\">\n",
      "   5247\n",
      "  </span>\n",
      " </div>\n",
      "</div>\n",
      "<div class=\"room-anchor card-text p-relative\" data-v-191d6a08=\"\">\n",
      " <span data-v-191d6a08=\"\" title=\"贝亚特JugKg\">\n",
      "  贝亚特JugKg\n",
      " </span>\n",
      " <div class=\"popular-ctnr p-absolute\" data-v-191d6a08=\"\">\n",
      "  <i class=\"icon-font icon-popular v-middle dp-i-block\" data-v-191d6a08=\"\">\n",
      "  </i>\n",
      "  <span class=\"v-middle\" data-v-191d6a08=\"\">\n",
      "   5245\n",
      "  </span>\n",
      " </div>\n",
      "</div>\n",
      "<div class=\"room-anchor card-text p-relative\" data-v-191d6a08=\"\">\n",
      " <span data-v-191d6a08=\"\" title=\"超级乘风儿\">\n",
      "  超级乘风儿\n",
      " </span>\n",
      " <div class=\"popular-ctnr p-absolute\" data-v-191d6a08=\"\">\n",
      "  <i class=\"icon-font icon-popular v-middle dp-i-block\" data-v-191d6a08=\"\">\n",
      "  </i>\n",
      "  <span class=\"v-middle\" data-v-191d6a08=\"\">\n",
      "   4944\n",
      "  </span>\n",
      " </div>\n",
      "</div>\n",
      "<div class=\"room-anchor card-text p-relative\" data-v-191d6a08=\"\">\n",
      " <span data-v-191d6a08=\"\" title=\"樱田莉奈\">\n",
      "  樱田莉奈\n",
      " </span>\n",
      " <div class=\"popular-ctnr p-absolute\" data-v-191d6a08=\"\">\n",
      "  <i class=\"icon-font icon-popular v-middle dp-i-block\" data-v-191d6a08=\"\">\n",
      "  </i>\n",
      "  <span class=\"v-middle\" data-v-191d6a08=\"\">\n",
      "   4242\n",
      "  </span>\n",
      " </div>\n",
      "</div>\n",
      "<div class=\"room-anchor card-text p-relative\" data-v-191d6a08=\"\">\n",
      " <span data-v-191d6a08=\"\" title=\"低调ie\">\n",
      "  低调ie\n",
      " </span>\n",
      " <div class=\"popular-ctnr p-absolute\" data-v-191d6a08=\"\">\n",
      "  <i class=\"icon-font icon-popular v-middle dp-i-block\" data-v-191d6a08=\"\">\n",
      "  </i>\n",
      "  <span class=\"v-middle\" data-v-191d6a08=\"\">\n",
      "   4295\n",
      "  </span>\n",
      " </div>\n",
      "</div>\n",
      "<div class=\"room-anchor card-text p-relative\" data-v-191d6a08=\"\">\n",
      " <span data-v-191d6a08=\"\" title=\"CV北屿\">\n",
      "  CV北屿\n",
      " </span>\n",
      " <div class=\"popular-ctnr p-absolute\" data-v-191d6a08=\"\">\n",
      "  <i class=\"icon-font icon-popular v-middle dp-i-block\" data-v-191d6a08=\"\">\n",
      "  </i>\n",
      "  <span class=\"v-middle\" data-v-191d6a08=\"\">\n",
      "   4165\n",
      "  </span>\n",
      " </div>\n",
      "</div>\n",
      "<div class=\"room-anchor card-text p-relative\" data-v-191d6a08=\"\">\n",
      " <span data-v-191d6a08=\"\" title=\"骨酱zZ\">\n",
      "  骨酱zZ\n",
      " </span>\n",
      " <div class=\"popular-ctnr p-absolute\" data-v-191d6a08=\"\">\n",
      "  <i class=\"icon-font icon-popular v-middle dp-i-block\" data-v-191d6a08=\"\">\n",
      "  </i>\n",
      "  <span class=\"v-middle\" data-v-191d6a08=\"\">\n",
      "   4090\n",
      "  </span>\n",
      " </div>\n",
      "</div>\n",
      "<div class=\"room-anchor card-text p-relative\" data-v-191d6a08=\"\">\n",
      " <span data-v-191d6a08=\"\" title=\"芽芽不听\">\n",
      "  芽芽不听\n",
      " </span>\n",
      " <div class=\"popular-ctnr p-absolute\" data-v-191d6a08=\"\">\n",
      "  <i class=\"icon-font icon-popular v-middle dp-i-block\" data-v-191d6a08=\"\">\n",
      "  </i>\n",
      "  <span class=\"v-middle\" data-v-191d6a08=\"\">\n",
      "   3594\n",
      "  </span>\n",
      " </div>\n",
      "</div>\n",
      "<div class=\"room-anchor card-text p-relative\" data-v-191d6a08=\"\">\n",
      " <span data-v-191d6a08=\"\" title=\"眠眠不值得\">\n",
      "  眠眠不值得\n",
      " </span>\n",
      " <div class=\"popular-ctnr p-absolute\" data-v-191d6a08=\"\">\n",
      "  <i class=\"icon-font icon-popular v-middle dp-i-block\" data-v-191d6a08=\"\">\n",
      "  </i>\n",
      "  <span class=\"v-middle\" data-v-191d6a08=\"\">\n",
      "   3575\n",
      "  </span>\n",
      " </div>\n",
      "</div>\n"
     ]
    }
   ],
   "source": [
    "anchor_info = soup.find_all(class_='room-anchor card-text p-relative')\n",
    "for info in anchor_info:\n",
    "    print(info.prettify())\n"
   ]
  },
  {
   "cell_type": "code",
   "execution_count": 4,
   "metadata": {},
   "outputs": [
    {
     "name": "stdout",
     "output_type": "stream",
     "text": [
      "[]\n",
      "['5.4 万', '2.6 万', '2.5 万', '2.5 万', '2.7 万', '1.8 万', '1.2 万', '1.0 万', '7531', '6318', '6161', '5247', '5245', '4944', '4242', '4295', '4165', '4090', '3594', '3575']\n"
     ]
    }
   ],
   "source": [
    "# scrap the anchor's name\n",
    "name_pattern = '<span data-v-191d6a08=\"\" title=\"宫本狗雨\">([\\s\\S]*?)</span>'\n",
    "name = re.findall(name_pattern, str(anchor_info))\n",
    "print(name)\n",
    "\n",
    "# scrap the anchor's popularity\n",
    "hot_pattern = '<span class=\"v-middle\" data-v-191d6a08=\"\">([\\s\\S]*?)</span>'\n",
    "hot = re.findall(hot_pattern, str(anchor_info))\n",
    "print(hot)"
   ]
  },
  {
   "cell_type": "markdown",
   "metadata": {},
   "source": [
    "## Print out all the anchor_info classes"
   ]
  },
  {
   "cell_type": "code",
   "execution_count": 5,
   "metadata": {},
   "outputs": [
    {
     "name": "stdout",
     "output_type": "stream",
     "text": [
      "{'哔哩哔哩英雄联盟赛事': '5.4 万', '恢复单身の炮炮子ya': '2.6 万', '小流年c': '2.5 万', '老岳OB': '2.5 万', '你吵到我睡觉了p': '2.7 万', '你好我是心动呀': '1.8 万', '夏目青悠': '1.2 万', '睡不醒的Fi姐姐': '1.0 万', '云顶刘Rita': '7531', '苏艾ya': '6318', '小狮子你真猛': '6161', '刘夏来QAQ': '5247', '贝亚特JugKg': '5245', '超级乘风儿': '4944', '樱田莉奈': '4242', '低调ie': '4295', 'CV北屿': '4165', '骨酱zZ': '4090', '芽芽不听': '3594', '眠眠不值得': '3575'}\n"
     ]
    }
   ],
   "source": [
    "# getting all of the anchor infos\n",
    "anchor_infos = soup.find_all(class_='room-anchor card-text p-relative')\n",
    "\n",
    "# create an empty dict\n",
    "anchor_dict = {}\n",
    "\n",
    "# for circularity\n",
    "for info in anchor_infos:\n",
    "    name_pattern = 'title=\"([\\s\\S]*?)\">'\n",
    "    hot_pattern = '<span class=\"v-middle\" data-v-191d6a08=\"\">([\\s\\S]*?)</span>'\n",
    "    \n",
    "    name = re.findall(name_pattern, str(info))[0]\n",
    "    hot = re.findall(hot_pattern, str(info))[0]\n",
    "    anchor_dict[name] = hot\n",
    "\n",
    "print(anchor_dict)\n"
   ]
  },
  {
   "cell_type": "markdown",
   "metadata": {},
   "source": [
    "## Convert them into dataset"
   ]
  },
  {
   "cell_type": "code",
   "execution_count": 6,
   "metadata": {},
   "outputs": [],
   "source": [
    "import pandas as pd\n",
    "import numpy as np"
   ]
  },
  {
   "cell_type": "code",
   "execution_count": 7,
   "metadata": {},
   "outputs": [
    {
     "data": {
      "text/html": "<div>\n<style scoped>\n    .dataframe tbody tr th:only-of-type {\n        vertical-align: middle;\n    }\n\n    .dataframe tbody tr th {\n        vertical-align: top;\n    }\n\n    .dataframe thead th {\n        text-align: right;\n    }\n</style>\n<table border=\"1\" class=\"dataframe\">\n  <thead>\n    <tr style=\"text-align: right;\">\n      <th></th>\n      <th>主播姓名</th>\n      <th>人气</th>\n    </tr>\n  </thead>\n  <tbody>\n    <tr>\n      <th>0</th>\n      <td>哔哩哔哩英雄联盟赛事</td>\n      <td>5.4 万</td>\n    </tr>\n    <tr>\n      <th>1</th>\n      <td>恢复单身の炮炮子ya</td>\n      <td>2.6 万</td>\n    </tr>\n    <tr>\n      <th>2</th>\n      <td>小流年c</td>\n      <td>2.5 万</td>\n    </tr>\n    <tr>\n      <th>3</th>\n      <td>老岳OB</td>\n      <td>2.5 万</td>\n    </tr>\n    <tr>\n      <th>4</th>\n      <td>你吵到我睡觉了p</td>\n      <td>2.7 万</td>\n    </tr>\n    <tr>\n      <th>5</th>\n      <td>你好我是心动呀</td>\n      <td>1.8 万</td>\n    </tr>\n    <tr>\n      <th>6</th>\n      <td>夏目青悠</td>\n      <td>1.2 万</td>\n    </tr>\n    <tr>\n      <th>7</th>\n      <td>睡不醒的Fi姐姐</td>\n      <td>1.0 万</td>\n    </tr>\n    <tr>\n      <th>8</th>\n      <td>云顶刘Rita</td>\n      <td>7531</td>\n    </tr>\n    <tr>\n      <th>9</th>\n      <td>苏艾ya</td>\n      <td>6318</td>\n    </tr>\n    <tr>\n      <th>10</th>\n      <td>小狮子你真猛</td>\n      <td>6161</td>\n    </tr>\n    <tr>\n      <th>11</th>\n      <td>刘夏来QAQ</td>\n      <td>5247</td>\n    </tr>\n    <tr>\n      <th>12</th>\n      <td>贝亚特JugKg</td>\n      <td>5245</td>\n    </tr>\n    <tr>\n      <th>13</th>\n      <td>超级乘风儿</td>\n      <td>4944</td>\n    </tr>\n    <tr>\n      <th>14</th>\n      <td>樱田莉奈</td>\n      <td>4242</td>\n    </tr>\n    <tr>\n      <th>15</th>\n      <td>低调ie</td>\n      <td>4295</td>\n    </tr>\n    <tr>\n      <th>16</th>\n      <td>CV北屿</td>\n      <td>4165</td>\n    </tr>\n    <tr>\n      <th>17</th>\n      <td>骨酱zZ</td>\n      <td>4090</td>\n    </tr>\n    <tr>\n      <th>18</th>\n      <td>芽芽不听</td>\n      <td>3594</td>\n    </tr>\n    <tr>\n      <th>19</th>\n      <td>眠眠不值得</td>\n      <td>3575</td>\n    </tr>\n  </tbody>\n</table>\n</div>",
      "text/plain": "          主播姓名     人气\n0   哔哩哔哩英雄联盟赛事  5.4 万\n1   恢复单身の炮炮子ya  2.6 万\n2         小流年c  2.5 万\n3         老岳OB  2.5 万\n4     你吵到我睡觉了p  2.7 万\n5      你好我是心动呀  1.8 万\n6         夏目青悠  1.2 万\n7     睡不醒的Fi姐姐  1.0 万\n8      云顶刘Rita   7531\n9         苏艾ya   6318\n10      小狮子你真猛   6161\n11      刘夏来QAQ   5247\n12    贝亚特JugKg   5245\n13       超级乘风儿   4944\n14        樱田莉奈   4242\n15        低调ie   4295\n16        CV北屿   4165\n17        骨酱zZ   4090\n18        芽芽不听   3594\n19       眠眠不值得   3575"
     },
     "execution_count": 7,
     "metadata": {},
     "output_type": "execute_result"
    }
   ],
   "source": [
    "df = pd.DataFrame(anchor_dict.items(), columns=['主播姓名', '人气'])\n",
    "# pd.DataFrame(anchor_dict.items(), columns=['主播姓名', '人气'])\n",
    "df"
   ]
  },
  {
   "cell_type": "code",
   "execution_count": null,
   "metadata": {},
   "outputs": [],
   "source": []
  }
 ],
 "metadata": {
  "kernelspec": {
   "display_name": "Python 3.8.5 64-bit ('pyfinance': conda)",
   "language": "python",
   "name": "python38564bitpyfinancecondae6dac08f7665461097121235f24a0b9e"
  },
  "language_info": {
   "codemirror_mode": {
    "name": "ipython",
    "version": 3
   },
   "file_extension": ".py",
   "mimetype": "text/x-python",
   "name": "python",
   "nbconvert_exporter": "python",
   "pygments_lexer": "ipython3",
   "version": "0.0.0"
  },
  "orig_nbformat": 2
 },
 "nbformat": 4,
 "nbformat_minor": 2
}