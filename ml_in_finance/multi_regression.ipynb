{
 "cells": [
  {
   "cell_type": "markdown",
   "metadata": {},
   "source": [
    "## Demonstrate economic indicators that affect Kora's GDP"
   ]
  },
  {
   "cell_type": "code",
   "execution_count": 1,
   "metadata": {},
   "outputs": [],
   "source": [
    "# import essential liabraries\n",
    "import pandas as pd\n",
    "import numpy as np\n",
    "import seaborn as sns\n",
    "from scipy import stats\n",
    "import matplotlib.pyplot as plt\n",
    "\n",
    "import statsmodels.api as sm\n",
    "from statsmodels.stats import diagnostic as diag\n",
    "from statsmodels.stats.outliers_influence import variance_inflation_factor\n",
    "\n",
    "from sklearn.linear_model import LinearRegression\n",
    "from sklearn.model_selection import train_test_split\n",
    "from sklearn.metrics import mean_squared_error, r2_score, mean_absolute_error\n",
    "\n",
    "%matplotlib inline\n"
   ]
  },
  {
   "cell_type": "markdown",
   "metadata": {},
   "source": [
    "### Load the dataset"
   ]
  },
  {
   "cell_type": "code",
   "execution_count": 2,
   "metadata": {},
   "outputs": [
    {
     "data": {
      "text/html": "<div>\n<style scoped>\n    .dataframe tbody tr th:only-of-type {\n        vertical-align: middle;\n    }\n\n    .dataframe tbody tr th {\n        vertical-align: top;\n    }\n\n    .dataframe thead th {\n        text-align: right;\n    }\n</style>\n<table border=\"1\" class=\"dataframe\">\n  <thead>\n    <tr style=\"text-align: right;\">\n      <th></th>\n      <th>gdp_growth</th>\n      <th>gross_capital_formation</th>\n      <th>pop_growth</th>\n      <th>birth_rate</th>\n      <th>broad_money_growth</th>\n      <th>final_consum_growth</th>\n      <th>gov_final_consum_growth</th>\n      <th>gross_cap_form_growth</th>\n      <th>hh_consum_growth</th>\n      <th>unemployment</th>\n    </tr>\n    <tr>\n      <th>Year</th>\n      <th></th>\n      <th></th>\n      <th></th>\n      <th></th>\n      <th></th>\n      <th></th>\n      <th></th>\n      <th></th>\n      <th></th>\n      <th></th>\n    </tr>\n  </thead>\n  <tbody>\n    <tr>\n      <th>1969</th>\n      <td>14.541235</td>\n      <td>29.943577</td>\n      <td>2.263434</td>\n      <td>30.663</td>\n      <td>60.984733</td>\n      <td>10.693249</td>\n      <td>10.640799</td>\n      <td>29.908118</td>\n      <td>10.700325</td>\n      <td>4.86</td>\n    </tr>\n    <tr>\n      <th>1970</th>\n      <td>9.997407</td>\n      <td>26.338200</td>\n      <td>2.184174</td>\n      <td>31.200</td>\n      <td>27.422864</td>\n      <td>10.161539</td>\n      <td>7.279573</td>\n      <td>0.058667</td>\n      <td>10.557300</td>\n      <td>4.51</td>\n    </tr>\n    <tr>\n      <th>1971</th>\n      <td>10.454693</td>\n      <td>25.558501</td>\n      <td>1.971324</td>\n      <td>31.200</td>\n      <td>20.844481</td>\n      <td>9.330434</td>\n      <td>8.610547</td>\n      <td>15.172870</td>\n      <td>9.426969</td>\n      <td>4.57</td>\n    </tr>\n    <tr>\n      <th>1972</th>\n      <td>7.150715</td>\n      <td>21.404761</td>\n      <td>1.875999</td>\n      <td>28.400</td>\n      <td>33.815028</td>\n      <td>5.788458</td>\n      <td>8.134824</td>\n      <td>-13.056701</td>\n      <td>5.471355</td>\n      <td>4.59</td>\n    </tr>\n    <tr>\n      <th>1973</th>\n      <td>14.827554</td>\n      <td>25.872858</td>\n      <td>1.768293</td>\n      <td>28.300</td>\n      <td>36.415629</td>\n      <td>8.089952</td>\n      <td>2.287729</td>\n      <td>32.098276</td>\n      <td>8.927295</td>\n      <td>4.04</td>\n    </tr>\n  </tbody>\n</table>\n</div>",
      "text/plain": "      gdp_growth  gross_capital_formation  pop_growth  birth_rate  \\\nYear                                                                \n1969   14.541235                29.943577    2.263434      30.663   \n1970    9.997407                26.338200    2.184174      31.200   \n1971   10.454693                25.558501    1.971324      31.200   \n1972    7.150715                21.404761    1.875999      28.400   \n1973   14.827554                25.872858    1.768293      28.300   \n\n      broad_money_growth  final_consum_growth  gov_final_consum_growth  \\\nYear                                                                     \n1969           60.984733            10.693249                10.640799   \n1970           27.422864            10.161539                 7.279573   \n1971           20.844481             9.330434                 8.610547   \n1972           33.815028             5.788458                 8.134824   \n1973           36.415629             8.089952                 2.287729   \n\n      gross_cap_form_growth  hh_consum_growth  unemployment  \nYear                                                         \n1969              29.908118         10.700325          4.86  \n1970               0.058667         10.557300          4.51  \n1971              15.172870          9.426969          4.57  \n1972             -13.056701          5.471355          4.59  \n1973              32.098276          8.927295          4.04  "
     },
     "execution_count": 2,
     "metadata": {},
     "output_type": "execute_result"
    }
   ],
   "source": [
    "# loading data from excel file\n",
    "df = pd.read_excel('korea_data.xlsx', index_col='Year')\n",
    "\n",
    "# change the columns names\n",
    "column_names = {'Unemployment, total (% of total labor force) (national estimate)':'unemployment',\n",
    "                'GDP growth (annual %)': 'gdp_growth',\n",
    "                'Gross capital formation (% of GDP)':'gross_capital_formation',\n",
    "                'Population growth (annual %)':'pop_growth', \n",
    "                'Birth rate, crude (per 1,000 people)':'birth_rate',\n",
    "                'Broad money growth (annual %)':'broad_money_growth',                \n",
    "                'Final consumption expenditure (% of GDP)':'final_consum_gdp',\n",
    "                'Final consumption expenditure (annual % growth)':'final_consum_growth',\n",
    "                'General government final consumption expenditure (annual % growth)':'gov_final_consum_growth',\n",
    "                'Gross capital formation (annual % growth)':'gross_cap_form_growth',\n",
    "                'Households and NPISHs Final consumption expenditure (annual % growth)':'hh_consum_growth'}\n",
    "\n",
    "df = df.rename(columns=column_names)\n",
    "\n",
    "# replace '..' as nan\n",
    "df = df.replace('..', np.nan)\n",
    "\n",
    "# change the datatype\n",
    "df.astype('float64')\n",
    "\n",
    "df.head()"
   ]
  },
  {
   "cell_type": "code",
   "execution_count": 3,
   "metadata": {},
   "outputs": [
    {
     "data": {
      "text/html": "<div>\n<style scoped>\n    .dataframe tbody tr th:only-of-type {\n        vertical-align: middle;\n    }\n\n    .dataframe tbody tr th {\n        vertical-align: top;\n    }\n\n    .dataframe thead th {\n        text-align: right;\n    }\n</style>\n<table border=\"1\" class=\"dataframe\">\n  <thead>\n    <tr style=\"text-align: right;\">\n      <th></th>\n      <th>gdp_growth</th>\n      <th>gross_capital_formation</th>\n      <th>pop_growth</th>\n      <th>birth_rate</th>\n      <th>broad_money_growth</th>\n      <th>final_consum_growth</th>\n      <th>gov_final_consum_growth</th>\n      <th>gross_cap_form_growth</th>\n      <th>hh_consum_growth</th>\n      <th>unemployment</th>\n    </tr>\n    <tr>\n      <th>Year</th>\n      <th></th>\n      <th></th>\n      <th></th>\n      <th></th>\n      <th></th>\n      <th></th>\n      <th></th>\n      <th></th>\n      <th></th>\n      <th></th>\n    </tr>\n  </thead>\n  <tbody>\n    <tr>\n      <th>2012</th>\n      <td>2.292398</td>\n      <td>31.001229</td>\n      <td>0.525714</td>\n      <td>9.6</td>\n      <td>4.806465</td>\n      <td>2.246066</td>\n      <td>3.374311</td>\n      <td>-2.299833</td>\n      <td>1.923148</td>\n      <td>3.2</td>\n    </tr>\n    <tr>\n      <th>2013</th>\n      <td>2.896205</td>\n      <td>29.102217</td>\n      <td>0.455219</td>\n      <td>8.6</td>\n      <td>4.638891</td>\n      <td>2.191130</td>\n      <td>3.261377</td>\n      <td>-0.118665</td>\n      <td>1.882099</td>\n      <td>3.1</td>\n    </tr>\n    <tr>\n      <th>2014</th>\n      <td>3.341448</td>\n      <td>29.276910</td>\n      <td>0.628150</td>\n      <td>8.6</td>\n      <td>8.144493</td>\n      <td>2.042800</td>\n      <td>3.046199</td>\n      <td>5.262495</td>\n      <td>1.747117</td>\n      <td>3.5</td>\n    </tr>\n    <tr>\n      <th>2015</th>\n      <td>2.790236</td>\n      <td>28.918112</td>\n      <td>0.527288</td>\n      <td>8.6</td>\n      <td>8.190748</td>\n      <td>2.385188</td>\n      <td>2.988499</td>\n      <td>7.297390</td>\n      <td>2.203974</td>\n      <td>3.6</td>\n    </tr>\n    <tr>\n      <th>2016</th>\n      <td>2.929305</td>\n      <td>29.252387</td>\n      <td>0.451318</td>\n      <td>7.9</td>\n      <td>7.123156</td>\n      <td>2.981150</td>\n      <td>4.477185</td>\n      <td>5.610214</td>\n      <td>2.525765</td>\n      <td>3.7</td>\n    </tr>\n  </tbody>\n</table>\n</div>",
      "text/plain": "      gdp_growth  gross_capital_formation  pop_growth  birth_rate  \\\nYear                                                                \n2012    2.292398                31.001229    0.525714         9.6   \n2013    2.896205                29.102217    0.455219         8.6   \n2014    3.341448                29.276910    0.628150         8.6   \n2015    2.790236                28.918112    0.527288         8.6   \n2016    2.929305                29.252387    0.451318         7.9   \n\n      broad_money_growth  final_consum_growth  gov_final_consum_growth  \\\nYear                                                                     \n2012            4.806465             2.246066                 3.374311   \n2013            4.638891             2.191130                 3.261377   \n2014            8.144493             2.042800                 3.046199   \n2015            8.190748             2.385188                 2.988499   \n2016            7.123156             2.981150                 4.477185   \n\n      gross_cap_form_growth  hh_consum_growth  unemployment  \nYear                                                         \n2012              -2.299833          1.923148           3.2  \n2013              -0.118665          1.882099           3.1  \n2014               5.262495          1.747117           3.5  \n2015               7.297390          2.203974           3.6  \n2016               5.610214          2.525765           3.7  "
     },
     "execution_count": 3,
     "metadata": {},
     "output_type": "execute_result"
    }
   ],
   "source": [
    "# drop the data in 2017\n",
    "df = df.drop(index=2017)\n",
    "\n",
    "df.tail()"
   ]
  },
  {
   "cell_type": "markdown",
   "metadata": {},
   "source": [
    "## Check for perfect multicollinearity"
   ]
  },
  {
   "cell_type": "markdown",
   "metadata": {},
   "source": [
    "### showing correlation matrix in a heatmap"
   ]
  },
  {
   "cell_type": "code",
   "execution_count": 4,
   "metadata": {},
   "outputs": [
    {
     "data": {
      "text/plain": "<AxesSubplot:>"
     },
     "execution_count": 4,
     "metadata": {},
     "output_type": "execute_result"
    },
    {
     "data": {
      "image/png": "[encoded data removed]",
      "text/plain": "<Figure size 432x288 with 2 Axes>"
     },
     "metadata": {
      "needs_background": "light"
     },
     "output_type": "display_data"
    }
   ],
   "source": [
    "# show correlation matrix in a heatmap\n",
    "corr = df.corr()\n",
    "\n",
    "sns.heatmap(corr, cmap='RdBu', xticklabels=corr.columns, yticklabels=corr.index)"
   ]
  },
  {
   "cell_type": "markdown",
   "metadata": {},
   "source": [
    "### using VIF"
   ]
  },
  {
   "cell_type": "code",
   "execution_count": 5,
   "metadata": {},
   "outputs": [
    {
     "data": {
      "text/plain": "const                       314.550195\ngdp_growth                    9.807879\ngross_capital_formation       2.430057\npop_growth                   25.759263\nbirth_rate                   26.174368\nbroad_money_growth            1.633079\nfinal_consum_growth        2305.724583\ngov_final_consum_growth      32.527332\ngross_cap_form_growth         3.796420\nhh_consum_growth           2129.093634\nunemployment                  2.800008\ndtype: float64"
     },
     "execution_count": 5,
     "metadata": {},
     "output_type": "execute_result"
    }
   ],
   "source": [
    "# first step is to add constant\n",
    "X1 = sm.tools.add_constant(df)\n",
    "\n",
    "# a series that lists out the VIF of each variable\n",
    "vif_before = pd.Series([variance_inflation_factor(X1.values, i) for i in range(X1.shape[1])], index=X1.columns)\n",
    "\n",
    "vif_before\n"
   ]
  },
  {
   "cell_type": "code",
   "execution_count": 6,
   "metadata": {},
   "outputs": [
    {
     "data": {
      "text/html": "<div>\n<style scoped>\n    .dataframe tbody tr th:only-of-type {\n        vertical-align: middle;\n    }\n\n    .dataframe tbody tr th {\n        vertical-align: top;\n    }\n\n    .dataframe thead th {\n        text-align: right;\n    }\n</style>\n<table border=\"1\" class=\"dataframe\">\n  <thead>\n    <tr style=\"text-align: right;\">\n      <th></th>\n      <th>pop_growth</th>\n      <th>broad_money_growth</th>\n      <th>gov_final_consum_growth</th>\n      <th>gross_cap_form_growth</th>\n      <th>hh_consum_growth</th>\n      <th>unemployment</th>\n    </tr>\n    <tr>\n      <th>Year</th>\n      <th></th>\n      <th></th>\n      <th></th>\n      <th></th>\n      <th></th>\n      <th></th>\n    </tr>\n  </thead>\n  <tbody>\n    <tr>\n      <th>1969</th>\n      <td>2.263434</td>\n      <td>60.984733</td>\n      <td>10.640799</td>\n      <td>29.908118</td>\n      <td>10.700325</td>\n      <td>4.86</td>\n    </tr>\n    <tr>\n      <th>1970</th>\n      <td>2.184174</td>\n      <td>27.422864</td>\n      <td>7.279573</td>\n      <td>0.058667</td>\n      <td>10.557300</td>\n      <td>4.51</td>\n    </tr>\n    <tr>\n      <th>1971</th>\n      <td>1.971324</td>\n      <td>20.844481</td>\n      <td>8.610547</td>\n      <td>15.172870</td>\n      <td>9.426969</td>\n      <td>4.57</td>\n    </tr>\n    <tr>\n      <th>1972</th>\n      <td>1.875999</td>\n      <td>33.815028</td>\n      <td>8.134824</td>\n      <td>-13.056701</td>\n      <td>5.471355</td>\n      <td>4.59</td>\n    </tr>\n    <tr>\n      <th>1973</th>\n      <td>1.768293</td>\n      <td>36.415629</td>\n      <td>2.287729</td>\n      <td>32.098276</td>\n      <td>8.927295</td>\n      <td>4.04</td>\n    </tr>\n  </tbody>\n</table>\n</div>",
      "text/plain": "      pop_growth  broad_money_growth  gov_final_consum_growth  \\\nYear                                                            \n1969    2.263434           60.984733                10.640799   \n1970    2.184174           27.422864                 7.279573   \n1971    1.971324           20.844481                 8.610547   \n1972    1.875999           33.815028                 8.134824   \n1973    1.768293           36.415629                 2.287729   \n\n      gross_cap_form_growth  hh_consum_growth  unemployment  \nYear                                                         \n1969              29.908118         10.700325          4.86  \n1970               0.058667         10.557300          4.51  \n1971              15.172870          9.426969          4.57  \n1972             -13.056701          5.471355          4.59  \n1973              32.098276          8.927295          4.04  "
     },
     "execution_count": 6,
     "metadata": {},
     "output_type": "execute_result"
    }
   ],
   "source": [
    "# drop variables have VIF greater than 5 and highly correlated together\n",
    "df_after = df.drop(columns=[\n",
    "    'gdp_growth', \n",
    "    'birth_rate', \n",
    "    'final_consum_growth', \n",
    "    'gross_capital_formation']\n",
    "    )\n",
    "df_after.head()"
   ]
  },
  {
   "cell_type": "code",
   "execution_count": 7,
   "metadata": {},
   "outputs": [
    {
     "data": {
      "text/plain": "const                      27.891150\npop_growth                  1.971299\nbroad_money_growth          1.604644\ngov_final_consum_growth     1.232229\ngross_cap_form_growth       2.142992\nhh_consum_growth            2.782698\nunemployment                1.588410\ndtype: float64"
     },
     "execution_count": 7,
     "metadata": {},
     "output_type": "execute_result"
    }
   ],
   "source": [
    "X2 = sm.tools.add_constant(df_after)\n",
    "\n",
    "vif_after = pd.Series([variance_inflation_factor(X2.values, i) for i in range(X2.shape[1])], index=X2.columns)\n",
    "vif_after"
   ]
  },
  {
   "cell_type": "markdown",
   "metadata": {},
   "source": [
    "## Describe the dataset"
   ]
  },
  {
   "cell_type": "code",
   "execution_count": 8,
   "metadata": {},
   "outputs": [
    {
     "data": {
      "text/html": "<div>\n<style scoped>\n    .dataframe tbody tr th:only-of-type {\n        vertical-align: middle;\n    }\n\n    .dataframe tbody tr th {\n        vertical-align: top;\n    }\n\n    .dataframe thead th {\n        text-align: right;\n    }\n</style>\n<table border=\"1\" class=\"dataframe\">\n  <thead>\n    <tr style=\"text-align: right;\">\n      <th></th>\n      <th>gdp_growth</th>\n      <th>gross_capital_formation</th>\n      <th>pop_growth</th>\n      <th>birth_rate</th>\n      <th>broad_money_growth</th>\n      <th>final_consum_growth</th>\n      <th>gov_final_consum_growth</th>\n      <th>gross_cap_form_growth</th>\n      <th>hh_consum_growth</th>\n      <th>unemployment</th>\n    </tr>\n  </thead>\n  <tbody>\n    <tr>\n      <th>count</th>\n      <td>48.000000</td>\n      <td>48.000000</td>\n      <td>48.000000</td>\n      <td>48.000000</td>\n      <td>48.000000</td>\n      <td>48.000000</td>\n      <td>48.000000</td>\n      <td>48.000000</td>\n      <td>48.000000</td>\n      <td>48.000000</td>\n    </tr>\n    <tr>\n      <th>mean</th>\n      <td>7.280315</td>\n      <td>32.433236</td>\n      <td>1.058072</td>\n      <td>16.340896</td>\n      <td>20.426621</td>\n      <td>5.820239</td>\n      <td>5.419214</td>\n      <td>8.965681</td>\n      <td>5.879176</td>\n      <td>3.678096</td>\n    </tr>\n    <tr>\n      <th>std</th>\n      <td>4.209306</td>\n      <td>4.136932</td>\n      <td>0.514039</td>\n      <td>6.814683</td>\n      <td>14.748442</td>\n      <td>3.627444</td>\n      <td>2.622254</td>\n      <td>12.629912</td>\n      <td>4.227720</td>\n      <td>0.968616</td>\n    </tr>\n    <tr>\n      <th>min</th>\n      <td>-5.471219</td>\n      <td>21.404761</td>\n      <td>0.211998</td>\n      <td>7.900000</td>\n      <td>2.980690</td>\n      <td>-9.288825</td>\n      <td>0.560957</td>\n      <td>-29.403255</td>\n      <td>-11.894309</td>\n      <td>2.048000</td>\n    </tr>\n    <tr>\n      <th>25%</th>\n      <td>4.374899</td>\n      <td>29.776910</td>\n      <td>0.615602</td>\n      <td>9.950000</td>\n      <td>10.586461</td>\n      <td>3.591334</td>\n      <td>3.384407</td>\n      <td>2.114078</td>\n      <td>3.825773</td>\n      <td>3.150475</td>\n    </tr>\n    <tr>\n      <th>50%</th>\n      <td>7.513471</td>\n      <td>32.335229</td>\n      <td>0.985132</td>\n      <td>15.150000</td>\n      <td>17.807598</td>\n      <td>6.531163</td>\n      <td>5.056509</td>\n      <td>7.431966</td>\n      <td>6.999971</td>\n      <td>3.700000</td>\n    </tr>\n    <tr>\n      <th>75%</th>\n      <td>10.376191</td>\n      <td>34.474874</td>\n      <td>1.525765</td>\n      <td>21.750000</td>\n      <td>26.923837</td>\n      <td>8.179037</td>\n      <td>7.188470</td>\n      <td>16.210283</td>\n      <td>8.938837</td>\n      <td>4.088500</td>\n    </tr>\n    <tr>\n      <th>max</th>\n      <td>14.827554</td>\n      <td>41.374062</td>\n      <td>2.263434</td>\n      <td>31.200000</td>\n      <td>85.203081</td>\n      <td>10.834413</td>\n      <td>11.742807</td>\n      <td>32.098276</td>\n      <td>11.711835</td>\n      <td>6.963000</td>\n    </tr>\n    <tr>\n      <th>+3_std</th>\n      <td>19.908232</td>\n      <td>44.844034</td>\n      <td>2.600188</td>\n      <td>36.784945</td>\n      <td>64.671947</td>\n      <td>16.702571</td>\n      <td>13.285976</td>\n      <td>46.855416</td>\n      <td>18.562336</td>\n      <td>6.583944</td>\n    </tr>\n    <tr>\n      <th>-3_std</th>\n      <td>-5.347602</td>\n      <td>20.022439</td>\n      <td>-0.484044</td>\n      <td>-4.103153</td>\n      <td>-23.818705</td>\n      <td>-5.062092</td>\n      <td>-2.447547</td>\n      <td>-28.924054</td>\n      <td>-6.803985</td>\n      <td>0.772247</td>\n    </tr>\n  </tbody>\n</table>\n</div>",
      "text/plain": "        gdp_growth  gross_capital_formation  pop_growth  birth_rate  \\\ncount    48.000000                48.000000   48.000000   48.000000   \nmean      7.280315                32.433236    1.058072   16.340896   \nstd       4.209306                 4.136932    0.514039    6.814683   \nmin      -5.471219                21.404761    0.211998    7.900000   \n25%       4.374899                29.776910    0.615602    9.950000   \n50%       7.513471                32.335229    0.985132   15.150000   \n75%      10.376191                34.474874    1.525765   21.750000   \nmax      14.827554                41.374062    2.263434   31.200000   \n+3_std   19.908232                44.844034    2.600188   36.784945   \n-3_std   -5.347602                20.022439   -0.484044   -4.103153   \n\n        broad_money_growth  final_consum_growth  gov_final_consum_growth  \\\ncount            48.000000            48.000000                48.000000   \nmean             20.426621             5.820239                 5.419214   \nstd              14.748442             3.627444                 2.622254   \nmin               2.980690            -9.288825                 0.560957   \n25%              10.586461             3.591334                 3.384407   \n50%              17.807598             6.531163                 5.056509   \n75%              26.923837             8.179037                 7.188470   \nmax              85.203081            10.834413                11.742807   \n+3_std           64.671947            16.702571                13.285976   \n-3_std          -23.818705            -5.062092                -2.447547   \n\n        gross_cap_form_growth  hh_consum_growth  unemployment  \ncount               48.000000         48.000000     48.000000  \nmean                 8.965681          5.879176      3.678096  \nstd                 12.629912          4.227720      0.968616  \nmin                -29.403255        -11.894309      2.048000  \n25%                  2.114078          3.825773      3.150475  \n50%                  7.431966          6.999971      3.700000  \n75%                 16.210283          8.938837      4.088500  \nmax                 32.098276         11.711835      6.963000  \n+3_std              46.855416         18.562336      6.583944  \n-3_std             -28.924054         -6.803985      0.772247  "
     },
     "execution_count": 8,
     "metadata": {},
     "output_type": "execute_result"
    }
   ],
   "source": [
    "desc_df = df.describe()\n",
    "\n",
    "# add the standard deviation metric\n",
    "desc_df.loc['+3_std'] = desc_df.loc['mean'] + desc_df.loc['std'] * 3\n",
    "desc_df.loc['-3_std'] = desc_df.loc['mean'] - desc_df.loc['std'] * 3\n",
    "\n",
    "desc_df"
   ]
  },
  {
   "cell_type": "code",
   "execution_count": 9,
   "metadata": {},
   "outputs": [
    {
     "data": {
      "text/plain": "Int64Index([1998, 2001], dtype='int64', name='Year')"
     },
     "execution_count": 9,
     "metadata": {},
     "output_type": "execute_result"
    }
   ],
   "source": [
    "# remove the variables that have a Z-score over 3\n",
    "df_remove = df[(np.abs(stats.zscore(df)) < 3).all(axis=1)]\n",
    "\n",
    "df.index.difference(df_remove.index)"
   ]
  },
  {
   "cell_type": "markdown",
   "metadata": {},
   "source": [
    "no need to remove the outliners because there was a finanical crisis in 1998 and Dotcom Bubble in 2001.  \n",
    "these are all real economic impact but not the error values"
   ]
  },
  {
   "cell_type": "markdown",
   "metadata": {},
   "source": [
    "## Build up the model"
   ]
  },
  {
   "cell_type": "code",
   "execution_count": 10,
   "metadata": {},
   "outputs": [
    {
     "data": {
      "text/plain": "LinearRegression()"
     },
     "execution_count": 10,
     "metadata": {},
     "output_type": "execute_result"
    }
   ],
   "source": [
    "# drop variables with high VIF\n",
    "df_after = df.drop(columns=\n",
    "    [\n",
    "        'birth_rate',\n",
    "        'final_consum_growth',\n",
    "        'gross_capital_formation'\n",
    "    ]\n",
    ")\n",
    "\n",
    "# define the input variables\n",
    "X = df_after.drop(columns='gdp_growth')\n",
    "y = df_after[['gdp_growth']]\n",
    "\n",
    "# splot X and Y in to train and test dataset\n",
    "X_train, X_test, y_train, y_test = train_test_split(X, y, test_size=0.2, random_state=1)\n",
    "\n",
    "# create a linear regression model object\n",
    "model = LinearRegression()\n",
    "\n",
    "# pass through the X_train and y_train dataset\n",
    "model.fit(X_train, y_train)"
   ]
  },
  {
   "cell_type": "markdown",
   "metadata": {},
   "source": [
    "### Analyse the output"
   ]
  },
  {
   "cell_type": "code",
   "execution_count": 11,
   "metadata": {},
   "outputs": [
    {
     "name": "stdout",
     "output_type": "stream",
     "text": [
      "The intercept of the model is 2.08\n",
      "----------------------------------------------------------------------------------------------------\n",
      "The coefficient for pop_growth is: 2.0\n",
      "The coefficient for broad_money_growth is: -0.0017\n",
      "The coefficient for gov_final_consum_growth is: -0.21\n",
      "The coefficient for gross_cap_form_growth is: 0.14\n",
      "The coefficient for hh_consum_growth is: 0.51\n",
      "The coefficient for unemployment is: 0.027\n"
     ]
    }
   ],
   "source": [
    "intercept = model.intercept_[0]\n",
    "coef = model.coef_[0]\n",
    "\n",
    "print(f'The intercept of the model is {intercept:.2f}')\n",
    "print('-'*100)\n",
    "\n",
    "for cf in zip(X.columns, coef):\n",
    "    print(f'The coefficient for {cf[0]} is: {cf[1]:.2}')"
   ]
  },
  {
   "cell_type": "code",
   "execution_count": 12,
   "metadata": {},
   "outputs": [
    {
     "data": {
      "text/plain": "array([[ 7.61317534],\n       [ 6.31344066],\n       [ 5.06818662],\n       [ 4.19869856],\n       [11.11885324],\n       [ 5.13377964],\n       [10.22772664],\n       [10.2048022 ],\n       [ 3.30365173],\n       [ 7.69074121]])"
     },
     "execution_count": 12,
     "metadata": {},
     "output_type": "execute_result"
    }
   ],
   "source": [
    "# get the predictions\n",
    "y_predict = model.predict(X_test)\n",
    "y_predict"
   ]
  },
  {
   "cell_type": "code",
   "execution_count": 29,
   "metadata": {},
   "outputs": [
    {
     "data": {
      "text/html": "<div>\n<style scoped>\n    .dataframe tbody tr th:only-of-type {\n        vertical-align: middle;\n    }\n\n    .dataframe tbody tr th {\n        vertical-align: top;\n    }\n\n    .dataframe thead th {\n        text-align: right;\n    }\n</style>\n<table border=\"1\" class=\"dataframe\">\n  <thead>\n    <tr style=\"text-align: right;\">\n      <th></th>\n      <th>y_test</th>\n      <th>y_predict</th>\n    </tr>\n    <tr>\n      <th>Year</th>\n      <th></th>\n      <th></th>\n    </tr>\n  </thead>\n  <tbody>\n    <tr>\n      <th>2002</th>\n      <td>7.432434</td>\n      <td>7.613175</td>\n    </tr>\n    <tr>\n      <th>1992</th>\n      <td>6.175506</td>\n      <td>6.313441</td>\n    </tr>\n    <tr>\n      <th>2007</th>\n      <td>5.463396</td>\n      <td>5.068187</td>\n    </tr>\n    <tr>\n      <th>2005</th>\n      <td>3.923677</td>\n      <td>4.198699</td>\n    </tr>\n    <tr>\n      <th>1971</th>\n      <td>10.454693</td>\n      <td>11.118853</td>\n    </tr>\n    <tr>\n      <th>1972</th>\n      <td>7.150715</td>\n      <td>5.133780</td>\n    </tr>\n    <tr>\n      <th>2000</th>\n      <td>8.924426</td>\n      <td>10.227727</td>\n    </tr>\n    <tr>\n      <th>1995</th>\n      <td>9.570604</td>\n      <td>10.204802</td>\n    </tr>\n    <tr>\n      <th>2013</th>\n      <td>2.896205</td>\n      <td>3.303652</td>\n    </tr>\n    <tr>\n      <th>1996</th>\n      <td>7.594509</td>\n      <td>7.690741</td>\n    </tr>\n  </tbody>\n</table>\n</div>",
      "text/plain": "         y_test  y_predict\nYear                      \n2002   7.432434   7.613175\n1992   6.175506   6.313441\n2007   5.463396   5.068187\n2005   3.923677   4.198699\n1971  10.454693  11.118853\n1972   7.150715   5.133780\n2000   8.924426  10.227727\n1995   9.570604  10.204802\n2013   2.896205   3.303652\n1996   7.594509   7.690741"
     },
     "execution_count": 29,
     "metadata": {},
     "output_type": "execute_result"
    }
   ],
   "source": [
    "df_predict = pd.DataFrame(index=X_test.index)\n",
    "\n",
    "df_predict['y_test'] = y_test\n",
    "df_predict['y_predict'] = y_predict\n",
    "\n",
    "df_predict"
   ]
  },
  {
   "cell_type": "code",
   "execution_count": null,
   "metadata": {},
   "outputs": [],
   "source": []
  },
  {
   "cell_type": "markdown",
   "metadata": {},
   "source": [
    "### Rebuild the model by using statsmodels.api"
   ]
  },
  {
   "cell_type": "code",
   "execution_count": 13,
   "metadata": {},
   "outputs": [
    {
     "data": {
      "text/html": "<table class=\"simpletable\">\n<caption>OLS Regression Results</caption>\n<tr>\n  <th>Dep. Variable:</th>       <td>gdp_growth</td>    <th>  R-squared:         </th> <td>   0.893</td>\n</tr>\n<tr>\n  <th>Model:</th>                   <td>OLS</td>       <th>  Adj. R-squared:    </th> <td>   0.878</td>\n</tr>\n<tr>\n  <th>Method:</th>             <td>Least Squares</td>  <th>  F-statistic:       </th> <td>   57.17</td>\n</tr>\n<tr>\n  <th>Date:</th>             <td>Thu, 06 May 2021</td> <th>  Prob (F-statistic):</th> <td>2.36e-18</td>\n</tr>\n<tr>\n  <th>Time:</th>                 <td>11:40:46</td>     <th>  Log-Likelihood:    </th> <td> -82.903</td>\n</tr>\n<tr>\n  <th>No. Observations:</th>      <td>    48</td>      <th>  AIC:               </th> <td>   179.8</td>\n</tr>\n<tr>\n  <th>Df Residuals:</th>          <td>    41</td>      <th>  BIC:               </th> <td>   192.9</td>\n</tr>\n<tr>\n  <th>Df Model:</th>              <td>     6</td>      <th>                     </th>     <td> </td>   \n</tr>\n<tr>\n  <th>Covariance Type:</th>      <td>nonrobust</td>    <th>                     </th>     <td> </td>   \n</tr>\n</table>\n<table class=\"simpletable\">\n<tr>\n             <td></td>                <th>coef</th>     <th>std err</th>      <th>t</th>      <th>P>|t|</th>  <th>[0.025</th>    <th>0.975]</th>  \n</tr>\n<tr>\n  <th>const</th>                   <td>    1.9436</td> <td>    1.123</td> <td>    1.732</td> <td> 0.091</td> <td>   -0.323</td> <td>    4.211</td>\n</tr>\n<tr>\n  <th>pop_growth</th>              <td>    2.1819</td> <td>    0.587</td> <td>    3.719</td> <td> 0.001</td> <td>    0.997</td> <td>    3.367</td>\n</tr>\n<tr>\n  <th>broad_money_growth</th>      <td>   -0.0004</td> <td>    0.018</td> <td>   -0.021</td> <td> 0.983</td> <td>   -0.038</td> <td>    0.037</td>\n</tr>\n<tr>\n  <th>gov_final_consum_growth</th> <td>   -0.1888</td> <td>    0.091</td> <td>   -2.076</td> <td> 0.044</td> <td>   -0.372</td> <td>   -0.005</td>\n</tr>\n<tr>\n  <th>gross_cap_form_growth</th>   <td>    0.1293</td> <td>    0.025</td> <td>    5.195</td> <td> 0.000</td> <td>    0.079</td> <td>    0.180</td>\n</tr>\n<tr>\n  <th>hh_consum_growth</th>        <td>    0.4968</td> <td>    0.085</td> <td>    5.862</td> <td> 0.000</td> <td>    0.326</td> <td>    0.668</td>\n</tr>\n<tr>\n  <th>unemployment</th>            <td>   -0.0058</td> <td>    0.279</td> <td>   -0.021</td> <td> 0.984</td> <td>   -0.570</td> <td>    0.559</td>\n</tr>\n</table>\n<table class=\"simpletable\">\n<tr>\n  <th>Omnibus:</th>       <td> 0.820</td> <th>  Durbin-Watson:     </th> <td>   1.589</td>\n</tr>\n<tr>\n  <th>Prob(Omnibus):</th> <td> 0.664</td> <th>  Jarque-Bera (JB):  </th> <td>   0.658</td>\n</tr>\n<tr>\n  <th>Skew:</th>          <td> 0.281</td> <th>  Prob(JB):          </th> <td>   0.720</td>\n</tr>\n<tr>\n  <th>Kurtosis:</th>      <td> 2.881</td> <th>  Cond. No.          </th> <td>    154.</td>\n</tr>\n</table><br/><br/>Notes:<br/>[1] Standard Errors assume that the covariance matrix of the errors is correctly specified.",
      "text/plain": "<class 'statsmodels.iolib.summary.Summary'>\n\"\"\"\n                            OLS Regression Results                            \n==============================================================================\nDep. Variable:             gdp_growth   R-squared:                       0.893\nModel:                            OLS   Adj. R-squared:                  0.878\nMethod:                 Least Squares   F-statistic:                     57.17\nDate:                Thu, 06 May 2021   Prob (F-statistic):           2.36e-18\nTime:                        11:40:46   Log-Likelihood:                -82.903\nNo. Observations:                  48   AIC:                             179.8\nDf Residuals:                      41   BIC:                             192.9\nDf Model:                           6                                         \nCovariance Type:            nonrobust                                         \n===========================================================================================\n                              coef    std err          t      P>|t|      [0.025      0.975]\n-------------------------------------------------------------------------------------------\nconst                       1.9436      1.123      1.732      0.091      -0.323       4.211\npop_growth                  2.1819      0.587      3.719      0.001       0.997       3.367\nbroad_money_growth         -0.0004      0.018     -0.021      0.983      -0.038       0.037\ngov_final_consum_growth    -0.1888      0.091     -2.076      0.044      -0.372      -0.005\ngross_cap_form_growth       0.1293      0.025      5.195      0.000       0.079       0.180\nhh_consum_growth            0.4968      0.085      5.862      0.000       0.326       0.668\nunemployment               -0.0058      0.279     -0.021      0.984      -0.570       0.559\n==============================================================================\nOmnibus:                        0.820   Durbin-Watson:                   1.589\nProb(Omnibus):                  0.664   Jarque-Bera (JB):                0.658\nSkew:                           0.281   Prob(JB):                        0.720\nKurtosis:                       2.881   Cond. No.                         154.\n==============================================================================\n\nNotes:\n[1] Standard Errors assume that the covariance matrix of the errors is correctly specified.\n\"\"\""
     },
     "execution_count": 13,
     "metadata": {},
     "output_type": "execute_result"
    }
   ],
   "source": [
    "X2 = sm.add_constant(X)\n",
    "\n",
    "sm_model = sm.OLS(y, X2)\n",
    "\n",
    "results = sm_model.fit()\n",
    "results.summary()\n"
   ]
  },
  {
   "cell_type": "markdown",
   "metadata": {},
   "source": [
    "#### Testing for heteroscedasticity"
   ]
  },
  {
   "cell_type": "code",
   "execution_count": 14,
   "metadata": {},
   "outputs": [
    {
     "name": "stdout",
     "output_type": "stream",
     "text": [
      "The p-value of the White test is: 0.43365711028668774\n",
      "The f statistic of the p-value is: 0.509081191858685\n",
      "----------------------------------------------------------------------------------------------------\n",
      "The p-value of the Breuuscehpagan test is: 0.2518364670120158\n",
      "The f statistic of the p-value is: 0.2662794557854001\n"
     ]
    }
   ],
   "source": [
    "_, p_value, _, f_pvalue = diag.het_white(results.resid, results.model.exog)\n",
    "print('The p-value of the White test is:', p_value)\n",
    "print('The f statistic of the p-value is:', f_pvalue)\n",
    "print('-'*100)\n",
    "\n",
    "_, p_value, _, f_pvalue = diag.het_breuschpagan(results.resid, results.model.exog)\n",
    "print('The p-value of the Breuuscehpagan test is:', p_value)\n",
    "print('The f statistic of the p-value is:', f_pvalue)"
   ]
  },
  {
   "cell_type": "markdown",
   "metadata": {},
   "source": [
    "both tests result in p-values that are significantly higher than 5%, which means the null hypothesis of no heteroscedasticity **failed to be rejected** in both cases."
   ]
  },
  {
   "cell_type": "markdown",
   "metadata": {},
   "source": [
    "#### Testing for autocorrelation"
   ]
  },
  {
   "cell_type": "code",
   "execution_count": 15,
   "metadata": {},
   "outputs": [
    {
     "data": {
      "text/html": "<div>\n<style scoped>\n    .dataframe tbody tr th:only-of-type {\n        vertical-align: middle;\n    }\n\n    .dataframe tbody tr th {\n        vertical-align: top;\n    }\n\n    .dataframe thead th {\n        text-align: right;\n    }\n</style>\n<table border=\"1\" class=\"dataframe\">\n  <thead>\n    <tr style=\"text-align: right;\">\n      <th></th>\n      <th>lb_stat</th>\n      <th>lb_pvalue</th>\n    </tr>\n  </thead>\n  <tbody>\n    <tr>\n      <th>1</th>\n      <td>1.978461</td>\n      <td>0.159553</td>\n    </tr>\n    <tr>\n      <th>2</th>\n      <td>2.058403</td>\n      <td>0.357292</td>\n    </tr>\n    <tr>\n      <th>3</th>\n      <td>2.058891</td>\n      <td>0.560274</td>\n    </tr>\n    <tr>\n      <th>4</th>\n      <td>2.618092</td>\n      <td>0.623622</td>\n    </tr>\n    <tr>\n      <th>5</th>\n      <td>3.605598</td>\n      <td>0.607473</td>\n    </tr>\n    <tr>\n      <th>6</th>\n      <td>4.309855</td>\n      <td>0.634823</td>\n    </tr>\n    <tr>\n      <th>7</th>\n      <td>5.323944</td>\n      <td>0.620495</td>\n    </tr>\n    <tr>\n      <th>8</th>\n      <td>7.288547</td>\n      <td>0.505845</td>\n    </tr>\n    <tr>\n      <th>9</th>\n      <td>8.522060</td>\n      <td>0.482507</td>\n    </tr>\n  </tbody>\n</table>\n</div>",
      "text/plain": "    lb_stat  lb_pvalue\n1  1.978461   0.159553\n2  2.058403   0.357292\n3  2.058891   0.560274\n4  2.618092   0.623622\n5  3.605598   0.607473\n6  4.309855   0.634823\n7  5.323944   0.620495\n8  7.288547   0.505845\n9  8.522060   0.482507"
     },
     "execution_count": 15,
     "metadata": {},
     "output_type": "execute_result"
    }
   ],
   "source": [
    "# compute the lags\n",
    "lag = min(10, (len(X) // 5))\n",
    "\n",
    "# perform Ljung box test for autocorrelation\n",
    "diag.acorr_ljungbox(results.resid, lags=lag, return_df=True)"
   ]
  },
  {
   "cell_type": "markdown",
   "metadata": {},
   "source": [
    "as the Ljung-Box test shows that all of the p-values are significantly greater than 5%, the null hypothesis of no autocorrelation failed to be rejected"
   ]
  },
  {
   "cell_type": "code",
   "execution_count": 16,
   "metadata": {},
   "outputs": [
    {
     "data": {
      "image/png": "[encoded data removed]",
      "text/plain": "<Figure size 432x288 with 1 Axes>"
     },
     "metadata": {},
     "output_type": "display_data"
    }
   ],
   "source": [
    "# plot the autocorrelation\n",
    "plt.style.use('ggplot')\n",
    "\n",
    "sm.graphics.tsa.plot_acf(results.resid)\n",
    "plt.show()"
   ]
  },
  {
   "cell_type": "code",
   "execution_count": null,
   "metadata": {},
   "outputs": [],
   "source": []
  }
 ],
 "metadata": {
  "kernelspec": {
   "display_name": "Python 3.8.8 64-bit ('pyfinance': conda)",
   "name": "python388jvsc74a57bd0aa2a76ff1d502f6d0371ca95b6c2a399f3dfd324b42874e8dc720c235d65d199"
  },
  "language_info": {
   "codemirror_mode": {
    "name": "ipython",
    "version": 3
   },
   "file_extension": ".py",
   "mimetype": "text/x-python",
   "name": "python",
   "nbconvert_exporter": "python",
   "pygments_lexer": "ipython3",
   "version": "3.8.8"
  },
  "metadata": {
   "interpreter": {
    "hash": "aa2a76ff1d502f6d0371ca95b6c2a399f3dfd324b42874e8dc720c235d65d199"
   }
  },
  "orig_nbformat": 2
 },
 "nbformat": 4,
 "nbformat_minor": 2
}