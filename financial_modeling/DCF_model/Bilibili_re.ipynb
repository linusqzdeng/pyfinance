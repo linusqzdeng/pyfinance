{
 "cells": [
  {
   "cell_type": "markdown",
   "id": "certified-footage",
   "metadata": {},
   "source": [
    "# Bilibili's Cost of Equity"
   ]
  },
  {
   "cell_type": "markdown",
   "id": "featured-barrel",
   "metadata": {},
   "source": [
    "### Import essential libraries"
   ]
  },
  {
   "cell_type": "code",
   "execution_count": 1,
   "id": "referenced-burns",
   "metadata": {},
   "outputs": [],
   "source": [
    "import pandas as pd\n",
    "import numpy as np\n",
    "import datetime as dt \n",
    "import statsmodels.api as sm\n",
    "from pandas_datareader import DataReader as web"
   ]
  },
  {
   "cell_type": "markdown",
   "id": "hairy-january",
   "metadata": {},
   "source": [
    "### Fetch daily stock prices from yahoo"
   ]
  },
  {
   "cell_type": "code",
   "execution_count": 2,
   "id": "secret-debut",
   "metadata": {},
   "outputs": [],
   "source": [
    "start_date = dt.date(2018, 3, 28)\n",
    "end_date = dt.date.today()\n",
    "\n",
    "tickers = ['BILI', '^GSPC', '^TNX']    # Tickers for Bilibili, S&P500 and US 10-year treasury bond"
   ]
  },
  {
   "cell_type": "code",
   "execution_count": 3,
   "id": "supported-raising",
   "metadata": {},
   "outputs": [],
   "source": [
    "df = pd.DataFrame()\n",
    "\n",
    "for ticker in tickers:\n",
    "    df[ticker] = web(ticker, 'yahoo', start_date, end_date)['Adj Close']"
   ]
  },
  {
   "cell_type": "code",
   "execution_count": 4,
   "id": "educational-private",
   "metadata": {},
   "outputs": [
    {
     "data": {
      "text/html": [
       "<div>\n",
       "<style scoped>\n",
       "    .dataframe tbody tr th:only-of-type {\n",
       "        vertical-align: middle;\n",
       "    }\n",
       "\n",
       "    .dataframe tbody tr th {\n",
       "        vertical-align: top;\n",
       "    }\n",
       "\n",
       "    .dataframe thead th {\n",
       "        text-align: right;\n",
       "    }\n",
       "</style>\n",
       "<table border=\"1\" class=\"dataframe\">\n",
       "  <thead>\n",
       "    <tr style=\"text-align: right;\">\n",
       "      <th></th>\n",
       "      <th>BILI</th>\n",
       "      <th>S&amp;P 500</th>\n",
       "      <th>10-year T-bills</th>\n",
       "    </tr>\n",
       "    <tr>\n",
       "      <th>Date</th>\n",
       "      <th></th>\n",
       "      <th></th>\n",
       "      <th></th>\n",
       "    </tr>\n",
       "  </thead>\n",
       "  <tbody>\n",
       "    <tr>\n",
       "      <th>2018-03-28</th>\n",
       "      <td>11.24</td>\n",
       "      <td>2605.000000</td>\n",
       "      <td>2.775</td>\n",
       "    </tr>\n",
       "    <tr>\n",
       "      <th>2018-03-29</th>\n",
       "      <td>11.00</td>\n",
       "      <td>2640.870117</td>\n",
       "      <td>2.741</td>\n",
       "    </tr>\n",
       "    <tr>\n",
       "      <th>2018-04-02</th>\n",
       "      <td>11.00</td>\n",
       "      <td>2581.879883</td>\n",
       "      <td>2.732</td>\n",
       "    </tr>\n",
       "    <tr>\n",
       "      <th>2018-04-03</th>\n",
       "      <td>10.91</td>\n",
       "      <td>2614.449951</td>\n",
       "      <td>2.784</td>\n",
       "    </tr>\n",
       "    <tr>\n",
       "      <th>2018-04-04</th>\n",
       "      <td>10.97</td>\n",
       "      <td>2644.689941</td>\n",
       "      <td>2.788</td>\n",
       "    </tr>\n",
       "  </tbody>\n",
       "</table>\n",
       "</div>"
      ],
      "text/plain": [
       "             BILI      S&P 500  10-year T-bills\n",
       "Date                                           \n",
       "2018-03-28  11.24  2605.000000            2.775\n",
       "2018-03-29  11.00  2640.870117            2.741\n",
       "2018-04-02  11.00  2581.879883            2.732\n",
       "2018-04-03  10.91  2614.449951            2.784\n",
       "2018-04-04  10.97  2644.689941            2.788"
      ]
     },
     "execution_count": 4,
     "metadata": {},
     "output_type": "execute_result"
    }
   ],
   "source": [
    "df.rename(columns={'^GSPC': 'S&P 500', '^TNX': '10-year T-bills'}, inplace=True)\n",
    "df.head()"
   ]
  },
  {
   "cell_type": "markdown",
   "id": "complimentary-maple",
   "metadata": {},
   "source": [
    "### Convert stock prices into daily returns"
   ]
  },
  {
   "cell_type": "code",
   "execution_count": 5,
   "id": "pleased-retention",
   "metadata": {},
   "outputs": [
    {
     "data": {
      "text/html": [
       "<div>\n",
       "<style scoped>\n",
       "    .dataframe tbody tr th:only-of-type {\n",
       "        vertical-align: middle;\n",
       "    }\n",
       "\n",
       "    .dataframe tbody tr th {\n",
       "        vertical-align: top;\n",
       "    }\n",
       "\n",
       "    .dataframe thead th {\n",
       "        text-align: right;\n",
       "    }\n",
       "</style>\n",
       "<table border=\"1\" class=\"dataframe\">\n",
       "  <thead>\n",
       "    <tr style=\"text-align: right;\">\n",
       "      <th></th>\n",
       "      <th>BILI</th>\n",
       "      <th>S&amp;P 500</th>\n",
       "      <th>10-year T-bills</th>\n",
       "    </tr>\n",
       "    <tr>\n",
       "      <th>Date</th>\n",
       "      <th></th>\n",
       "      <th></th>\n",
       "      <th></th>\n",
       "    </tr>\n",
       "  </thead>\n",
       "  <tbody>\n",
       "    <tr>\n",
       "      <th>2018-03-28</th>\n",
       "      <td>NaN</td>\n",
       "      <td>NaN</td>\n",
       "      <td>2.775</td>\n",
       "    </tr>\n",
       "    <tr>\n",
       "      <th>2018-03-29</th>\n",
       "      <td>-0.021352</td>\n",
       "      <td>0.013770</td>\n",
       "      <td>2.741</td>\n",
       "    </tr>\n",
       "    <tr>\n",
       "      <th>2018-04-02</th>\n",
       "      <td>0.000000</td>\n",
       "      <td>-0.022337</td>\n",
       "      <td>2.732</td>\n",
       "    </tr>\n",
       "    <tr>\n",
       "      <th>2018-04-03</th>\n",
       "      <td>-0.008182</td>\n",
       "      <td>0.012615</td>\n",
       "      <td>2.784</td>\n",
       "    </tr>\n",
       "    <tr>\n",
       "      <th>2018-04-04</th>\n",
       "      <td>0.005500</td>\n",
       "      <td>0.011566</td>\n",
       "      <td>2.788</td>\n",
       "    </tr>\n",
       "  </tbody>\n",
       "</table>\n",
       "</div>"
      ],
      "text/plain": [
       "                BILI   S&P 500  10-year T-bills\n",
       "Date                                           \n",
       "2018-03-28       NaN       NaN            2.775\n",
       "2018-03-29 -0.021352  0.013770            2.741\n",
       "2018-04-02  0.000000 -0.022337            2.732\n",
       "2018-04-03 -0.008182  0.012615            2.784\n",
       "2018-04-04  0.005500  0.011566            2.788"
      ]
     },
     "execution_count": 5,
     "metadata": {},
     "output_type": "execute_result"
    }
   ],
   "source": [
    "stock_returns = df.copy()\n",
    "stock_returns.dropna(inplace=True)\n",
    "\n",
    "for column in df.columns[:2]:\n",
    "#     stock_returns[column] = np.log(stock_returns[column]) - np.log(stock_returns[column].shift(1))\n",
    "    stock_returns[column] = stock_returns[column].pct_change()\n",
    "\n",
    "stock_returns.head()"
   ]
  },
  {
   "cell_type": "markdown",
   "id": "vietnamese-arizona",
   "metadata": {},
   "source": [
    "### Presenting OLS estimation of beta"
   ]
  },
  {
   "cell_type": "code",
   "execution_count": 6,
   "id": "federal-viking",
   "metadata": {},
   "outputs": [
    {
     "data": {
      "text/html": [
       "<div>\n",
       "<style scoped>\n",
       "    .dataframe tbody tr th:only-of-type {\n",
       "        vertical-align: middle;\n",
       "    }\n",
       "\n",
       "    .dataframe tbody tr th {\n",
       "        vertical-align: top;\n",
       "    }\n",
       "\n",
       "    .dataframe thead th {\n",
       "        text-align: right;\n",
       "    }\n",
       "</style>\n",
       "<table border=\"1\" class=\"dataframe\">\n",
       "  <thead>\n",
       "    <tr style=\"text-align: right;\">\n",
       "      <th></th>\n",
       "      <th>BILI</th>\n",
       "      <th>S&amp;P 500</th>\n",
       "      <th>10-year T-bills</th>\n",
       "      <th>MRP</th>\n",
       "    </tr>\n",
       "    <tr>\n",
       "      <th>Date</th>\n",
       "      <th></th>\n",
       "      <th></th>\n",
       "      <th></th>\n",
       "      <th></th>\n",
       "    </tr>\n",
       "  </thead>\n",
       "  <tbody>\n",
       "    <tr>\n",
       "      <th>2018-03-29</th>\n",
       "      <td>-0.021352</td>\n",
       "      <td>0.013770</td>\n",
       "      <td>2.741</td>\n",
       "      <td>-0.004890</td>\n",
       "    </tr>\n",
       "    <tr>\n",
       "      <th>2018-04-02</th>\n",
       "      <td>0.000000</td>\n",
       "      <td>-0.022337</td>\n",
       "      <td>2.732</td>\n",
       "      <td>-0.040997</td>\n",
       "    </tr>\n",
       "    <tr>\n",
       "      <th>2018-04-03</th>\n",
       "      <td>-0.008182</td>\n",
       "      <td>0.012615</td>\n",
       "      <td>2.784</td>\n",
       "      <td>-0.006045</td>\n",
       "    </tr>\n",
       "    <tr>\n",
       "      <th>2018-04-04</th>\n",
       "      <td>0.005500</td>\n",
       "      <td>0.011566</td>\n",
       "      <td>2.788</td>\n",
       "      <td>-0.007093</td>\n",
       "    </tr>\n",
       "    <tr>\n",
       "      <th>2018-04-05</th>\n",
       "      <td>0.000912</td>\n",
       "      <td>0.006863</td>\n",
       "      <td>2.832</td>\n",
       "      <td>-0.011797</td>\n",
       "    </tr>\n",
       "  </tbody>\n",
       "</table>\n",
       "</div>"
      ],
      "text/plain": [
       "                BILI   S&P 500  10-year T-bills       MRP\n",
       "Date                                                     \n",
       "2018-03-29 -0.021352  0.013770            2.741 -0.004890\n",
       "2018-04-02  0.000000 -0.022337            2.732 -0.040997\n",
       "2018-04-03 -0.008182  0.012615            2.784 -0.006045\n",
       "2018-04-04  0.005500  0.011566            2.788 -0.007093\n",
       "2018-04-05  0.000912  0.006863            2.832 -0.011797"
      ]
     },
     "execution_count": 6,
     "metadata": {},
     "output_type": "execute_result"
    }
   ],
   "source": [
    "risk_free = stock_returns['10-year T-bills'].mean() / 100    # Average bond yield\n",
    "\n",
    "stock_returns.dropna(inplace=True)\n",
    "stock_returns['MRP'] = stock_returns['S&P 500'] - risk_free\n",
    "stock_returns.head()"
   ]
  },
  {
   "cell_type": "code",
   "execution_count": 7,
   "id": "vanilla-behalf",
   "metadata": {},
   "outputs": [
    {
     "data": {
      "text/html": [
       "<table class=\"simpletable\">\n",
       "<caption>OLS Regression Results</caption>\n",
       "<tr>\n",
       "  <th>Dep. Variable:</th>          <td>BILI</td>       <th>  R-squared:         </th> <td>   0.121</td>\n",
       "</tr>\n",
       "<tr>\n",
       "  <th>Model:</th>                   <td>OLS</td>       <th>  Adj. R-squared:    </th> <td>   0.120</td>\n",
       "</tr>\n",
       "<tr>\n",
       "  <th>Method:</th>             <td>Least Squares</td>  <th>  F-statistic:       </th> <td>   100.8</td>\n",
       "</tr>\n",
       "<tr>\n",
       "  <th>Date:</th>             <td>Sat, 06 Mar 2021</td> <th>  Prob (F-statistic):</th> <td>2.62e-22</td>\n",
       "</tr>\n",
       "<tr>\n",
       "  <th>Time:</th>                 <td>18:53:33</td>     <th>  Log-Likelihood:    </th> <td>  1355.9</td>\n",
       "</tr>\n",
       "<tr>\n",
       "  <th>No. Observations:</th>      <td>   731</td>      <th>  AIC:               </th> <td>  -2708.</td>\n",
       "</tr>\n",
       "<tr>\n",
       "  <th>Df Residuals:</th>          <td>   729</td>      <th>  BIC:               </th> <td>  -2699.</td>\n",
       "</tr>\n",
       "<tr>\n",
       "  <th>Df Model:</th>              <td>     1</td>      <th>                     </th>     <td> </td>   \n",
       "</tr>\n",
       "<tr>\n",
       "  <th>Covariance Type:</th>      <td>nonrobust</td>    <th>                     </th>     <td> </td>   \n",
       "</tr>\n",
       "</table>\n",
       "<table class=\"simpletable\">\n",
       "<tr>\n",
       "    <td></td>       <th>coef</th>     <th>std err</th>      <th>t</th>      <th>P>|t|</th>  <th>[0.025</th>    <th>0.975]</th>  \n",
       "</tr>\n",
       "<tr>\n",
       "  <th>const</th> <td>    0.0214</td> <td>    0.002</td> <td>    9.614</td> <td> 0.000</td> <td>    0.017</td> <td>    0.026</td>\n",
       "</tr>\n",
       "<tr>\n",
       "  <th>MRP</th>   <td>    0.9643</td> <td>    0.096</td> <td>   10.041</td> <td> 0.000</td> <td>    0.776</td> <td>    1.153</td>\n",
       "</tr>\n",
       "</table>\n",
       "<table class=\"simpletable\">\n",
       "<tr>\n",
       "  <th>Omnibus:</th>       <td>88.383</td> <th>  Durbin-Watson:     </th> <td>   2.137</td>\n",
       "</tr>\n",
       "<tr>\n",
       "  <th>Prob(Omnibus):</th> <td> 0.000</td> <th>  Jarque-Bera (JB):  </th> <td> 271.041</td>\n",
       "</tr>\n",
       "<tr>\n",
       "  <th>Skew:</th>          <td> 0.580</td> <th>  Prob(JB):          </th> <td>1.39e-59</td>\n",
       "</tr>\n",
       "<tr>\n",
       "  <th>Kurtosis:</th>      <td> 5.748</td> <th>  Cond. No.          </th> <td>    68.5</td>\n",
       "</tr>\n",
       "</table><br/><br/>Notes:<br/>[1] Standard Errors assume that the covariance matrix of the errors is correctly specified."
      ],
      "text/plain": [
       "<class 'statsmodels.iolib.summary.Summary'>\n",
       "\"\"\"\n",
       "                            OLS Regression Results                            \n",
       "==============================================================================\n",
       "Dep. Variable:                   BILI   R-squared:                       0.121\n",
       "Model:                            OLS   Adj. R-squared:                  0.120\n",
       "Method:                 Least Squares   F-statistic:                     100.8\n",
       "Date:                Sat, 06 Mar 2021   Prob (F-statistic):           2.62e-22\n",
       "Time:                        18:53:33   Log-Likelihood:                 1355.9\n",
       "No. Observations:                 731   AIC:                            -2708.\n",
       "Df Residuals:                     729   BIC:                            -2699.\n",
       "Df Model:                           1                                         \n",
       "Covariance Type:            nonrobust                                         \n",
       "==============================================================================\n",
       "                 coef    std err          t      P>|t|      [0.025      0.975]\n",
       "------------------------------------------------------------------------------\n",
       "const          0.0214      0.002      9.614      0.000       0.017       0.026\n",
       "MRP            0.9643      0.096     10.041      0.000       0.776       1.153\n",
       "==============================================================================\n",
       "Omnibus:                       88.383   Durbin-Watson:                   2.137\n",
       "Prob(Omnibus):                  0.000   Jarque-Bera (JB):              271.041\n",
       "Skew:                           0.580   Prob(JB):                     1.39e-59\n",
       "Kurtosis:                       5.748   Cond. No.                         68.5\n",
       "==============================================================================\n",
       "\n",
       "Notes:\n",
       "[1] Standard Errors assume that the covariance matrix of the errors is correctly specified.\n",
       "\"\"\""
      ]
     },
     "execution_count": 7,
     "metadata": {},
     "output_type": "execute_result"
    }
   ],
   "source": [
    "X = sm.add_constant(stock_returns['MRP'])\n",
    "y = stock_returns['BILI']\n",
    "\n",
    "reg_model = sm.OLS(y, X)\n",
    "results = reg_model.fit()\n",
    "results.summary()"
   ]
  },
  {
   "cell_type": "code",
   "execution_count": 8,
   "id": "choice-trustee",
   "metadata": {},
   "outputs": [
    {
     "data": {
      "text/plain": [
       "0.9643434358381104"
      ]
     },
     "execution_count": 8,
     "metadata": {},
     "output_type": "execute_result"
    }
   ],
   "source": [
    "beta = results.params['MRP']\n",
    "beta"
   ]
  },
  {
   "cell_type": "markdown",
   "id": "israeli-embassy",
   "metadata": {},
   "source": [
    "### Using CAPM to calculate the cost of equity"
   ]
  },
  {
   "cell_type": "code",
   "execution_count": 9,
   "id": "charged-freedom",
   "metadata": {},
   "outputs": [
    {
     "data": {
      "text/plain": [
       "0.0012816643100163963"
      ]
     },
     "execution_count": 9,
     "metadata": {},
     "output_type": "execute_result"
    }
   ],
   "source": [
    "market_return = stock_returns['S&P 500'].mean()    # obtain expected return for market portfolio\n",
    "\n",
    "re = risk_free + beta * (market_return - risk_free)\n",
    "re"
   ]
  },
  {
   "cell_type": "code",
   "execution_count": 10,
   "id": "lonely-services",
   "metadata": {},
   "outputs": [
    {
     "data": {
      "text/plain": [
       "0.0006391146064095803"
      ]
     },
     "execution_count": 10,
     "metadata": {},
     "output_type": "execute_result"
    }
   ],
   "source": [
    "market_return"
   ]
  },
  {
   "cell_type": "code",
   "execution_count": 11,
   "id": "brilliant-profile",
   "metadata": {},
   "outputs": [
    {
     "data": {
      "text/plain": [
       "0.018659631128682467"
      ]
     },
     "execution_count": 11,
     "metadata": {},
     "output_type": "execute_result"
    }
   ],
   "source": [
    "risk_free"
   ]
  },
  {
   "cell_type": "code",
   "execution_count": 12,
   "id": "statutory-export",
   "metadata": {},
   "outputs": [
    {
     "data": {
      "text/html": [
       "<div>\n",
       "<style scoped>\n",
       "    .dataframe tbody tr th:only-of-type {\n",
       "        vertical-align: middle;\n",
       "    }\n",
       "\n",
       "    .dataframe tbody tr th {\n",
       "        vertical-align: top;\n",
       "    }\n",
       "\n",
       "    .dataframe thead th {\n",
       "        text-align: right;\n",
       "    }\n",
       "</style>\n",
       "<table border=\"1\" class=\"dataframe\">\n",
       "  <thead>\n",
       "    <tr style=\"text-align: right;\">\n",
       "      <th></th>\n",
       "      <th>BILI</th>\n",
       "      <th>S&amp;P 500</th>\n",
       "      <th>10-year T-bills</th>\n",
       "      <th>MRP</th>\n",
       "    </tr>\n",
       "    <tr>\n",
       "      <th>Date</th>\n",
       "      <th></th>\n",
       "      <th></th>\n",
       "      <th></th>\n",
       "      <th></th>\n",
       "    </tr>\n",
       "  </thead>\n",
       "  <tbody>\n",
       "    <tr>\n",
       "      <th>2018-04-02</th>\n",
       "      <td>0.000000</td>\n",
       "      <td>-0.022337</td>\n",
       "      <td>2.732</td>\n",
       "      <td>-0.040997</td>\n",
       "    </tr>\n",
       "    <tr>\n",
       "      <th>2018-04-06</th>\n",
       "      <td>-0.003643</td>\n",
       "      <td>-0.021920</td>\n",
       "      <td>2.775</td>\n",
       "      <td>-0.040580</td>\n",
       "    </tr>\n",
       "    <tr>\n",
       "      <th>2018-04-11</th>\n",
       "      <td>-0.001739</td>\n",
       "      <td>-0.005525</td>\n",
       "      <td>2.790</td>\n",
       "      <td>-0.024185</td>\n",
       "    </tr>\n",
       "    <tr>\n",
       "      <th>2018-04-13</th>\n",
       "      <td>-0.018933</td>\n",
       "      <td>-0.002887</td>\n",
       "      <td>2.829</td>\n",
       "      <td>-0.021546</td>\n",
       "    </tr>\n",
       "    <tr>\n",
       "      <th>2018-04-19</th>\n",
       "      <td>0.000000</td>\n",
       "      <td>-0.005726</td>\n",
       "      <td>2.914</td>\n",
       "      <td>-0.024386</td>\n",
       "    </tr>\n",
       "    <tr>\n",
       "      <th>...</th>\n",
       "      <td>...</td>\n",
       "      <td>...</td>\n",
       "      <td>...</td>\n",
       "      <td>...</td>\n",
       "    </tr>\n",
       "    <tr>\n",
       "      <th>2021-02-25</th>\n",
       "      <td>0.036967</td>\n",
       "      <td>-0.024479</td>\n",
       "      <td>1.518</td>\n",
       "      <td>-0.043138</td>\n",
       "    </tr>\n",
       "    <tr>\n",
       "      <th>2021-02-26</th>\n",
       "      <td>-0.044524</td>\n",
       "      <td>-0.004750</td>\n",
       "      <td>1.460</td>\n",
       "      <td>-0.023410</td>\n",
       "    </tr>\n",
       "    <tr>\n",
       "      <th>2021-03-02</th>\n",
       "      <td>-0.046520</td>\n",
       "      <td>-0.008081</td>\n",
       "      <td>1.415</td>\n",
       "      <td>-0.026740</td>\n",
       "    </tr>\n",
       "    <tr>\n",
       "      <th>2021-03-03</th>\n",
       "      <td>0.006090</td>\n",
       "      <td>-0.013066</td>\n",
       "      <td>1.470</td>\n",
       "      <td>-0.031726</td>\n",
       "    </tr>\n",
       "    <tr>\n",
       "      <th>2021-03-04</th>\n",
       "      <td>-0.087332</td>\n",
       "      <td>-0.013417</td>\n",
       "      <td>1.550</td>\n",
       "      <td>-0.032077</td>\n",
       "    </tr>\n",
       "  </tbody>\n",
       "</table>\n",
       "<p>336 rows × 4 columns</p>\n",
       "</div>"
      ],
      "text/plain": [
       "                BILI   S&P 500  10-year T-bills       MRP\n",
       "Date                                                     \n",
       "2018-04-02  0.000000 -0.022337            2.732 -0.040997\n",
       "2018-04-06 -0.003643 -0.021920            2.775 -0.040580\n",
       "2018-04-11 -0.001739 -0.005525            2.790 -0.024185\n",
       "2018-04-13 -0.018933 -0.002887            2.829 -0.021546\n",
       "2018-04-19  0.000000 -0.005726            2.914 -0.024386\n",
       "...              ...       ...              ...       ...\n",
       "2021-02-25  0.036967 -0.024479            1.518 -0.043138\n",
       "2021-02-26 -0.044524 -0.004750            1.460 -0.023410\n",
       "2021-03-02 -0.046520 -0.008081            1.415 -0.026740\n",
       "2021-03-03  0.006090 -0.013066            1.470 -0.031726\n",
       "2021-03-04 -0.087332 -0.013417            1.550 -0.032077\n",
       "\n",
       "[336 rows x 4 columns]"
      ]
     },
     "execution_count": 12,
     "metadata": {},
     "output_type": "execute_result"
    }
   ],
   "source": [
    "stock_returns[stock_returns['S&P 500'] < 0.0005]"
   ]
  },
  {
   "cell_type": "code",
   "execution_count": null,
   "id": "centered-butter",
   "metadata": {},
   "outputs": [],
   "source": []
  }
 ],
 "metadata": {
  "kernelspec": {
   "display_name": "Python [conda env:pyfinance] *",
   "language": "python",
   "name": "conda-env-pyfinance-py"
  },
  "language_info": {
   "codemirror_mode": {
    "name": "ipython",
    "version": 3
   },
   "file_extension": ".py",
   "mimetype": "text/x-python",
   "name": "python",
   "nbconvert_exporter": "python",
   "pygments_lexer": "ipython3",
   "version": "3.8.8"
  }
 },
 "nbformat": 4,
 "nbformat_minor": 5
}
