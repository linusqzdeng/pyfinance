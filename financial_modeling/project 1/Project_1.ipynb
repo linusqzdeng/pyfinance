{
 "cells": [
  {
   "cell_type": "markdown",
   "metadata": {},
   "source": [
    "# Machines Manufacturing Captal Budgeting Model (Project 1)\n",
    "\n",
    "Insert your description of the model here and add any additional sections below:\n",
    "- [**Setup**](#Setup): Runs any imports and other setup\n",
    "- [**Inputs**](#Inputs): Defines the inputs for the model"
   ]
  },
  {
   "cell_type": "markdown",
   "metadata": {},
   "source": [
    "## Setup\n",
    "\n",
    "Setup for the later calculations are here. The necessary packages are imported."
   ]
  },
  {
   "cell_type": "code",
   "execution_count": 1,
   "metadata": {},
   "outputs": [],
   "source": [
    "from dataclasses import dataclass\n",
    "import numpy_financial as npf"
   ]
  },
  {
   "cell_type": "markdown",
   "metadata": {},
   "source": [
    "## Inputs\n",
    "\n",
    "All of the inputs for the model are defined here. A class is constructed to manage the data, and an instance of the class containing the default inputs is created."
   ]
  },
  {
   "cell_type": "code",
   "execution_count": 2,
   "metadata": {},
   "outputs": [
    {
     "data": {
      "text/plain": [
       "ModelInputs(n_phones=100000, price_scrap=50000, price_phone=2000, cost_machine_adv=1000000, cogs_phone=250, n_life=10, n_machines=5, d_1=100000, g_d=0.2, max_year=20, interest=0.05, elasticity=100, demand_constant=300000)"
      ]
     },
     "execution_count": 2,
     "metadata": {},
     "output_type": "execute_result"
    }
   ],
   "source": [
    "@dataclass\n",
    "class ModelInputs:\n",
    "    n_phones: float = 100000\n",
    "    price_scrap: float = 50000\n",
    "    price_phone: float = 2000\n",
    "    cost_machine_adv: float = 1000000\n",
    "    cogs_phone: float = 250\n",
    "    n_life: int = 10\n",
    "    n_machines: int = 5\n",
    "    d_1: float = 100000\n",
    "    g_d: float = 0.2\n",
    "    max_year: float = 20\n",
    "    interest: float = 0.05\n",
    "        \n",
    "    # Inputs for bonus problem\n",
    "    elasticity: float = 100\n",
    "    demand_constant: float = 300000\n",
    "        \n",
    "model_data = ModelInputs()\n",
    "model_data"
   ]
  },
  {
   "cell_type": "markdown",
   "metadata": {},
   "source": [
    "## Oulines\n",
    "cashflows = revenues - costs\n",
    "\n",
    "1. Revenues\n",
    "    - sales of phones \n",
    "        - number of goods sold * phones price\n",
    "    - sales of depreciated machines\n",
    "2. Costs\n",
    "    - purchases of machines\n",
    "    - costs of manuefacturing the phones\n",
    "    - costs of advertisement\n",
    "\n",
    "Notes:\n",
    "1. no need to replace the machines (no machines purchases after year 5?)\n",
    "2. number of goods sold is the lower one between demand and production\n",
    "3. launching the ads after machines purchases are done (ads costs are induced every year after year 5?)\n",
    "4. demand grows by g_d = 20% if there is advertisement\n",
    "\n",
    "Logic:\n",
    "for every year:\n",
    "1. identify if there are ads costs. if there are, demand increase\n",
    "2. whether there are scraped machines\n",
    "3. how many phones have been sold"
   ]
  },
  {
   "cell_type": "code",
   "execution_count": 3,
   "metadata": {},
   "outputs": [],
   "source": [
    "# determine the number of operating machines and scraped machines for each year\n",
    "def op_sp_machines(year):\n",
    "    '''\n",
    "    return two lists one contains the number of machines in operation,\n",
    "    the other contains the scraped machines.\n",
    "    '''\n",
    "    \n",
    "    op = []\n",
    "    sp = []\n",
    "    \n",
    "    if year <= model_data.n_machines:    # purchase one machine per year before year 5\n",
    "        op = list(range(year))\n",
    "    elif model_data.n_life >= year > model_data.n_machines:    # always have 5 operating machines between year 5 and 10\n",
    "        op = list(range(model_data.n_machines))\n",
    "    elif model_data.n_machines+model_data.n_life >= year > model_data.n_life:   # one depreciated machine per year between year 11 and 15\n",
    "        sp = list(range(year-model_data.n_life))\n",
    "        op = list(range(model_data.n_machines-len(sp)))\n",
    "    else:    # no operating and scraped machines after year 15\n",
    "        op = []\n",
    "    \n",
    "    return op, sp"
   ]
  },
  {
   "cell_type": "code",
   "execution_count": 4,
   "metadata": {},
   "outputs": [],
   "source": [
    "# determine if there is advertisement\n",
    "def is_ads(year):\n",
    "    '''\n",
    "    return a Bool value indicating whether advertisement exist\n",
    "    '''\n",
    "    \n",
    "    ads = False\n",
    "    \n",
    "    if year > model_data.n_machines:    # having ads every year after year 5\n",
    "        ads = True\n",
    "    \n",
    "    return ads"
   ]
  },
  {
   "cell_type": "code",
   "execution_count": 5,
   "metadata": {},
   "outputs": [],
   "source": [
    "# determine the number of goods sold each year\n",
    "def n_goods_sold(production, demand):\n",
    "    '''\n",
    "    return the lower value between each year's production and demand\n",
    "    '''\n",
    "    return production if production<=demand else demand"
   ]
  },
  {
   "cell_type": "code",
   "execution_count": 6,
   "metadata": {},
   "outputs": [],
   "source": [
    "# calculate the total revenues each year\n",
    "def total_revenues(n_goods_sold, sp_machines):\n",
    "    '''\n",
    "    return the total revenues, which consists of sales from goods and from scraped machines\n",
    "    '''\n",
    "    \n",
    "    sales_from_goods = n_goods_sold * model_data.price_phone\n",
    "    \n",
    "    if sp_machines > 0:\n",
    "        sales_from_machines = model_data.cost_machine_adv\n",
    "    else:\n",
    "        sales_from_machines = 0\n",
    "    \n",
    "    return sales_from_goods+sales_from_machines"
   ]
  },
  {
   "cell_type": "code",
   "execution_count": 7,
   "metadata": {},
   "outputs": [],
   "source": [
    "# calculate the total costs per year\n",
    "def total_costs(n_goods_sold, op_machines, sp_machines, ads_costs):\n",
    "    '''\n",
    "    return the total costs per year.\n",
    "    which consists of ads costs, purchases of machines and phones manufacturing\n",
    "    '''\n",
    "    \n",
    "    if op_machines>0 and sp_machines==0:    # only need to purchase machines when there are less than 5 operating machines and no scraped machines\n",
    "        machines_costs = model_data.cost_machine_adv\n",
    "    else:\n",
    "        machines_costs = 0\n",
    "    \n",
    "    phones_costs = n_goods_sold * model_data.cogs_phone\n",
    "    \n",
    "    return machines_costs+phones_costs+ads_costs"
   ]
  },
  {
   "cell_type": "code",
   "execution_count": 8,
   "metadata": {},
   "outputs": [],
   "source": [
    "# calculate each year's cashflow\n",
    "def cashflow():\n",
    "    '''\n",
    "    return a list that contains each year's cashflows throughout the project years\n",
    "    '''\n",
    "    cashflows = []\n",
    "    demand = model_data.d_1\n",
    "    \n",
    "    for year in range(1, model_data.max_year+1):\n",
    "        op_machines = len(op_sp_machines(year)[0])\n",
    "        sp_machines = len(op_sp_machines(year)[1])\n",
    "        \n",
    "        if is_ads(year) == True:\n",
    "            cost_ads = model_data.cost_machine_adv\n",
    "            demand *= (1+model_data.g_d)\n",
    "        else:\n",
    "            cost_ads = 0\n",
    "        \n",
    "        production = op_machines * model_data.n_phones\n",
    "        goods_sold = n_goods_sold(production, demand)\n",
    "        revenues = total_revenues(goods_sold, sp_machines)\n",
    "        \n",
    "        costs = total_costs(goods_sold, op_machines, sp_machines, cost_ads)\n",
    "        \n",
    "        cash_flow = revenues - costs\n",
    "        cashflows.append(cash_flow)\n",
    "    \n",
    "    return cashflows"
   ]
  },
  {
   "cell_type": "code",
   "execution_count": 9,
   "metadata": {},
   "outputs": [],
   "source": [
    "cash_flows = cashflow() # this should ultimately be set to the list containing your cash flow numbers in each year\n",
    "npv = npf.npv(model_data.interest, cash_flows) # this should ultimately be set to the overally model npv number "
   ]
  },
  {
   "cell_type": "code",
   "execution_count": 10,
   "metadata": {},
   "outputs": [
    {
     "data": {
      "text/plain": [
       "[174000000,\n",
       " 174000000,\n",
       " 174000000,\n",
       " 174000000,\n",
       " 174000000,\n",
       " 208000000.0,\n",
       " 250000000.0,\n",
       " 300400000.0,\n",
       " 360880000.0,\n",
       " 433456000.0,\n",
       " 522547199.9999999,\n",
       " 525000000,\n",
       " 350000000,\n",
       " 175000000,\n",
       " 0,\n",
       " -1000000,\n",
       " -1000000,\n",
       " -1000000,\n",
       " -1000000,\n",
       " -1000000]"
      ]
     },
     "execution_count": 10,
     "metadata": {},
     "output_type": "execute_result"
    }
   ],
   "source": [
    "cash_flows"
   ]
  },
  {
   "cell_type": "code",
   "execution_count": 11,
   "metadata": {},
   "outputs": [
    {
     "data": {
      "text/plain": [
       "2790946673.693438"
      ]
     },
     "execution_count": 11,
     "metadata": {},
     "output_type": "execute_result"
    }
   ],
   "source": [
    "npv"
   ]
  },
  {
   "cell_type": "code",
   "execution_count": 17,
   "metadata": {},
   "outputs": [],
   "source": [
    "import matplotlib.pyplot as plt\n",
    "%matplotlib inline"
   ]
  },
  {
   "cell_type": "code",
   "execution_count": 18,
   "metadata": {},
   "outputs": [
    {
     "data": {
      "image/png": "[encoded data removed]",
      "text/plain": [
       "<Figure size 504x288 with 1 Axes>"
      ]
     },
     "metadata": {
      "needs_background": "light"
     },
     "output_type": "display_data"
    }
   ],
   "source": [
    "plt.figure(figsize=(7, 4))\n",
    "plt.plot(cash_flows)\n",
    "plt.show()"
   ]
  },
  {
   "cell_type": "code",
   "execution_count": null,
   "metadata": {},
   "outputs": [],
   "source": []
  }
 ],
 "metadata": {
  "kernelspec": {
   "display_name": "Python [conda env:pyfinance] *",
   "language": "python",
   "name": "conda-env-pyfinance-py"
  },
  "language_info": {
   "codemirror_mode": {
    "name": "ipython",
    "version": 3
   },
   "file_extension": ".py",
   "mimetype": "text/x-python",
   "name": "python",
   "nbconvert_exporter": "python",
   "pygments_lexer": "ipython3",
   "version": "3.8.8"
  }
 },
 "nbformat": 4,
 "nbformat_minor": 4
}
