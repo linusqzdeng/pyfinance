{
 "metadata": {
  "language_info": {
   "codemirror_mode": {
    "name": "ipython",
    "version": 3
   },
   "file_extension": ".py",
   "mimetype": "text/x-python",
   "name": "python",
   "nbconvert_exporter": "python",
   "pygments_lexer": "ipython3",
   "version": "3.8.0-final"
  },
  "orig_nbformat": 2,
  "kernelspec": {
   "name": "python3",
   "display_name": "Python 3"
  }
 },
 "nbformat": 4,
 "nbformat_minor": 2,
 "cells": [
  {
   "cell_type": "code",
   "execution_count": 1,
   "metadata": {},
   "outputs": [],
   "source": [
    "import pandas as pd\n",
    "import numpy as np\n",
    "import statsmodels.api as sm"
   ]
  },
  {
   "cell_type": "code",
   "execution_count": 2,
   "metadata": {},
   "outputs": [
    {
     "output_type": "execute_result",
     "data": {
      "text/plain": [
       "   cyl    eng   mpg  power   wgt\n",
       "0    8  307.0  18.0    130  3504\n",
       "1    8  350.0  15.0    165  3693\n",
       "2    8  318.0  18.0    150  3436\n",
       "3    8  304.0  16.0    150  3433\n",
       "4    8  302.0  17.0    140  3449"
      ],
      "text/html": "<div>\n<style scoped>\n    .dataframe tbody tr th:only-of-type {\n        vertical-align: middle;\n    }\n\n    .dataframe tbody tr th {\n        vertical-align: top;\n    }\n\n    .dataframe thead th {\n        text-align: right;\n    }\n</style>\n<table border=\"1\" class=\"dataframe\">\n  <thead>\n    <tr style=\"text-align: right;\">\n      <th></th>\n      <th>cyl</th>\n      <th>eng</th>\n      <th>mpg</th>\n      <th>power</th>\n      <th>wgt</th>\n    </tr>\n  </thead>\n  <tbody>\n    <tr>\n      <th>0</th>\n      <td>8</td>\n      <td>307.0</td>\n      <td>18.0</td>\n      <td>130</td>\n      <td>3504</td>\n    </tr>\n    <tr>\n      <th>1</th>\n      <td>8</td>\n      <td>350.0</td>\n      <td>15.0</td>\n      <td>165</td>\n      <td>3693</td>\n    </tr>\n    <tr>\n      <th>2</th>\n      <td>8</td>\n      <td>318.0</td>\n      <td>18.0</td>\n      <td>150</td>\n      <td>3436</td>\n    </tr>\n    <tr>\n      <th>3</th>\n      <td>8</td>\n      <td>304.0</td>\n      <td>16.0</td>\n      <td>150</td>\n      <td>3433</td>\n    </tr>\n    <tr>\n      <th>4</th>\n      <td>8</td>\n      <td>302.0</td>\n      <td>17.0</td>\n      <td>140</td>\n      <td>3449</td>\n    </tr>\n  </tbody>\n</table>\n</div>"
     },
     "metadata": {},
     "execution_count": 2
    }
   ],
   "source": [
    "df = pd.read_excel('C:/Users/dcmn1/Documents/Learning Files/Cass/Term 1/SMM248 Statistics in Finance/week 6/cars.xlsx')\n",
    "\n",
    "df.head()"
   ]
  },
  {
   "cell_type": "code",
   "execution_count": 3,
   "metadata": {},
   "outputs": [
    {
     "output_type": "stream",
     "name": "stdout",
     "text": [
      "                            OLS Regression Results                            \n==============================================================================\nDep. Variable:                    mpg   R-squared:                       0.657\nModel:                            OLS   Adj. R-squared:                  0.655\nMethod:                 Least Squares   F-statistic:                     372.4\nDate:                Sat, 14 Nov 2020   Prob (F-statistic):           4.38e-91\nTime:                        18:58:56   Log-Likelihood:                -1151.5\nNo. Observations:                 392   AIC:                             2309.\nDf Residuals:                     389   BIC:                             2321.\nDf Model:                           2                                         \nCovariance Type:            nonrobust                                         \n==============================================================================\n                 coef    std err          t      P>|t|      [0.025      0.975]\n------------------------------------------------------------------------------\nconst         42.9484      0.779     55.147      0.000      41.417      44.480\npower         -0.0861      0.011     -7.693      0.000      -0.108      -0.064\ncyl           -1.9198      0.253     -7.600      0.000      -2.416      -1.423\n==============================================================================\nOmnibus:                       27.601   Durbin-Watson:                   0.963\nProb(Omnibus):                  0.000   Jarque-Bera (JB):               32.550\nSkew:                           0.614   Prob(JB):                     8.55e-08\nKurtosis:                       3.695   Cond. No.                         380.\n==============================================================================\n\nNotes:\n[1] Standard Errors assume that the covariance matrix of the errors is correctly specified.\n"
     ]
    }
   ],
   "source": [
    "mpg = df['mpg']\n",
    "power = df['power']\n",
    "cyl = df['cyl']\n",
    "\n",
    "X = df[['power', 'cyl']]\n",
    "X = sm.add_constant(X)\n",
    "Y = df['mpg']\n",
    "\n",
    "result = sm.OLS(Y, X).fit().summary()\n",
    "print(result)"
   ]
  },
  {
   "source": [
    "# Estimation of non-linear model"
   ],
   "cell_type": "markdown",
   "metadata": {}
  },
  {
   "cell_type": "code",
   "execution_count": 4,
   "metadata": {},
   "outputs": [
    {
     "output_type": "stream",
     "name": "stdout",
     "text": [
      "                            OLS Regression Results                            \n==============================================================================\nDep. Variable:                    mpg   R-squared:                       0.701\nModel:                            OLS   Adj. R-squared:                  0.699\nMethod:                 Least Squares   F-statistic:                     455.1\nDate:                Sat, 14 Nov 2020   Prob (F-statistic):          1.37e-102\nTime:                        18:58:56   Log-Likelihood:                -1124.8\nNo. Observations:                 392   AIC:                             2256.\nDf Residuals:                     389   BIC:                             2268.\nDf Model:                           2                                         \nCovariance Type:            nonrobust                                         \n==============================================================================\n                 coef    std err          t      P>|t|      [0.025      0.975]\n------------------------------------------------------------------------------\nconst         94.8159      3.608     26.279      0.000      87.722     101.910\nlog_power    -12.5872      1.120    -11.234      0.000     -14.790     -10.384\nlog_cyl       -8.2397      1.273     -6.473      0.000     -10.742      -5.737\n==============================================================================\nOmnibus:                       22.005   Durbin-Watson:                   1.036\nProb(Omnibus):                  0.000   Jarque-Bera (JB):               28.041\nSkew:                           0.476   Prob(JB):                     8.15e-07\nKurtosis:                       3.899   Cond. No.                         88.9\n==============================================================================\n\nNotes:\n[1] Standard Errors assume that the covariance matrix of the errors is correctly specified.\n"
     ]
    }
   ],
   "source": [
    "# lin-log\n",
    "\n",
    "df['log_power'] = np.log(df['power'])\n",
    "df['log_cyl'] = np.log(df['cyl'])\n",
    "\n",
    "X = df[['log_power', 'log_cyl']]\n",
    "X = sm.add_constant(X)\n",
    "Y = df['mpg']\n",
    "result = sm.OLS(Y,X).fit().summary()\n",
    "print(result)"
   ]
  },
  {
   "cell_type": "code",
   "execution_count": 5,
   "metadata": {},
   "outputs": [
    {
     "output_type": "stream",
     "name": "stdout",
     "text": [
      "                            OLS Regression Results                            \n==============================================================================\nDep. Variable:                log_mpg   R-squared:                       0.745\nModel:                            OLS   Adj. R-squared:                  0.744\nMethod:                 Least Squares   F-statistic:                     568.0\nDate:                Sat, 14 Nov 2020   Prob (F-statistic):          4.00e-116\nTime:                        18:58:56   Log-Likelihood:                 134.89\nNo. Observations:                 392   AIC:                            -263.8\nDf Residuals:                     389   BIC:                            -251.9\nDf Model:                           2                                         \nCovariance Type:            nonrobust                                         \n==============================================================================\n                 coef    std err          t      P>|t|      [0.025      0.975]\n------------------------------------------------------------------------------\nconst          4.0018      0.029    136.785      0.000       3.944       4.059\npower         -0.0041      0.000     -9.666      0.000      -0.005      -0.003\ncyl           -0.0875      0.009     -9.221      0.000      -0.106      -0.069\n==============================================================================\nOmnibus:                        1.578   Durbin-Watson:                   0.982\nProb(Omnibus):                  0.454   Jarque-Bera (JB):                1.466\nSkew:                           0.149   Prob(JB):                        0.480\nKurtosis:                       3.029   Cond. No.                         380.\n==============================================================================\n\nNotes:\n[1] Standard Errors assume that the covariance matrix of the errors is correctly specified.\n"
     ]
    }
   ],
   "source": [
    "# log-lin\n",
    "\n",
    "df['log_mpg'] = np.log(df['mpg'])\n",
    "\n",
    "X = df[['power', 'cyl']]\n",
    "X = sm.add_constant(X)\n",
    "Y = df['log_mpg']\n",
    "result = sm.OLS(Y,X).fit().summary()\n",
    "print(result)"
   ]
  },
  {
   "cell_type": "code",
   "execution_count": 6,
   "metadata": {},
   "outputs": [
    {
     "output_type": "stream",
     "name": "stdout",
     "text": [
      "                            OLS Regression Results                            \n==============================================================================\nDep. Variable:                log_mpg   R-squared:                       0.767\nModel:                            OLS   Adj. R-squared:                  0.766\nMethod:                 Least Squares   F-statistic:                     641.2\nDate:                Sat, 14 Nov 2020   Prob (F-statistic):          7.16e-124\nTime:                        18:58:56   Log-Likelihood:                 152.86\nNo. Observations:                 392   AIC:                            -299.7\nDf Residuals:                     389   BIC:                            -287.8\nDf Model:                           2                                         \nCovariance Type:            nonrobust                                         \n==============================================================================\n                 coef    std err          t      P>|t|      [0.025      0.975]\n------------------------------------------------------------------------------\nconst          6.2496      0.139     45.095      0.000       5.977       6.522\nlog_power     -0.5348      0.043    -12.427      0.000      -0.619      -0.450\nlog_cyl       -0.4220      0.049     -8.631      0.000      -0.518      -0.326\n==============================================================================\nOmnibus:                        4.359   Durbin-Watson:                   1.074\nProb(Omnibus):                  0.113   Jarque-Bera (JB):                5.261\nSkew:                           0.077   Prob(JB):                       0.0721\nKurtosis:                       3.546   Cond. No.                         88.9\n==============================================================================\n\nNotes:\n[1] Standard Errors assume that the covariance matrix of the errors is correctly specified.\n"
     ]
    }
   ],
   "source": [
    "# log-log\n",
    "\n",
    "X = df[['log_power', 'log_cyl']]\n",
    "X = sm.add_constant(X)\n",
    "Y = df['log_mpg']\n",
    "result = sm.OLS(Y,X).fit().summary()\n",
    "print(result)"
   ]
  },
  {
   "cell_type": "code",
   "execution_count": 7,
   "metadata": {},
   "outputs": [
    {
     "output_type": "stream",
     "name": "stdout",
     "text": [
      "[[0.11790905 0.08578724]\n [0.08578724 0.0913535 ]]\n0.0911204504149604\n"
     ]
    }
   ],
   "source": [
    "# omit the variable log(power) from log-log model\n",
    "\n",
    "cov_logp_logc = np.cov(df['log_power'], df['log_cyl'])\n",
    "var_cyl = np.var(df['log_cyl'])\n",
    "print(cov_logp_logc)\n",
    "print(var_cyl)"
   ]
  },
  {
   "cell_type": "code",
   "execution_count": 16,
   "metadata": {},
   "outputs": [
    {
     "output_type": "execute_result",
     "data": {
      "text/plain": [
       "   cyl    eng   mpg  power   wgt  log_power   log_cyl   log_mpg\n",
       "0    8  307.0  18.0    130  3504   4.867534  2.079442  2.890372\n",
       "1    8  350.0  15.0    165  3693   5.105945  2.079442  2.708050\n",
       "2    8  318.0  18.0    150  3436   5.010635  2.079442  2.890372\n",
       "3    8  304.0  16.0    150  3433   5.010635  2.079442  2.772589\n",
       "4    8  302.0  17.0    140  3449   4.941642  2.079442  2.833213"
      ],
      "text/html": "<div>\n<style scoped>\n    .dataframe tbody tr th:only-of-type {\n        vertical-align: middle;\n    }\n\n    .dataframe tbody tr th {\n        vertical-align: top;\n    }\n\n    .dataframe thead th {\n        text-align: right;\n    }\n</style>\n<table border=\"1\" class=\"dataframe\">\n  <thead>\n    <tr style=\"text-align: right;\">\n      <th></th>\n      <th>cyl</th>\n      <th>eng</th>\n      <th>mpg</th>\n      <th>power</th>\n      <th>wgt</th>\n      <th>log_power</th>\n      <th>log_cyl</th>\n      <th>log_mpg</th>\n    </tr>\n  </thead>\n  <tbody>\n    <tr>\n      <th>0</th>\n      <td>8</td>\n      <td>307.0</td>\n      <td>18.0</td>\n      <td>130</td>\n      <td>3504</td>\n      <td>4.867534</td>\n      <td>2.079442</td>\n      <td>2.890372</td>\n    </tr>\n    <tr>\n      <th>1</th>\n      <td>8</td>\n      <td>350.0</td>\n      <td>15.0</td>\n      <td>165</td>\n      <td>3693</td>\n      <td>5.105945</td>\n      <td>2.079442</td>\n      <td>2.708050</td>\n    </tr>\n    <tr>\n      <th>2</th>\n      <td>8</td>\n      <td>318.0</td>\n      <td>18.0</td>\n      <td>150</td>\n      <td>3436</td>\n      <td>5.010635</td>\n      <td>2.079442</td>\n      <td>2.890372</td>\n    </tr>\n    <tr>\n      <th>3</th>\n      <td>8</td>\n      <td>304.0</td>\n      <td>16.0</td>\n      <td>150</td>\n      <td>3433</td>\n      <td>5.010635</td>\n      <td>2.079442</td>\n      <td>2.772589</td>\n    </tr>\n    <tr>\n      <th>4</th>\n      <td>8</td>\n      <td>302.0</td>\n      <td>17.0</td>\n      <td>140</td>\n      <td>3449</td>\n      <td>4.941642</td>\n      <td>2.079442</td>\n      <td>2.833213</td>\n    </tr>\n  </tbody>\n</table>\n</div>"
     },
     "metadata": {},
     "execution_count": 16
    }
   ],
   "source": [
    "df.head()"
   ]
  },
  {
   "cell_type": "code",
   "execution_count": 26,
   "metadata": {},
   "outputs": [
    {
     "output_type": "execute_result",
     "data": {
      "text/plain": [
       "   variables          VIF\n",
       "0        cyl  1901.148324\n",
       "1        eng    91.477977\n",
       "2      power   191.109624\n",
       "3        wgt   133.238890\n",
       "4  log_power  2017.559561\n",
       "5    log_cyl  4755.819343\n",
       "6    log_mpg   285.335688"
      ],
      "text/html": "<div>\n<style scoped>\n    .dataframe tbody tr th:only-of-type {\n        vertical-align: middle;\n    }\n\n    .dataframe tbody tr th {\n        vertical-align: top;\n    }\n\n    .dataframe thead th {\n        text-align: right;\n    }\n</style>\n<table border=\"1\" class=\"dataframe\">\n  <thead>\n    <tr style=\"text-align: right;\">\n      <th></th>\n      <th>variables</th>\n      <th>VIF</th>\n    </tr>\n  </thead>\n  <tbody>\n    <tr>\n      <th>0</th>\n      <td>cyl</td>\n      <td>1901.148324</td>\n    </tr>\n    <tr>\n      <th>1</th>\n      <td>eng</td>\n      <td>91.477977</td>\n    </tr>\n    <tr>\n      <th>2</th>\n      <td>power</td>\n      <td>191.109624</td>\n    </tr>\n    <tr>\n      <th>3</th>\n      <td>wgt</td>\n      <td>133.238890</td>\n    </tr>\n    <tr>\n      <th>4</th>\n      <td>log_power</td>\n      <td>2017.559561</td>\n    </tr>\n    <tr>\n      <th>5</th>\n      <td>log_cyl</td>\n      <td>4755.819343</td>\n    </tr>\n    <tr>\n      <th>6</th>\n      <td>log_mpg</td>\n      <td>285.335688</td>\n    </tr>\n  </tbody>\n</table>\n</div>"
     },
     "metadata": {},
     "execution_count": 26
    }
   ],
   "source": [
    "# Variance Inflation Factors\n",
    "import statsmodels.stats.outliers_influence as smoi\n",
    "\n",
    "def calc_vif(X):\n",
    "\n",
    "    # Calculating VIF\n",
    "    vif = pd.DataFrame()\n",
    "    vif[\"variables\"] = X.columns\n",
    "    vif[\"VIF\"] = [smoi.variance_inflation_factor(X.values, i) for i in range(X.shape[1])]\n",
    "\n",
    "    return(vif)\n",
    "\n",
    "exog = df[['log_power', 'log_cyl']]\n",
    "df_ex_mpg = df.drop(['mpg', ], axis=1)\n",
    "\n",
    "calc_vif(df_ex_mpg)"
   ]
  },
  {
   "cell_type": "code",
   "execution_count": 27,
   "metadata": {},
   "outputs": [
    {
     "output_type": "stream",
     "name": "stdout",
     "text": [
      "                            OLS Regression Results                            \n==============================================================================\nDep. Variable:              log_power   R-squared:                       0.683\nModel:                            OLS   Adj. R-squared:                  0.682\nMethod:                 Least Squares   F-statistic:                     841.2\nDate:                Sat, 14 Nov 2020   Prob (F-statistic):           2.14e-99\nTime:                        19:28:05   Log-Likelihood:                 88.617\nNo. Observations:                 392   AIC:                            -173.2\nDf Residuals:                     390   BIC:                            -165.3\nDf Model:                           1                                         \nCovariance Type:            nonrobust                                         \n==============================================================================\n                 coef    std err          t      P>|t|      [0.025      0.975]\n------------------------------------------------------------------------------\nconst          3.0356      0.054     55.795      0.000       2.929       3.143\nlog_cyl        0.9391      0.032     29.004      0.000       0.875       1.003\n==============================================================================\nOmnibus:                        1.773   Durbin-Watson:                   1.440\nProb(Omnibus):                  0.412   Jarque-Bera (JB):                1.561\nSkew:                           0.086   Prob(JB):                        0.458\nKurtosis:                       3.256   Cond. No.                         12.6\n==============================================================================\n\nNotes:\n[1] Standard Errors assume that the covariance matrix of the errors is correctly specified.\n"
     ]
    }
   ],
   "source": [
    "# Klein's rule of thumb\n",
    "\n",
    "X = df['log_cyl']\n",
    "X = sm.add_constant(X)\n",
    "Y = df['log_power']\n",
    "\n",
    "result = sm.OLS(Y, X).fit().summary()\n",
    "print(result)"
   ]
  },
  {
   "source": [
    "## Variance Inflation Factors"
   ],
   "cell_type": "markdown",
   "metadata": {}
  },
  {
   "cell_type": "code",
   "execution_count": 29,
   "metadata": {},
   "outputs": [
    {
     "output_type": "stream",
     "name": "stdout",
     "text": [
      "                            OLS Regression Results                            \n==============================================================================\nDep. Variable:                    mpg   R-squared:                       0.606\nModel:                            OLS   Adj. R-squared:                  0.605\nMethod:                 Least Squares   F-statistic:                     599.7\nDate:                Sat, 14 Nov 2020   Prob (F-statistic):           7.03e-81\nTime:                        19:35:40   Log-Likelihood:                -1178.7\nNo. Observations:                 392   AIC:                             2361.\nDf Residuals:                     390   BIC:                             2369.\nDf Model:                           1                                         \nCovariance Type:            nonrobust                                         \n==============================================================================\n                 coef    std err          t      P>|t|      [0.025      0.975]\n------------------------------------------------------------------------------\nconst         39.9359      0.717     55.660      0.000      38.525      41.347\npower         -0.1578      0.006    -24.489      0.000      -0.171      -0.145\n==============================================================================\nOmnibus:                       16.432   Durbin-Watson:                   0.920\nProb(Omnibus):                  0.000   Jarque-Bera (JB):               17.305\nSkew:                           0.492   Prob(JB):                     0.000175\nKurtosis:                       3.299   Cond. No.                         322.\n==============================================================================\n\nNotes:\n[1] Standard Errors assume that the covariance matrix of the errors is correctly specified.\n"
     ]
    }
   ],
   "source": [
    "# calculate the standard deviation of model dropping log_cyl\n",
    "# R-sqaured_logpower = 0.683\n",
    "\n",
    "X = df['power']\n",
    "X = sm.add_constant(X)\n",
    "Y = df['mpg']\n",
    "\n",
    "result = sm.OLS(Y, X).fit().summary()\n",
    "print(result)"
   ]
  },
  {
   "cell_type": "code",
   "execution_count": 33,
   "metadata": {},
   "outputs": [
    {
     "output_type": "execute_result",
     "data": {
      "text/plain": [
       "3.154574132492114"
      ]
     },
     "metadata": {},
     "execution_count": 33
    }
   ],
   "source": [
    "# calculate the vif for log_power\n",
    "\n",
    "std_1 = 0.043\n",
    "std_2 = 0.006\n",
    "R2_logpower = 0.683\n",
    "\n",
    "vif_logpower = (std_2 ** 2)/(std_1 ** 2)\n",
    "1 / (1 - R2_logpower) \n",
    "# vif_logpower"
   ]
  },
  {
   "cell_type": "code",
   "execution_count": null,
   "metadata": {},
   "outputs": [],
   "source": []
  }
 ]
}